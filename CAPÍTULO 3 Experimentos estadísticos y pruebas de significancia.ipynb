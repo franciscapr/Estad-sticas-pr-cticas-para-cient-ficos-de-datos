{
 "cells": [
  {
   "cell_type": "markdown",
   "id": "7bffc8d3-8021-4abb-bbf7-814e23bed17a",
   "metadata": {},
   "source": [
    "# **CAPÍTULO 3**\n",
    "\n",
    "* Experimentos Estadísticos y Pruebas de Significación\n",
    "    - Pruebas A/B\n",
    "    - ¿Por qué tener un Grupo de Control?\n",
    "    - ¿Por qué solo A/B? ¿Por qué no C, D,...?\n",
    "    - Lecturas Adicionales\n",
    "* Pruebas de Hipótesis\n",
    "    - La Hipótesis Nula\n",
    "    - Hipótesis Alternativa\n",
    "    - Pruebas de Hipótesis Unidireccionales frente a Bidireccionales\n",
    "    - Lecturas Adicionales\n",
    "* Remuestreo\n",
    "    - Prueba de Permutación\n",
    "    - Ejemplo: Atracción en la Web\n",
    "    - Pruebas de Permutación Exhaustivas y Bootstrap\n",
    "    - Pruebas de Permutación: La Esencia para la Ciencia de Datos\n",
    "    - Lecturas Adicionales\n",
    "* Significación Estadística y Valores p\n",
    "    - Valor p\n",
    "    - Alfa\n",
    "    - Errores Tipo 1 y Tipo 2\n",
    "    - Ciencia de Datos y Valores p\n",
    "    - Lecturas Adicionales\n",
    "* Pruebas t\n",
    "    - Lecturas Adicionales\n",
    "* Pruebas Múltiples\n",
    "    - Lecturas Adicionales\n",
    "* Grados de Libertad\n",
    "    - Lecturas Adicionales\n",
    "* ANOVA\n",
    "    - Estadístico F\n",
    "    - ANOVA de Dos Vías\n",
    "    - Lecturas Adicionales\n",
    "* Prueba de Chi-Cuadrado\n",
    "    - Índice | vii\n",
    "    - Prueba de Chi-Cuadrado: Un Enfoque de Remuestreo\n",
    "    - Prueba de Chi-Cuadrado: Teoría Estadística\n",
    "    - Prueba Exacta de Fisher\n",
    "    - Relevancia para la Ciencia de Datos\n",
    "    - Lecturas Adicionales\n",
    "* Algoritmo del Bandido Multibrazo\n",
    "    - Lecturas Adicionales\n",
    "* Potencia y Tamaño de Muestra\n",
    "    - Tamaño de Muestra\n",
    "    - Lecturas Adicionales\n",
    "* Resumen\n"
   ]
  },
  {
   "cell_type": "markdown",
   "id": "fd2ca3f0-d855-4f41-a0d7-a471007ea546",
   "metadata": {
    "jp-MarkdownHeadingCollapsed": true
   },
   "source": [
    "# **Experimentos Estadísticos y Pruebas de Significancia**\n",
    "\n",
    "El diseño de experimentos es fundamental en la práctica de la estadística, con aplicaciones en prácticamente todas las áreas de investigación. El objetivo es diseñar un experimento para confirmar o rechazar una hipótesis. Los científicos de datos a menudo necesitan realizar experimentos continuos, especialmente en relación con la interfaz de usuario y el marketing de productos. Este capítulo revisa el diseño experimental tradicional y aborda algunos desafíos comunes en la ciencia de datos. También cubre algunos conceptos frecuentemente citados en inferencia estadística y explica su significado y relevancia (o falta de relevancia) para la ciencia de datos.\n",
    "\n",
    "Cada vez que encuentres referencias a la significancia estadística, pruebas t, o valores p, típicamente se enmarcan en el contexto del \"pipeline\" clásico de inferencia estadística (ver Figura 3-1). 1.`Este proceso comienza con una hipótesis` (\"el fármaco A es mejor que el fármaco estándar existente\", o \"el precio A es más rentable que el precio B existente\"). Se 2.`diseña un experimento` (puede ser una prueba A/B) para probar la hipótesis, diseñado de tal manera que esperamos entregue resultados concluyentes. Los 3.`datos se recopilan y analizan`, y luego se extrae una 4.`conclusión`. El término `inferencia` *refleja la intención de aplicar los resultados del experimento, que involucran un conjunto limitado de datos, a un proceso o población más amplios*."
   ]
  },
  {
   "attachments": {
    "3e4ea55a-c801-4858-9034-10daacfb8276.png": {
     "image/png": "[encoded data removed]"
    }
   },
   "cell_type": "markdown",
   "id": "c12cc758-b24c-446a-97cb-a5f554cccaf6",
   "metadata": {},
   "source": [
    "![Captura de pantalla 2024-01-29 110509.png](attachment:3e4ea55a-c801-4858-9034-10daacfb8276.png)"
   ]
  },
  {
   "cell_type": "markdown",
   "id": "1e06ee90-2fa9-4ca4-a40e-86dc1f893942",
   "metadata": {},
   "source": [
    "**Figura 3-1**. El \"pipeline\" clásico de inferencia estadística."
   ]
  },
  {
   "cell_type": "markdown",
   "id": "b1325843-d24a-48c9-8cb3-bb4ef1aa5af8",
   "metadata": {},
   "source": [
    "    Formulación de la Hipótesis ---> Diseño experimental ---> Recolección de Datos ---> Inferencia/Conclusión"
   ]
  },
  {
   "cell_type": "markdown",
   "id": "8c9ea273-4e19-4858-a637-471f6dbdc7b9",
   "metadata": {},
   "source": [
    "1. `Formulación de la Hipótesis`: En esta etapa, se plantean las suposiciones o predicciones sobre la relación entre variables que se investigarán. La *hipótesis nula (H0)* establece que no hay efecto o relación entre las variables, mientras que la *hipótesis alternativa (H1)* establece lo contrario. La formulación de hipótesis es crucial para guiar el diseño experimental y la recopilación de datos.\n",
    "\n",
    "2. `Diseño Experimental`: En esta etapa, se planifica cómo se llevara a cabo la investigación para probar las hipótesis planteadas. Esto incluye decidir qué variables se medirán, cómo se asignarán los grupos de tratamiento y control (si es aplicable), y qué tipo de análisis se realizará para evaluar las hipótesis.\n",
    "   \n",
    "3. `Recolección de Datos`: En esta etapa, se recopilan los datos siguiendo el diseño experimental establecido. Esto puede implicar la administración de cuestionarios, la realización de experimentos, la observación de comportamientos, o cualquier otro método de recopilación de datos que sea apropiado para la investigación en cuestión.\n",
    "   \n",
    "4. `Inferencia/Conclusión`: Una vez que se han recopilado los datos, se realiza un análisis estadístico para inferir conclusiones sobre las hipótesis planteadas. Esto puede incluir *pruebas de hipótesis*, *análisis de regresión*, *comparaciones de medias*, entre otros método estadísticos. Basándose en los resultados del análisis, se puede aceptar o rechazar la hipótesis nula, y se llega a conclusiones sobre la relación entre las variables investigadas."
   ]
  },
  {
   "cell_type": "markdown",
   "id": "9b9a24b7-e9ef-4502-b7f7-962441abd0a4",
   "metadata": {
    "jp-MarkdownHeadingCollapsed": true
   },
   "source": [
    "# **Prueba A/B**\n",
    "Una ***prueba A/B*** *<span style=\"color:skyblue\">es un experimento con dos grupos para establecer cuál de dos tratamientos, productos, procedimientos, u otros, es superior</span>*. A menudo, uno de los dos tratamientos es el tratamiento estándar existente, o la ausencia de tratamiento. Si se utiliza un tratamiento estándar (o ninguno), se denomina control. Una hipótesis típica es que un nuevo tratamiento es mejor que el control."
   ]
  },
  {
   "cell_type": "markdown",
   "id": "ad229321-bb22-452c-b454-1b3f07e18186",
   "metadata": {},
   "source": [
    "***Ejemplo***\n",
    "\n",
    "- Imagina que tienes dos versiones diferentes de algo, como dos páginas web o dos anuncios publicitarios. Quieres saber cuál de las dos versiones es mejor, así que realizas un experimento llamado Prueba $A/B$.\n",
    "- En la Prueba $A/B$, divides a tu audiciencia en dos grupos aleatorios: el grupo $A$ y el grupo $B$. Luego, muestras una versión diferente a cada grupo: la versión $A$ a un grupo y la versión $B$ al otro.\n",
    "- Después de un tiempo, recopilas datos para ver cómo respondió cada grupo. Puedes mirar cosas como cuánta gente hizo clic en un enlace o cuánto tiempo pasaron en la página.\n",
    "- El objetivo es ver si hay alguna diferencia significativa entre cómo respondieron los dos grupos. Si una versión tiene un rendimiento significativamente mejor que la otra, eso te dice cuál es la versión que funciona mejor.\n",
    "- Esta prueba es útil para decidir cosas como qué diseño de página web es más atractivo o qué anuncio genera más clics. Es una forma de tomar decisiones basadas en datos en lugar de solo suposiciones."
   ]
  },
  {
   "cell_type": "markdown",
   "id": "31326a63-0851-454b-ac46-be5fec98e36e",
   "metadata": {},
   "source": [
    "### Términos Clave para Pruebas $A/B$\n",
    "\n",
    "**Tratamiento \"Treatment\"**\n",
    "- Algo (fármaco, precio, titular de página web) al cual un sujeto está expuesto.\n",
    " \n",
    "**Grupo de tratamiento \"Treatment group\"**\n",
    "- Un grupo de sujetos expuestos a un tratamiento específico.\n",
    "\n",
    "**Grupo de control \"Control group\"**\n",
    "- Un grupo de sujetos expuestos a ningún tratamiento (o al tratamiento estándar).\n",
    " \n",
    "**Aleatorización \"Randomization\"**\n",
    "- El proceso de asignar aleatoriamente sujetos a tratamientos.\n",
    "\n",
    "**Sujetos \"Subjects\"**\n",
    "- Los elementos (visitantes web, pacientes, etc.) que están expuestos a los tratamientos.\n",
    "\n",
    "**Estadística de prueba \"Test statics\"**\n",
    "- La métrica utilizada para medir el efecto del tratamiento."
   ]
  },
  {
   "cell_type": "markdown",
   "id": "796a8ad1-7b7a-4796-be1c-3d4043d201a3",
   "metadata": {},
   "source": [
    "Las pruebas $A/B$ son comunes en el diseño web y el marketing, ya que los resultados se pueden medir fácilmente. Algunos ejemplos de pruebas $A/B$ incluyen:\n",
    "\n",
    "- Probar dos tratamientos de suelo para determinar cuál produce una mejor germinación de semillas.\n",
    "- Probar dos terapias para determinar cuál suprime el cáncer de manera más efectiva.\n",
    "- Probar dos precios para determinar cuál genera más ganancias netas.\n",
    "- Probar dos titulares de página web para determinar cuál genera más clics.\n",
    "- Probar dos anuncios web para determinar cuál genera más conversiones."
   ]
  },
  {
   "attachments": {
    "e7c2e7cb-d99e-4b35-b412-d27c3e9858b3.png": {
     "image/png": "[encoded data removed]"
    }
   },
   "cell_type": "markdown",
   "id": "48397771-da9f-42d6-afe9-b39b70ce39e9",
   "metadata": {},
   "source": [
    "![Captura de pantalla 2024-01-29 110732.png](attachment:e7c2e7cb-d99e-4b35-b412-d27c3e9858b3.png)"
   ]
  },
  {
   "cell_type": "markdown",
   "id": "08bd7922-0bf2-4c2b-a6c2-6687f1b9fcb0",
   "metadata": {},
   "source": [
    "**Figura 3-2**. Los especialistas en marketing realizan pruebas continuas comparando una presentación web con otra."
   ]
  },
  {
   "cell_type": "markdown",
   "id": "ddb01f19-e0d6-4078-b436-a7b6d752a295",
   "metadata": {},
   "source": [
    "Una prueba $A/B$ adecuada tiene sujetos que pueden ser asignados a uno u otro tratamiento. El sujeto puede ser una persona, una semilla de planta, un visitante web; la clave es que el sujeto esté expuesto al tratamiento. Idealmente, los sujetos se asignan de manera aleatoria a los tratamientos. De esta manera, se sabe que cualquier diferencia entre los grupos de tratamiento se debe a una de dos cosas:\n",
    "- El efecto de los diferentes tratamientos.\n",
    "- La suerte en la asignación aleatoria de sujetos a tratamientos (es decir, la asignación aleatoria puede haber resultado en que los sujetos naturalmente más eficientes estén concentrados en $A$ o $B$).\n",
    "\n",
    "También es necesario prestar atención a la estadística de prueba o métrica que se utiliza para comparar el grupo $A$ con el grupo $B$. Quizás la métrica más común en ciencia de datos es una variable binaria: clic o no clic, comprar o no comprar, fraude o no fraude, y así sucesivamente. Esos resultados se resumirían en una tabla 2x2. La Tabla 3-1 es una tabla 2x2 para una prueba de precio real."
   ]
  },
  {
   "attachments": {
    "50d1514b-7db6-4a4d-8f00-c231dc01394d.png": {
     "image/png": "[encoded data removed]"
    }
   },
   "cell_type": "markdown",
   "id": "842f4a30-816e-434b-9b98-223acba52612",
   "metadata": {},
   "source": [
    "![Captura de pantalla 2024-01-29 110852.png](attachment:50d1514b-7db6-4a4d-8f00-c231dc01394d.png)"
   ]
  },
  {
   "attachments": {},
   "cell_type": "markdown",
   "id": "f495fa9c-7cb8-4920-a819-a7023ddaca0b",
   "metadata": {},
   "source": [
    "**Tabla 3-1**. Tabla 2x2 para los resultados del experimento de comercio electrónico."
   ]
  },
  {
   "cell_type": "markdown",
   "id": "cefb535f-0a54-4129-99d4-49970710a0b2",
   "metadata": {},
   "source": [
    "### $Conversión$\n",
    "\n",
    "- La $conversión$ en el contexto de pruebas $A/B$ y análisis de datos, <span style=\"color:skyblue\">se refiere a la acción deaseada que un usuario realiza en un sitio web o aplicación, como completar una compra, registrarse para recibir un boletín informatico, hacer clic en un enlace, etc.</span>"
   ]
  },
  {
   "cell_type": "markdown",
   "id": "0191f8c4-6a90-4319-b6d3-f4103f790c85",
   "metadata": {},
   "source": [
    "Si la **métrica** (lo que se esta evaluando) es una variable continua (monto de compra, ganancia, etc.) o un conteo (por ejemplo, días en el hospital, páginas visitadas), el resultado podría mostrarse de manera diferente. Si alguien estuviera interesado no en la conversión sino en los ingresos por vista de página, los resultados de la prueba de precio en la Tabla 3-1 podrían verse así en la salida típica de un software por defecto:\n",
    "\n",
    "* Ingresos por vista de página con precio $A$: media $\\bar{x}$ = 3.87, DE = 51.10\n",
    "  - Esto indica los ingresos promedio por cada visita a la página cuando el precio del prodcuto es A.\n",
    "  - $DE$ indica la variabilidad de estos ingresos. Una desviación estándar más alta indica una mayor variabilidad en los ingresos por visita a la página cuando el precio es A-\n",
    "* Ingresos por vista de página con precio $B$: media $\\bar{x}$ = 4.11, DE = 62.98\n",
    "  - Ingresos promedio de la visita a lapágina cuando el precio es B.\n",
    "  - $DE$ presenta una desviación estándar de 62.28.\n",
    "$DE$ se refiere a la desviación estándar de los valores dentro de cada grupo."
   ]
  },
  {
   "cell_type": "markdown",
   "id": "474c2346-0fe3-4274-a83a-80b868befc35",
   "metadata": {},
   "source": [
    "**Nota:**\n",
    "\n",
    "    Solo porque el software estadístico, incluyendo R y Python, genere resultados por defecto, no significa que toda la salida sea útil o relevante. Puedes ver que las desviaciones estándar anteriores no son tan útiles; a primera vista sugieren que numerosos valores podrían ser negativos, cuando ingresos negativos no son factibles. Estos datos consisten en un conjunto pequeño de valores relativamente altos (vistas de página con conversiones) y un gran número de valores 0 (vistas de página sin conversión). Es difícil resumir la variabilidad de tales datos con un solo número, aunque la desviación media absoluta de la media (7.68 para A y 8.15 para B) es más razonable que la desviación estándar."
   ]
  },
  {
   "cell_type": "markdown",
   "id": "363127b4-c86b-40b2-b387-166c366b1683",
   "metadata": {},
   "source": [
    "## **¿Por qué tener un grupo de control?**\n",
    "\n",
    "¿Por qué no omitir el grupo de control y simplemente llevar a cabo un experimento aplicando el tratamiento de interés a un solo grupo y comparar el resultado con la experiencia previa?\n",
    "\n",
    "Sin un grupo de control, no hay garantía de que \"todas las demás cosas sean iguales\" y de que cualquier diferencia sea realmente debido al tratamiento (o al azar). Cuando tienes un grupo de control, está sujeto a las mismas condiciones (excepto por el tratamiento de interés) que el grupo de tratamiento. Si simplemente haces una comparación con la \"línea base\" o la experiencia previa, otros factores, además del tratamiento, podrían ser diferentes.\n",
    "\n",
    "*<span style=\"color:skyblue\">Tener una grupo de control es esencial para asegurarnos de que cualquier cambio que veamos se deba realmente al tratamiento que estamos probando y no a otras razones.</span>* *Sin un grupo de control, no podemos estar seguros de que cualquier diferencia que observamos se debe al tratamiento o simplemente al azar. El grupo de control actúa como una línea de base, lo que nos permite comparar cómo se comporta el grupo que recibe el tratamiento con un grupo que no lo recibe, pero que está expuesto a las mismas condiciones en todos los demás aspectos.* Esto nos ayuda a descartar otros factores que podrían influir en los resultados y nos da una imagen más clara y confiable de los efectos reales del tratamiento."
   ]
  },
  {
   "cell_type": "markdown",
   "id": "3a20d524-80ce-4b30-a9b1-62ac6463a185",
   "metadata": {},
   "source": [
    "### **$Cegamiento\\ en\\ los\\ estudios$**\n",
    "\n",
    "En los estudios, el ***blinding*** (*enmascaramiento o cegamiento*) se refiere a la práctica de mantener a los sujetos de estudio sin saber si están recibiendo el tratamiento $A$ o el tratamiento $B$. La conciencia de recibir un tratamiento específico puede afectar la respuesta. \n",
    "    \n",
    "Un estudio con *cegamiento doble* implica que tanto los investigadores como los facilitadores (por ejemplo, médicos y enfermeros en un estudio médico) también desconocen qué sujetos están recibiendo qué tratamiento. \n",
    "\n",
    "El *enmascaramiento* no es posible cuando la naturaleza del tratamiento es transparente, por ejemplo, la terapia cognitiva a través de una computadora versus un psicólogo."
   ]
  },
  {
   "cell_type": "markdown",
   "id": "4a75b530-94cb-4edf-8811-6528749d3a5c",
   "metadata": {},
   "source": [
    "Las pruebas $A/B$ en la ciencia de datos se utilizan típicamente en un contexto web. Los tratamientos pueden ser el diseño de una página web, el precio de un producto, la redacción de un titular, u otro elemento. Se requiere cierto cuidado para preservar los principios de la ***aleatorización***. Normalmente, el sujeto en el experimento es el visitante web, y los resultados que nos interesa medir son clics, compras, duración de la visita, número de páginas visitadas, si se visita una página específica, entre otros. En un experimento $A/B$ estándar, es necesario decidir de antemano una métrica (para evaluar). Pueden recopilarse múltiples métricas de comportamiento y ser de interés, pero si se espera que el experimento conduzca a una decisión entre el tratamiento $A$ y el tratamiento $B$, es necesario establecer de antemano una única métrica o estadístico de prueba. Seleccionar un estadístico de prueba después de que se haya realizado el experimento abre la puerta al sesgo del investigador."
   ]
  },
  {
   "cell_type": "markdown",
   "id": "1fec7926-bd45-4dee-9b64-784d5220ecee",
   "metadata": {},
   "source": [
    "### $Métrica$\n",
    "\n",
    "Una ***métrica*** <span style=\"color:skyblue\">es una medida cuantitativa que se utiliza para evaluar y cuantificar un aspecto específico de un proceso, sistema, producto o servicio. Son herramientas clave para medir el desempeño, entender el comportamiento de los usuarios, tomar decisiones informadas, y evaluar el éxito de las estrategias implementadas.</span> \n",
    "    \n",
    "- ***Métricas de negocio***: Ingresos, ganancias, margen de beneficio, costo por adquisición de clientes (CA), valor de vida del cliente (LTV), tasa de conversión, etc.\n",
    "\n",
    "- ***Métricas de marketing***: Tasa de clics (CTR), tasa de apertura, tasa de rebote, coste por clic (CPC), retorno de la inversión en publicidad (ROI), etc.\n",
    "\n",
    "- ***Métricas de producto***: Tiempo medio de carga, número de usuarios activos diarios (DAU), tasa de retención de usuarios, puntuación de satisfacción del clinete (CSAT), etc.\n",
    "\n",
    "- ***Métricas de tecnología***: Tiempo de actividad del servicio, tiempo de respuesta del servidor, uso de memoria, tasa de error, etc."
   ]
  },
  {
   "cell_type": "markdown",
   "id": "24f740e9-8bf6-4a84-a04c-469e2a088702",
   "metadata": {},
   "source": [
    "## **¿Por qué solo $A/B$? ¿Por qué no $C$, $D$,…?**\n",
    "\n",
    "Las pruebas $A/B$ son populares en los mundos del marketing y del comercio electrónico, pero están lejos de ser el único tipo de experimento estadístico. Se pueden incluir tratamientos adicionales, y los sujetos pueden tener mediciones repetidas. Los ensayos farmacéuticos, donde los sujetos son escasos, costosos y se adquieren con el tiempo, a veces se diseñan con múltiples oportunidades para detener el experimento y llegar a una conclusión.\n",
    "\n",
    "Los diseños experimentales estadísticos tradicionales se centran en responder una pregunta estática sobre la eficacia de tratamientos específicos. Los científicos de datos están menos interesados en la pregunta: \n",
    "\n",
    "    \"¿Es la diferencia entre el precio A y el precio B estadísticamente significativa?\" \n",
    "    \n",
    "que en la pregunta: \n",
    "    \n",
    "    \"¿Cuál, de entre múltiples precios posibles, es el mejor?\" \n",
    "\n",
    "Para esto, se utiliza un tipo relativamente nuevo de diseño experimental: el `\"multi-arm bandit\"`."
   ]
  },
  {
   "cell_type": "markdown",
   "id": "2f2a5e68-23ef-4577-8364-2cbbafacec54",
   "metadata": {},
   "source": [
    "### $Obtener\\ Permiso$\n",
    "\n",
    "    En investigaciones científicas y médicas que involucran a sujetos humanos, suele ser necesario obtener su permiso, así como obtener la aprobación de un comité de revisión institucional. Sin embargo, en los experimentos comerciales realizados como parte de operaciones continuas, esto casi nunca se hace. En la mayoría de los casos (por ejemplo, experimentos de precios o experimentos sobre qué titular mostrar o qué oferta realizar), esta práctica es ampliamente aceptada. Sin embargo, Facebook se encontró en problemas con esta aceptación general en 2014 cuando experimentó con el tono emocional en los feeds de noticias de los usuarios. Facebook utilizó análisis de sentimientos para clasificar las publicaciones en los feeds de noticias como positivas o negativas, y luego alteró el equilibrio entre positivas y negativas en lo que mostraba a los usuarios. Algunos usuarios seleccionados al azar experimentaron más publicaciones positivas, mientras que otros experimentaron más publicaciones negativas. Facebook encontró que los usuarios que tenían un feed de noticias más positivo eran más propensos a publicar de manera positiva ellos mismos, y viceversa. Sin embargo, la magnitud del efecto fue pequeña y Facebook recibió muchas críticas por llevar a cabo el experimento sin el conocimiento de los usuarios. Algunos usuarios especularon que Facebook podría haber empujado a algunos usuarios extremadamente deprimidos al límite si recibían la versión negativa de su feed."
   ]
  },
  {
   "cell_type": "markdown",
   "id": "1df30f77-ae5f-406d-b2bc-4cdec4ad9722",
   "metadata": {},
   "source": [
    "### Ideas Clave\r\n",
    "\r\n",
    "- Los sujetos son asignados a dos (o más) grupos que son tratados de manera exactamente igual, excepto que el tratamiento bajo estudio difiere de un grupo a otro.\r\n",
    "- Idealmente, los sujetos son asignados aleatoriamente a los grupos."
   ]
  },
  {
   "cell_type": "markdown",
   "id": "2b4d5e0e-06cf-48e2-bda7-321ed121920c",
   "metadata": {},
   "source": [
    "### Lecturas Adicionales\n",
    "\n",
    "- Las comparaciones entre dos grupos (pruebas $A/B$) son fundamentales en la estadística tradicional, y prácticamente cualquier texto introductorio de estadística abordará extensamente los principios de diseño y los procedimientos de inferencia. Para una discusión que sitúa las pruebas $A/B$ en un contexto más relacionado con la ciencia de datos y utiliza remuestreo, consulta *\"Introductory Statistics and Analytics: A Resampling Perspective\"* de Peter Bruce (Wiley, 2014).\n",
    "- Para las pruebas web, los aspectos logísticos de las pruebas pueden ser tan desafiantes como los estadísticos. Un buen lugar para comenzar es la sección de ayuda de Google Analytics sobre experimentos.\n",
    "- Ten cuidado con los consejos que encuentres en las guías ubicuas sobre pruebas $A/B$ que ves en la web, como estas palabras en una guía: \"Espera alrededor de 1,000 visitantes en total y asegúrate de ejecutar la prueba durante una semana\". Reglas generales como estas no son estadísticamente significativas."
   ]
  },
  {
   "cell_type": "markdown",
   "id": "6c2ae71d-35b3-442c-9b69-c18e6215424c",
   "metadata": {
    "jp-MarkdownHeadingCollapsed": true
   },
   "source": [
    "# **Pruebas de Hipótesis**\n",
    "\n",
    "Las pruebas de *$hipótesis$*, también llamadas *$pruebas\\ de\\ significancia$*, son ubicuas en el análisis estadístico tradicional de la investigación publicada. *<span style=\"color:skyblue\">Su propósito es ayudarte a determinar si el azar podría ser responsable de un efecto observado</span>*.\n",
    "\n",
    "- Una prueba de hipótesis es una procedimiento estadístico que se utiliza para tomar decisiones sobre afirmaciones o suposiciones acerca de una población basada en la evidencia de una muestra de datos."
   ]
  },
  {
   "cell_type": "markdown",
   "id": "a1f80f7b-c655-4867-8685-4e86f35da297",
   "metadata": {},
   "source": [
    "## Paso básicos de una prueba de hipótesis:\n",
    "1. Planteamiento de hipótesis:\n",
    "   - La hipótesis nula (H0) y la hipótesis alternatica (H1).\n",
    "   - La hipótesis nula (H0) generalmente establece que no hay diferencias o que no hay efecto. Es la afirmación que se somete a prueba.\n",
    "   - La hipótesis alternativa (H1) establece lo contrario de la hipótesis nula; es decir, que ahy una diferencia o efecto.\n",
    "     \n",
    "2. Selección de nivel de significancia:\n",
    "   - El nivel de significancia, denotado por $\\alpha$, es la probabilidad de rechazar la hipótesis nula cunado es verdadera. Es típicamente establecido antes de realizar la prueba y comúnmnete se utiliza un valor estándar como 0.05 o 0.01.\n",
    "     \n",
    "3. Selección de prueba estadística:\n",
    "   - Se elige una prueba estadística adecuada basada en el tipo de datos y el diseño experimental. Pueden ser pruebas paramétricas o no paramétricas, dependiendo de si los datos cumplen con ciertas suposiciones sobre su distribución.\n",
    "     \n",
    "4. Recopilación y análisis de datos:\n",
    "   - Se recopilan los datos relevantes y se calculan los estadísticos necesarios para llevar a cabo la prueba.\n",
    "     \n",
    "5. Cálculo del valor:\n",
    "   - El valor p es la probabilidad de observar un resultado igual o más extremos que el obtenido, asuminedo que la hipótesis nula es verdadera. Se compara este valor p con el nivel de significancia $\\alpha$.\n",
    "     \n",
    "6. Toma de decisión:\n",
    "   - Si el valor p es menor que el nivel de significancia $\\alpha$, se rechaza la hipótesis nula en favor a la hipótesis alternativa.\n",
    "   - Si el valor p es mayor que $\\alpha$, no se rechaza la hipótesis nula.\n",
    "     \n",
    "7. Interpretación de resultados:\n",
    "   - Se interpreta el resultado de la prueba en términos del problema de investigación y se concluye sobre la validez o invalidez de la hipótesis nula.\n",
    "\n",
    "- La prueba de hipótesis no prueba directamente la verdad de ninguna de las hipótesis. Más bien, proporciona evidencia sobre la probabilidad de que la hipótesis nula sea verdadera dadas las observaciones en la muestra. Por lo tanto, siempre hay cierto grado de incertidumbre asociado con la toma de decisiones basadas en pruebas de hipótesis."
   ]
  },
  {
   "cell_type": "markdown",
   "id": "54a8bdf5-13e9-48f2-9e06-3bca5b07e66c",
   "metadata": {},
   "source": [
    "Las ***pruebas de hipótesis*** *<span style=\"color:skyblue\">nos ayudan a decidir si los resultados que estamos viendo son reales o simplemente podrían haber ocurrido por azar.</span>* Es una forma de hacer que las conclusiones sean más confiables y representadas por evidencia cientifica.\n",
    "    \n",
    "    1. Imagina que tienen una idea o una suposición sobre algo en tu investigación, como \"un nuevo medicamento reduce la presión arterial\". Esta idea se llama `hipótesis`.\n",
    "       \n",
    "    2. Para probar si tu hipótesis es cierta o no, realizas una `prueba de hipótesis`. Básicamente, lo que haces es comparar dos escenarios: uno en el que tu hipótesis es cierta y otro en el que no lo es.\n",
    "    \n",
    "    3. Primero, se establecen dos hipótesis:\n",
    "          - La `hipótesis nula (H0)`, que es como decir \"no hay efecto\" o \"no hay diferencia\".\n",
    "          - La `hipótesis alternativa (H1)`, sugiere que hay algún tipo de efecto o diferencia.\n",
    "    \n",
    "    4. Luego, `recolectas datos` y utilizas estadísticas para determinar cuál de estas hipótesis parece más probable. Si tus datos muestran una diferencia lo suficientemente grande entre los grupos que estás comparando, rechazas la hipótesis nula y aceptas la hipótesis alternativa."
   ]
  },
  {
   "cell_type": "markdown",
   "id": "6a84a012-3050-43aa-b02a-427f849633bc",
   "metadata": {},
   "source": [
    "## Pruebas de Hipótesis en Ciencia de Datos\n",
    "\n",
    "En ciencia de datos, se utilizan varias pruebas de hipótesis dependiendo del tipo de datos y el objetivo del análisis. Algunas de las pruebas de hipótesis más comunes en ciencia de datos incluyen:\n",
    "\n",
    "1. Prueba t de Student:\n",
    "   - Se utiliza para determinar si hay una diferencia significativa entre las medias de dos grupos independientes. Es útil cuando se comparan promedios de dos muestras.\n",
    "\n",
    "2. Prueba ANOVA (Análisis de Varianza):\n",
    "   - Es una extensión de la prueba t que se utiliza para comparar las medias de más de dos grupos independientes. Se emplea para determinar si hay alguna diferencia significativa entre los grupos.\n",
    "\n",
    "3. Prueba chi-cuadrado (x2):\n",
    "   - Se utiliza para probar la independencia entre dos variables categóricas. Es útil para determinar si existe una asociación significativa entre dos variables categóricas en una población.\n",
    "\n",
    "4. Prueba de Koñmogorov-Smirnos:\n",
    "   - Se utiliza para determinar si una muestra proviene de una población con una distribución especifica. Es útil para verificar la normalidad de los datos.\n",
    "\n",
    "5. Prueba de normalidad de Shapiro-Wilk:\n",
    "   - Se utiliza para determinar si una muestra de datos proviene de una población con una distribución normal. Es especialmente útil cuando se trabaja con muestras pequeñas.\n",
    "\n",
    "6. Prueba de correlación de Pearson:\n",
    "   - Se utiliza para evaluar la relación lineal entre dos variables continuas. Es útil para determinar si hay un asociación significativa entre dos variables.\n",
    "  \n",
    "7. Prueba de correlación de Spearman:\n",
    "   - Similar a la prueba de correlación de Pearson, pero se utiliza cuandos los datos no siguen una distribución normal o cuando la relación no es lineal.\n",
    "  \n",
    "8. Prueba $A/B$:\n",
    "   - Permite comparar dos versiónes o tratamientos diferentes."
   ]
  },
  {
   "cell_type": "markdown",
   "id": "d877f382-f0a4-4289-81c5-d55e3c48c49a",
   "metadata": {},
   "source": [
    "### Términos Clave para Pruebas de Hipótesis\n",
    "\n",
    "**Hipótesis nula (Null hypothesis)**\n",
    "- La hipótesis que sostiene que la casualidad es la responsable.\n",
    "  \n",
    "**Hipótesis alternativa (Alternative hypothesis)**\n",
    "- Contrapunto a la hipótesis nula (lo que esperas demostrar).\n",
    "\n",
    "**Prueba unidireccional (One-way test)**\n",
    "- Prueba de hipótesis que cuenta los resultados aleatorios solo en una dirección.\n",
    "\n",
    "**Prueba bidireccional (Two-way test)**\n",
    "- Prueba de hipótesis que cuenta los resultados aleatorios en dos direcciones."
   ]
  },
  {
   "cell_type": "markdown",
   "id": "a26f7bba-3c8f-4397-9c92-bbc90210bbaa",
   "metadata": {},
   "source": [
    "Una prueba $A/B$ se construye típicamente con una $hipótesis$ en mente. Por ejemplo, la **hipótesis** *podría ser que el precio $B$ produce mayores ganancias*. ¿Por qué necesitamos una hipótesis? ¿Por qué no simplemente observar el resultado del experimento y elegir el tratamiento que funcione mejor?\n",
    "\n",
    "La respuesta radica en la tendencia de la mente humana a subestimar el alcance del comportamiento aleatorio natural. Una manifestación de esto es la incapacidad para anticipar eventos extremos, o los llamados \"cisnes negros\". Otra manifestación es la tendencia a malinterpretar eventos aleatorios como si tuvieran patrones de cierta importancia. Las ***pruebas estadísticas*** de hipótesis fueron inventadas como una manera de proteger a los investigadores para que no fueran engañados por el azar."
   ]
  },
  {
   "cell_type": "markdown",
   "id": "26a9fb20-338b-4ca6-8cd4-443c17e533f6",
   "metadata": {},
   "source": [
    "### Malinterpretación de la Aleatoriedad\n",
    "\n",
    "    Puedes observar la tendencia humana a subestimar la aleatoriedad en este experimento. Pídele a varios amigos que inventen una serie de 50 lanzamientos de moneda: pídeles que escriban una serie de H (caras) y T (cruces) al azar. Luego, pídeles que realmente lancen una moneda 50 veces y escriban los resultados. Pídeles que pongan los resultados reales de lanzamiento de moneda en un montón y los resultados inventados en otro. Es fácil decir cuáles son los resultados reales: los reales tendrán secuencias más largas de H o T. En un conjunto de 50 lanzamientos reales de moneda, no es inusual ver cinco o seis H o T seguidas. Sin embargo, cuando la mayoría de nosotros inventamos lanzamientos de moneda al azar y hemos obtenido tres o cuatro H seguidas, nos decimos a nosotros mismos que, para que la serie parezca aleatoria, mejor cambiamos a T.\n",
    "    \n",
    "    La otra cara de esta moneda, por así decirlo, es que cuando vemos el equivalente del mundo real de seis H seguidas (por ejemplo, cuando un titular supera a otro en un 10%), estamos inclinados a atribuirlo a algo real, no solo al azar."
   ]
  },
  {
   "cell_type": "markdown",
   "id": "2948e893-0ca8-40fc-b514-43812553fba3",
   "metadata": {},
   "source": [
    "En una prueba $A/B$ correctamente diseñada, recopilas datos sobre los tratamientos $A$ y $B$ de manera que cualquier diferencia observada entre $A$ y $B$ debe deberse a:\n",
    "\n",
    "- Azar en la asignación de sujetos.\n",
    "- Una diferencia real entre $A$ y $B$.\n",
    "\n",
    "Una ***prueba de hipótesis estadística*** es un análisis adicional de una prueba $A/B$, o de cualquier experimento aleatorio, para evaluar si el azar es una explicación razonable para la diferencia observada entre los grupos $A$ y $B$."
   ]
  },
  {
   "cell_type": "markdown",
   "id": "eaa028f9-8aa4-414d-8c85-dd46619568f9",
   "metadata": {},
   "source": [
    "## **La Hipótesis Nula**\n",
    "\n",
    "Las ***pruebas de hipótesis*** siguen la siguiente lógica: *\"Dada la tendencia humana a reaccionar ante comportamientos inusuales pero aleatorios e interpretarlos como algo significativo y real, en nuestros experimentos requeriremos pruebas de que la diferencia entre los grupos es más extrema de lo que el azar podría razonablemente producir\"*. Esto implica una suposición básica de que los tratamientos son equivalentes y que cualquier diferencia entre los grupos se debe al azar. Esta suposición básica se denomina ***hipótesis nula***. Nuestra esperanza, entonces, es que podamos demostrar que la ***hipótesis nula*** es incorrecta y mostrar que los resultados para los grupos $A$ y $B$ son más diferentes de lo que el azar podría producir.\n",
    "\n",
    "Una forma de hacer esto es mediante un ***procedimiento de permutación de remuestreo***, *<span style=\"color:skyblue\">en el cual mezclamos los resultados de los grupos $A$ y $B$ y luego distribuimos repetidamente los datos en grupos de tamaños similares, observando con qué frecuencia obtenemos una diferencia tan extrema como la diferencia observada</span>. Los resultados combinados y mezclados de los grupos $A$ y $B$, y el procedimiento de remuestreo a partir de ellos, encarnan la hipótesis nula de que los grupos $A$ y $B$ son equivalentes e intercambiables, y se denomina el modelo nulo."
   ]
  },
  {
   "cell_type": "markdown",
   "id": "20734d17-e5cc-4ee6-9d66-deeaa9577d54",
   "metadata": {},
   "source": [
    "## Modelo Nulo\n",
    "\n",
    "El modelos nulos es una concepto utilizado en estadística y análisis de datos que establece una base de comparación contra la cual se evalúa la validez de un modelo alternativp. En esencia, el modelo nulo representa la ausencia de un efecto o relación que se está investigando, y proporciona una marco para evaluar si los resultados observados son significativos o simplemnte el resulatdo del azar.\n",
    "\n",
    "1. Concepto fundamental: El modelo nulo parte del supuesto de que no hay efecto, diferencias o relación entre las variables de interés en el estudio. En otras palabras, considera que cualquier resultado observado es puramente el resultado del azar o de variaciones aleatorias en los datos.\n",
    "\n",
    "2. Formulación de hipótesis: En términos de pruebas de hipótesis, el modelo nulos se formula como la hipótesis nula (H0). Esta hipótesis afirma que no hay diferencia o relación entre las variables de estudio, o que los datos se distribuyen de acuerdo con un distribución especifica (por ejemplo, una distribución normal en el caso de pruebas de normalidad).\n",
    "\n",
    "3. Punto de referencia: El modelo nulo sirve como punto de referencia o base de comparación para evaluar la significncia de los resultados obtenido con un modelo alterantivo. Se compara la evidencia observada en los datos con lo que se esperaría bajo el supuesto del modelo nulo.\n",
    "\n",
    "4. Evaluación de la significancia: El análisis de datos implica comparar los resultados observados con lo que se esperaría bajo el modelo nulo. Se utilizan método estadísticos para calcular la probabilidad de observar los datos si el modelo nulo fuera verdadero. Esta probabilidad se conoce como valor p.\n",
    "\n",
    "5. Interpretación: Si el valor p, es suficientemente pequeño (generalmente menor que un umbral predeterminado, como 0.05), se rechaza la hipótesis nula en favor del modelo alternatico. Esto sugiere que los resultados observados son estadísticamente significtivos y no pueden atribuirse simplemente al azar.\n",
    "\n",
    "6. Importancia: El modelo nulo es fundamental en la investigación científica y análisis de datos, ya que ayuda a distinguir entre efectos genuinos y variaciones aleatorias en los datos. Porporciona una marco sólido para la toma de decisiones basadas en eviencia y para la interpretación de resultados en diversos campos, desde la medicina hasta la ciencia de datos."
   ]
  },
  {
   "cell_type": "markdown",
   "id": "50d0ba1f-68df-4c48-82e7-d2f4109543f9",
   "metadata": {},
   "source": [
    "## **Hipótesis Alternativa**\n",
    "\n",
    "Las pruebas de hipótesis, por su naturaleza, no solo involucran una hipótesis nula, sino también una ***hipótesis alternativa compensadora***. Aquí tienes algunos ejemplos:\n",
    "\n",
    "- **Nula** = \"ninguna diferencia entre las medias del grupo $A$ y el grupo $B$\"; --- **Alternativa** = \"$A$ es diferente de $B$\" (puede ser mayor o menor).\n",
    "- **Nula** = \"$A ≤ B$\"; --- **Alternativa** = \"$A > B$\".\n",
    "- **Nula** = \"$B$ no es $X%$ mayor que $A$\"; --- **Alternativa** = \"$B$ es $X%$ mayor que $A$\".\n",
    "\n",
    "Tomadas en conjunto, las hipótesis nula y alternativa deben tener en cuenta todas las posibilidades. La naturaleza de la hipótesis nula determina la estructura de la prueba de hipótesis."
   ]
  },
  {
   "cell_type": "markdown",
   "id": "560091af-e8c9-4509-a178-8a81c4b08ed6",
   "metadata": {},
   "source": [
    "## **Pruebas de Hipótesis Unidireccionales frente a Bidireccionales**\n",
    "\n",
    "A menudo, en una prueba $A/B$, estás probando una nueva opción (digamos, $B$) contra una opción predeterminada establecida ($A$), y la presunción es que te quedarás con la opción predeterminada a menos que la nueva opción demuestre de manera definitiva ser mejor. En tal caso, deseas una prueba de hipótesis que te proteja de ser engañado por el azar en la dirección que favorece a $B$. No te importa ser engañado por el azar en la otra dirección, porque te quedarías con $A$ a menos que $B$ demuestre ser definitivamente mejor. Por lo tanto, deseas una ***hipótesis alternativa direccional*** (*$B$ es mejor que $A$*). En tal caso, usas una ***prueba de hipótesis unidireccional*** (o de una cola). Esto significa que los resultados extremos del azar en solo una dirección cuentan hacia el ***valor p***.\n",
    "\n",
    "Si deseas una prueba de hipótesis que te proteja de ser engañado por el azar en ambas direcciones, la ***hipótesis alternativa bidireccional*** ($A$ es diferente de $B$; podría ser mayor o menor). En tal caso, usas una prueba de ***hipótesis bidireccional*** (o de dos colas). Esto significa que los resultados extremos del azar en ambas direcciones cuentan hacia el ***valor p***.\n",
    "\n",
    "Una prueba de ***hipótesis unidireccional*** a menudo se ajusta a la naturaleza de la toma de decisiones $A/B$, en la que se requiere una decisión y una opción generalmente se asigna como \"predeterminada\" a menos que la otra demuestre ser mejor. Sin embargo, el software, incluyendo R y scipy en Python, generalmente proporciona una prueba de dos colas en su salida predeterminada, y muchos estadísticos optan por la prueba de dos colas más conservadora solo para evitar discusiones. La elección entre una y dos colas es un tema confuso y no muy relevante para la ciencia de datos, donde la precisión de los cálculos del valor p no es muy importante.\n",
    "\n",
    "- ***Ejemplo***\n",
    "    - ***Prueba de Hipótesis Unidireccional***: Supongamos que estamos probando la hipótesis de que la tasa de clics en la versión $B$ del sitio web es mayor que en la versión $A$. En este caso, estamos interesados en probar si la versión $B$ es definitivamente mayor que la versión $A$.\n",
    "      \n",
    "    - Hipótesis nula (H0): La tasa de clics en la versión $B$ no es significativamente mayor que en la versión $A$.\n",
    "    - Hipótesis alterantiva (H1): La tasa de clics en la versión $B$ es significativamente mayor que en la versión $A$.\n",
    "\n",
    "Si utilizamos una prueba de ***hipótesis unidireccional***, solo nos interesarán los resultados que indiquen que la versión $B$ tiene una tasa de clis significativamente mayor que la versión $A$."
   ]
  },
  {
   "cell_type": "code",
   "execution_count": 3,
   "id": "a08cf820-45ef-4662-b4b8-38cb925dac26",
   "metadata": {},
   "outputs": [],
   "source": [
    "# Modulo de scipy para estadisticas\n",
    "import scipy.stats as stats"
   ]
  },
  {
   "cell_type": "code",
   "execution_count": 4,
   "id": "a4602c02-8230-4a21-abad-5a6dc6b58c7e",
   "metadata": {},
   "outputs": [
    {
     "name": "stdout",
     "output_type": "stream",
     "text": [
      "No se rechaza la hipótesis nula. No hay suficiente evidencia para afirmar que la versión B tiene una tasa de clics\n",
      "          mayor que la versión A.\n"
     ]
    }
   ],
   "source": [
    "# Tasa de clics para la versión A\n",
    "clicks_version_A = [0, 1, 0, 1, 0, 1, 0, 1, 0, 1]\n",
    "# Tasa de clics para la versión B\n",
    "clicks_version_B = [1, 1, 1, 1, 0, 1, 1, 1, 0, 1]\n",
    "\n",
    "# Realizamos una prueba t de una cola\n",
    "# Pasamos como argumento la versión que evaluamos B y 0.5 representa la media poblacional, establecemos que la tasa e clicks\n",
    "# promedio es de 0.5\n",
    "t_statistic, p_value = stats.ttest_1samp(clicks_version_B, 0.5)\n",
    "\n",
    "# Comprobamos si el p-value es menor que el nivel de significancia (por ejemplo, 0.05)\n",
    "# Si el el valor de p es menor que 0.05\n",
    "if p_value < 0.05:\n",
    "    # Imprimimos que se rechaza la hipotesis\n",
    "    print(\"Rechazamos la hipótesis nula. La versión B tiene una tasa de clicks significativamente mayor que la versión A.\")\n",
    "# Si no se cumple y no es mejor entonces no se rechaza la hipotesis\n",
    "else:\n",
    "    print(\"\"\"No se rechaza la hipótesis nula. No hay suficiente evidencia para afirmar que la versión B tiene una tasa de clics\n",
    "          mayor que la versión A.\"\"\")"
   ]
  },
  {
   "cell_type": "markdown",
   "id": "88397acd-b50a-406a-8d27-3b05711fbd7f",
   "metadata": {},
   "source": [
    "***Prueba de Hipótesis Bidireccional***: Supongamos que estamos probando la hipótesis de que la tasa de clics en la versión $B$ del sitio web es diferente de la versión $A$, pero no estamos seguros si será mayor o menor. En este caso, estamos interesados en probar si la versión $B$ es significativamente diferente de la versión $A$ en cualquier dirección.\n",
    "  \n",
    "- Hipótesis nula (H0): No hay diferencia significativa en la tasa de clics entre la versión $B$ y la versión $A$.\n",
    "- Hipótesis alternativa (H1): Hay una diferencia significativa en la tasa de clics entre la versión $B$ y la versión $A$.\n",
    "\n",
    "Si utilizamos una prueba de hipótesis bidireccional, nos interesará cualquier resultado que indique que la versión $B$ es significativamente diferente de la versión $A$, ya sea mayor o menor."
   ]
  },
  {
   "cell_type": "code",
   "execution_count": 5,
   "id": "6ac7c88d-27fb-4796-b24f-40296273b644",
   "metadata": {},
   "outputs": [
    {
     "name": "stdout",
     "output_type": "stream",
     "text": [
      "No podemos rechazar la hipótesis nula. No hay suficiente evidencia para afirmar que hay una\n",
      "    diferencia significativa en la tasa de clics entre la versión B y la versión A.\n"
     ]
    }
   ],
   "source": [
    "# Tasa de clics para la versión A\n",
    "clicks_version_A = [0, 1, 0, 1, 0, 1, 0, 1, 0, 1]  \n",
    "# Tasa de clics para la versión B\n",
    "clicks_version_B = [1, 1, 1, 1, 0, 1, 1, 1, 0, 1] \n",
    "\n",
    "# Realizamos una prueba t de dos colas\n",
    "# Pasamos como argumentos la version B y la version A\n",
    "t_statistic, p_value = stats.ttest_ind(clicks_version_A, clicks_version_B)\n",
    "\n",
    "# Comprobamos si el p-value es menor que el nivel de significancia (por ejemplo, 0.05)\n",
    "if p_value < 0.05:\n",
    "    print(\"\"\"Rechazamos la hipótesis nula. Hay una diferencia significativa en la tasa de clics entre\n",
    "    la versión B y la versión A.\"\"\")\n",
    "else:\n",
    "    print(\"\"\"No podemos rechazar la hipótesis nula. No hay suficiente evidencia para afirmar que hay una\n",
    "    diferencia significativa en la tasa de clics entre la versión B y la versión A.\"\"\")"
   ]
  },
  {
   "cell_type": "markdown",
   "id": "8a98cbd3-702b-4412-bb93-2a89d5a8cb4c",
   "metadata": {},
   "source": [
    "## Pruebas de hipótesis unidireccionales\n",
    "\n",
    "- *<span style=\"color:skyblue\">Se utilizan cuando estás interesado en probar si una opción es mejor que otra en una dirección especifica, como cuando comparas una nueva opción $B$ con una opción predeterminada $A$ y solo te importa si $B$ es mejor que $A$.</span>*\n",
    "- La ***hipótesis alternativa*** $H_1$ se establece en una sola dirección, indicando que $B$ es mejor que $A$.\n",
    "- Esta pruebas se centran en detectar diferencias significativas en una dirección específica y son útiles cuando solo estás interesado en un cambio en esa dirección."
   ]
  },
  {
   "cell_type": "markdown",
   "id": "d842cc9b-cae3-4fbe-b012-b9bd91219676",
   "metadata": {},
   "source": [
    "## Pruebas de hipótesis bidireccionales\n",
    "\n",
    "- *<span style=\"color:skyblue\">Se utilizan cuando quieres considerar si hay diferencias significativas en ambas direcciones, es decir, si una opción es diferentes de la otra, ya sea mayor o menor.</span>*\n",
    "- La ***hipótesis alternativa*** $H_1$ se establece en ambas direcciones, indicando que $A$ es diferentes de $B$.\n",
    "- Estas pruebas son más conservadoras, ya que consideran diferencias en ambas direcciones y son útiles cuando no tienes una preferencia específica por una dirección sobre la otra."
   ]
  },
  {
   "cell_type": "markdown",
   "id": "7fd42ef8-9f07-4658-bff0-6b735cdfe876",
   "metadata": {},
   "source": [
    "La elección entre una prueba de ***hipótesis unidireccional*** y ***bidireccional*** depende del contexto del experimiento y de cómo se toman las decisiones. En el caso de las pruebas $A/B$, donde generalmente se elige una opción predeterminada a menos que la otra demuestre ser definitivamente mejor, a menudo se prefiere una prueba unidireccional. Sin embargo, en algunos casos, se pueden preferir las pruebas bidireccionales para considerar todas las posibilidades.\n",
    "Es importante tener en cuenta que muchos programas y herramientas estadísticas proporcionan pruebas de dos colas de manera predeterminada, y algunos estadísticos prefieren utilizar estas pruebas más conservadoras para evitar malentendidos. La elección entre uno y dos colas puede no ser muy relevante para la ciencia de datos en general, donde la precisión de los cálculos de ***valor p*** puede no ser crítica en comparación con otros aspectos del análisis de datos."
   ]
  },
  {
   "cell_type": "markdown",
   "id": "bb83bd11-49cd-473b-82aa-a13d5b81e927",
   "metadata": {},
   "source": [
    "### Ideas Clave\n",
    "\n",
    "* Una hipótesis nula es una construcción lógica que incorpora la noción de que no ha ocurrido nada especial y cualquier efecto que observes se debe al azar.\n",
    "* La prueba de hipótesis asume que la hipótesis nula es verdadera, crea un \"modelo nulo\" (un modelo de probabilidad) y evalúa si el efecto que observas es un resultado razonable de ese modelo."
   ]
  },
  {
   "cell_type": "markdown",
   "id": "3ac60db0-6308-44dd-b9a0-6888a5f33545",
   "metadata": {},
   "source": [
    "### Lecturas Adicionales\n",
    "\n",
    "* \"The Drunkard’s Walk\" de Leonard Mlodinow (Pantheon, 2008) es una encuesta legible sobre las formas en que \"la aleatoriedad gobierna nuestras vidas\".\n",
    "* El clásico texto de estadísticas \"Statistics, 4th ed.\" de David Freedman, Robert Pisani y Roger Purves (W. W. Norton, 2007) tiene excelentes tratamientos no matemáticos de la mayoría de los temas estadísticos, incluyendo pruebas de hipótesis.\n",
    "* \"Introductory Statistics and Analytics: A Resampling Perspective\" de Peter Bruce (Wiley, 2014) desarrolla conceptos de pruebas de hipótesis utilizando remuestreo."
   ]
  },
  {
   "cell_type": "markdown",
   "id": "60219348-82ef-446f-91b9-e9b3d0664ab2",
   "metadata": {
    "jp-MarkdownHeadingCollapsed": true
   },
   "source": [
    "# **Remuestreo** *Resampling*\n",
    "\n",
    "En estadísticas, el ***remuestreo*** *<span style=\"color:skyblue\">significa extraer repetidamente valores de datos observados, con el objetivo general de evaluar la variabilidad aleatoria en una estadística</span>*. También se puede utilizar para evaluar y mejorar la precisión de algunos modelos de aprendizaje automático (por ejemplo, las predicciones de modelos de árboles de decisión construidos en múltiples conjuntos de datos bootstrap se pueden promediar en un proceso conocido como ***bagging***.\n",
    "\n",
    "Existen dos tipos principales de procedimientos de remuestreo: el ***bootstrap*** y las ***pruebas de permutación***. \n",
    "- El ***bootstrap*** se utiliza para evaluar la confiabilidad de una estimación.\n",
    "- Las ***pruebas de permutación*** se utilizan para probar hipótesis, generalmente involucrando dos o más grupos, y las discutimos en esta sección."
   ]
  },
  {
   "cell_type": "markdown",
   "id": "411515a8-dd26-41d9-97f5-b7db87ece3e4",
   "metadata": {},
   "source": [
    "### Términos Clave para el Remuestreo\n",
    "\n",
    "**Prueba de Permutación \"Permutation test\"**\n",
    "- El procedimiento de combinar dos o más muestras y redistribuir las observaciones de manera aleatoria (o exhaustiva) en resamples.\n",
    "- Sinónimos: Prueba de Randomización, prueba de permutación aleatoria, prueba exacta\n",
    "\n",
    "**Remuestreo \"Resampling\"**\n",
    "- Extracción de muestras adicionales (\"resamples\") de un conjunto de datos observado.\n",
    "\n",
    "**Con o sin reemplazo \"With or without replacement\"**\n",
    "- En el muestreo, si un elemento se devuelve o no a la muestra antes de la próxima extracción."
   ]
  },
  {
   "cell_type": "markdown",
   "id": "994fc13c-18d8-494b-9003-8a7d227344c8",
   "metadata": {},
   "source": [
    "## **Prueba de Permutación**\n",
    "\n",
    "En un procedimiento de permutación, están involucradas dos o más muestras, típicamente los grupos en una prueba de hipótesis $A/B$ u otra. ***Permutar*** *significa cambiar el orden de un conjunto de valores*. El primer paso en una prueba de permutación de una hipótesis es combinar los resultados de los grupos $A$ y $B$ (y, si se utilizan, $C$, $D$,...). Esto es la encarnación lógica de la hipótesis nula de que los tratamientos a los que se expusieron los grupos no difieren. Luego probamos esa hipótesis extrayendo aleatoriamente grupos de este conjunto combinado y viendo cuánto difieren entre sí. El ***procedimiento de permutación*** es el siguiente:\n",
    "\n",
    "1. ***Combinar*** los resultados de los diferentes grupos en un solo conjunto de datos.\n",
    "2. ***Mezclar*** los datos combinados y luego ***extraer aleatoriamente*** (sin reemplazo) un resample del mismo tamaño que el grupo $A$ (claramente contendrá algunos datos de los otros grupos).\n",
    "3. De los datos restantes, ***extraer aleatoriamente*** (sin reemplazo) un resample del mismo tamaño que el grupo $B$.\n",
    "4. Hacer lo mismo para los grupos $C$, $D$, y así sucesivamente. Ahora has recopilado un conjunto de resamples que reflejan los tamaños de las muestras originales.\n",
    "5. Cualquier estadística o estimación que se haya calculado para las muestras originales (por ejemplo, la diferencia en proporciones de grupo), cálcularla ahora para los resamples y registrarla; esto constituye una iteración de permutación.\n",
    "6. Repetir los pasos anteriores R veces para obtener una distribución de permutación de la estadística de prueba.\n",
    "\n",
    "Ahora, regresa a la diferencia observada entre los grupos y compárala con el conjunto de diferencias permutadas. Si la diferencia observada se encuentra bien dentro del conjunto de diferencias permutadas, entonces no hemos demostrado nada; la diferencia observada está dentro del rango de lo que el azar podría producir. Sin embargo, si la diferencia observada se encuentra fuera de la mayoría de la distribución de permutación, entonces concluimos que el azar no es responsable. En términos técnicos, la diferencia es estadísticamente significativa. "
   ]
  },
  {
   "cell_type": "markdown",
   "id": "5c99d9bf-668a-42f8-895d-6b755ee1fef5",
   "metadata": {},
   "source": [
    "## Ejemplo: Atracción en la Web\n",
    "\r\n",
    "Una empresa que vende un servicio relativamente de alto valor quiere probar cuál de dos presentaciones web hace un mejor trabajo de venta. Debido al alto valor del servicio que se vende, las ventas son poco frecuentes y el ciclo de ventas es largo; tomaría demasiado tiempo acumular suficientes ventas para saber cuál presentación es superior. Entonces, la empresa decide medir los resultados con una variable proxy, utilizando la detallada página interior que describe el servicio."
   ]
  },
  {
   "cell_type": "markdown",
   "id": "d83561e3-f5ec-4a5f-ba6b-1dbbbc923fd2",
   "metadata": {},
   "source": [
    "**Nota:**\n",
    "\n",
    "    Una variable proxy es aquella que se utiliza como sustituto de la verdadera variable de interés, que puede no estar disponible, ser demasiado costosa o llevar demasiado tiempo medir. En la investigación climática, por ejemplo, el contenido de oxígeno en antiguos núcleos de hielo se utiliza como proxy de la temperatura. Es útil tener al menos algunos datos sobre la verdadera variable de interés, para que se pueda evaluar la fuerza de su asociación con el proxy."
   ]
  },
  {
   "cell_type": "markdown",
   "id": "f0cd71f9-fede-47ae-908e-7b901627b1d9",
   "metadata": {},
   "source": [
    "Una posible variable proxy para nuestra empresa es el *número de clics* en la detallada página de destino. Una mejor opción es el *tiempo* que las personas pasan en la página. Es razonable pensar que una presentación web (página) que mantiene la atención de las personas durante más tiempo conducirá a más ventas. Por lo tanto, nuestra ***métrica*** *es el tiempo promedio de sesión*, comparando la página A con la página B.\n",
    "Debido a que esta es una página interior de uso especial, no recibe una gran cantidad de visitantes. También ten en cuenta que Google Analytics, que es la forma en que medimos el tiempo de sesión, no puede medir el tiempo de sesión para la última sesión que una persona visita. En lugar de eliminar esa sesión de los datos, sin embargo, Google Analytics la registra como cero, por lo que los datos requieren procesamiento adicional para eliminar esas sesiones. El resultado es un *total de 36 sesiones* para las dos presentaciones diferentes, *21 para la página A* y *15 para la página B*:"
   ]
  },
  {
   "cell_type": "markdown",
   "id": "3054c20a-bc37-4062-b085-a973e8c92bdf",
   "metadata": {},
   "source": [
    "El comando de `boxplot` de pandas utiliza el argumento de palabra clave `by` para crear la figura:"
   ]
  },
  {
   "cell_type": "code",
   "execution_count": 6,
   "id": "f4ebefae-0330-4779-bf20-dbb666625e55",
   "metadata": {},
   "outputs": [],
   "source": [
    "# Importación de las librerias \n",
    "%matplotlib inline\n",
    "\n",
    "from pathlib import Path\n",
    "import random\n",
    "\n",
    "import pandas as pd\n",
    "import numpy as np\n",
    "\n",
    "from scipy import stats\n",
    "import statsmodels.api as sm\n",
    "import statsmodels.formula.api as smf\n",
    "from statsmodels.stats import power\n",
    "\n",
    "import matplotlib.pylab as plt"
   ]
  },
  {
   "cell_type": "code",
   "execution_count": 7,
   "id": "131df7a0-b885-414d-8fb3-62bd3a8ae762",
   "metadata": {},
   "outputs": [],
   "source": [
    "try:\n",
    "    import common\n",
    "    DATA = common.dataDirectory()\n",
    "except ImportError:\n",
    "    DATA = Path().resolve() / 'data'"
   ]
  },
  {
   "cell_type": "code",
   "execution_count": 8,
   "id": "9fec2752-51ba-4baa-a74c-4f3467572599",
   "metadata": {},
   "outputs": [],
   "source": [
    "WEB_PAGE_DATA_CSV = DATA / 'web_page_data.csv'\n",
    "FOUR_SESSIONS_CSV = DATA / 'four_sessions.csv'\n",
    "CLICK_RATE_CSV = DATA / 'click_rates.csv'\n",
    "IMANISHI_CSV = DATA / 'imanishi_data.csv'"
   ]
  },
  {
   "cell_type": "code",
   "execution_count": 9,
   "id": "397eb1b1-615c-4332-97e6-f51b15f2e82e",
   "metadata": {},
   "outputs": [],
   "source": [
    "# Importamos el archivo y lo asignamos a la variable session_times\n",
    "session_times = pd.read_csv(WEB_PAGE_DATA_CSV)"
   ]
  },
  {
   "cell_type": "code",
   "execution_count": 10,
   "id": "79202de2-66a8-4d9c-bee4-53281f338029",
   "metadata": {},
   "outputs": [
    {
     "data": {
      "text/html": [
       "<div>\n",
       "<style scoped>\n",
       "    .dataframe tbody tr th:only-of-type {\n",
       "        vertical-align: middle;\n",
       "    }\n",
       "\n",
       "    .dataframe tbody tr th {\n",
       "        vertical-align: top;\n",
       "    }\n",
       "\n",
       "    .dataframe thead th {\n",
       "        text-align: right;\n",
       "    }\n",
       "</style>\n",
       "<table border=\"1\" class=\"dataframe\">\n",
       "  <thead>\n",
       "    <tr style=\"text-align: right;\">\n",
       "      <th></th>\n",
       "      <th>Page</th>\n",
       "      <th>Time</th>\n",
       "    </tr>\n",
       "  </thead>\n",
       "  <tbody>\n",
       "    <tr>\n",
       "      <th>0</th>\n",
       "      <td>Page A</td>\n",
       "      <td>0.21</td>\n",
       "    </tr>\n",
       "    <tr>\n",
       "      <th>1</th>\n",
       "      <td>Page B</td>\n",
       "      <td>2.53</td>\n",
       "    </tr>\n",
       "    <tr>\n",
       "      <th>2</th>\n",
       "      <td>Page A</td>\n",
       "      <td>0.35</td>\n",
       "    </tr>\n",
       "    <tr>\n",
       "      <th>3</th>\n",
       "      <td>Page B</td>\n",
       "      <td>0.71</td>\n",
       "    </tr>\n",
       "    <tr>\n",
       "      <th>4</th>\n",
       "      <td>Page A</td>\n",
       "      <td>0.67</td>\n",
       "    </tr>\n",
       "  </tbody>\n",
       "</table>\n",
       "</div>"
      ],
      "text/plain": [
       "     Page  Time\n",
       "0  Page A  0.21\n",
       "1  Page B  2.53\n",
       "2  Page A  0.35\n",
       "3  Page B  0.71\n",
       "4  Page A  0.67"
      ]
     },
     "execution_count": 10,
     "metadata": {},
     "output_type": "execute_result"
    }
   ],
   "source": [
    "# Imprimimos las primas cinco filas para ver el dataframe podemos ver las columnas page y time\n",
    "session_times.head()"
   ]
  },
  {
   "cell_type": "code",
   "execution_count": 11,
   "id": "59885fa6-fd8c-41f0-a7b4-502a2e76e72a",
   "metadata": {},
   "outputs": [
    {
     "data": {
      "text/plain": [
       "(36, 2)"
      ]
     },
     "execution_count": 11,
     "metadata": {},
     "output_type": "execute_result"
    }
   ],
   "source": [
    "# Imprimimos las dimensiones, tenemos 36 filas y 2 columnas\n",
    "session_times.shape"
   ]
  },
  {
   "cell_type": "code",
   "execution_count": 12,
   "id": "1121d154-0345-48cc-a4cd-188c8c6c55bc",
   "metadata": {},
   "outputs": [],
   "source": [
    "# Seleccionamos la columna Time del dataframe session_times, se multiplica cada valor en la columna Time * 100\n",
    "session_times.Time = 100 * session_times.Time"
   ]
  },
  {
   "cell_type": "code",
   "execution_count": 13,
   "id": "8c1370dc-f89f-4b21-86f2-06261e2a83c1",
   "metadata": {},
   "outputs": [
    {
     "data": {
      "text/html": [
       "<div>\n",
       "<style scoped>\n",
       "    .dataframe tbody tr th:only-of-type {\n",
       "        vertical-align: middle;\n",
       "    }\n",
       "\n",
       "    .dataframe tbody tr th {\n",
       "        vertical-align: top;\n",
       "    }\n",
       "\n",
       "    .dataframe thead th {\n",
       "        text-align: right;\n",
       "    }\n",
       "</style>\n",
       "<table border=\"1\" class=\"dataframe\">\n",
       "  <thead>\n",
       "    <tr style=\"text-align: right;\">\n",
       "      <th></th>\n",
       "      <th>Page</th>\n",
       "      <th>Time</th>\n",
       "    </tr>\n",
       "  </thead>\n",
       "  <tbody>\n",
       "    <tr>\n",
       "      <th>0</th>\n",
       "      <td>Page A</td>\n",
       "      <td>21.0</td>\n",
       "    </tr>\n",
       "    <tr>\n",
       "      <th>1</th>\n",
       "      <td>Page B</td>\n",
       "      <td>253.0</td>\n",
       "    </tr>\n",
       "    <tr>\n",
       "      <th>2</th>\n",
       "      <td>Page A</td>\n",
       "      <td>35.0</td>\n",
       "    </tr>\n",
       "    <tr>\n",
       "      <th>3</th>\n",
       "      <td>Page B</td>\n",
       "      <td>71.0</td>\n",
       "    </tr>\n",
       "    <tr>\n",
       "      <th>4</th>\n",
       "      <td>Page A</td>\n",
       "      <td>67.0</td>\n",
       "    </tr>\n",
       "  </tbody>\n",
       "</table>\n",
       "</div>"
      ],
      "text/plain": [
       "     Page   Time\n",
       "0  Page A   21.0\n",
       "1  Page B  253.0\n",
       "2  Page A   35.0\n",
       "3  Page B   71.0\n",
       "4  Page A   67.0"
      ]
     },
     "execution_count": 13,
     "metadata": {},
     "output_type": "execute_result"
    }
   ],
   "source": [
    "# Observamos que la columna Time ahora tiene el tiempo en segundos por cada session de las paginas\n",
    "session_times.head()"
   ]
  },
  {
   "cell_type": "code",
   "execution_count": 14,
   "id": "98615c6f-0f71-4d90-b8f6-3eaa5c0036ce",
   "metadata": {},
   "outputs": [
    {
     "data": {
      "image/png": "[encoded data removed]",
      "text/plain": [
       "<Figure size 400x400 with 1 Axes>"
      ]
     },
     "metadata": {},
     "output_type": "display_data"
    }
   ],
   "source": [
    "# El parámetro by nos permite obtener dos gráficos separados basados en el valor único de la columna especificada\n",
    "# en este caso tenemos dos valores para page que es page A y B\n",
    "ax = session_times.boxplot(by=\"Page\", column=\"Time\",\n",
    "                           figsize=(4,4))\n",
    "ax.set_xlabel(\"\")\n",
    "ax.set_ylabel(\"Tiempo (en segundos)\")\n",
    "plt.suptitle(\"\")\n",
    "\n",
    "plt.tight_layout()\n",
    "plt.show()"
   ]
  },
  {
   "cell_type": "markdown",
   "id": "53a6b022-6408-485b-8a14-5b3befb146b0",
   "metadata": {},
   "source": [
    "**Figura 3-3**. Tiempos de sesión para las páginas web A y B."
   ]
  },
  {
   "cell_type": "markdown",
   "id": "ff710d76-f30c-4aed-a51b-89a6817b4db1",
   "metadata": {},
   "source": [
    "El ***diagrama de caja***, indica que la **página B** lleva a sesiones más largas que la página A. Las medias \"promedios\" para cada grupo se pueden calcular de la siguiente manera:"
   ]
  },
  {
   "cell_type": "markdown",
   "id": "1c1d15b6-eb27-4b1d-911e-487adb4e30e1",
   "metadata": {},
   "source": [
    "Filtramos primero el DataFrame de pandas por página y luego determinamos la media \"mean\" de la columna de tiempo (Time):"
   ]
  },
  {
   "cell_type": "code",
   "execution_count": 15,
   "id": "65117d84-41de-44f5-94df-fbc78d84e26e",
   "metadata": {},
   "outputs": [],
   "source": [
    "# Calculamos la media de los tiempos de las sesiones en la página A\n",
    "mean_a = session_times[session_times.Page == \"Page A\"].Time.mean()"
   ]
  },
  {
   "cell_type": "code",
   "execution_count": 16,
   "id": "72fd92a2-c7a4-4438-8461-e6114f682070",
   "metadata": {},
   "outputs": [
    {
     "data": {
      "text/plain": [
       "126.33333333333333"
      ]
     },
     "execution_count": 16,
     "metadata": {},
     "output_type": "execute_result"
    }
   ],
   "source": [
    "# Imprimimos la media de Page A\n",
    "mean_a"
   ]
  },
  {
   "cell_type": "code",
   "execution_count": 17,
   "id": "d78b8fd1-d6c2-4080-978f-120722b563e4",
   "metadata": {},
   "outputs": [],
   "source": [
    "# Calculamos la media de los tiempos de las sesiones en la página B\n",
    "mean_b = session_times[session_times.Page == \"Page B\"].Time.mean()"
   ]
  },
  {
   "cell_type": "code",
   "execution_count": 18,
   "id": "8c1df5e5-5042-4bc4-84f6-a8b83b70353f",
   "metadata": {},
   "outputs": [
    {
     "data": {
      "text/plain": [
       "162.0"
      ]
     },
     "execution_count": 18,
     "metadata": {},
     "output_type": "execute_result"
    }
   ],
   "source": [
    "# Imprimimos la media de Page B\n",
    "mean_b"
   ]
  },
  {
   "cell_type": "code",
   "execution_count": 19,
   "id": "b4071dec-0781-49e6-bcb0-800ce56b306a",
   "metadata": {},
   "outputs": [
    {
     "data": {
      "text/plain": [
       "35.66666666666667"
      ]
     },
     "execution_count": 19,
     "metadata": {},
     "output_type": "execute_result"
    }
   ],
   "source": [
    "# Calculamos la diferencia de media (promedio) de la Pagina A y la Pagina B\n",
    "mean_b - mean_a"
   ]
  },
  {
   "cell_type": "markdown",
   "id": "8bdd62ec-133e-42b9-8c8b-7bfd42d07cf8",
   "metadata": {},
   "source": [
    "- La ***página B*** tiene tiempos de sesión que son mayores que los de la **página A** en 35.67 segundos, en promedio.\n",
    "  \n",
    "La pregunta es si esta diferencia está dentro del rango de lo que podría producir el azar, es decir, si es estadísticamente significativa. Una forma de responder a esto es aplicar una prueba de permutación: ***combinar todos los tiempos de sesión y luego barajar y dividir repetidamente en grupos de 21*** (recuerda que $n_A$ = 21 para la página A) y 15 ($n_B$ = 15 para la página B).\n",
    "\n",
    "Para aplicar una ***prueba de permutación***, necesitamos una función que asigne aleatoriamente los 36 tiempos de sesión a un grupo de 21 (página A) y un grupo de 15 (página B). "
   ]
  },
  {
   "cell_type": "markdown",
   "id": "68807a5a-6c36-4c8a-9e21-61ddc26a126a",
   "metadata": {},
   "source": [
    "La versión en Python de esta **prueba de permutación** es la siguiente:"
   ]
  },
  {
   "cell_type": "code",
   "execution_count": 20,
   "id": "005c3a6c-636b-4c65-9306-3e876c50cafc",
   "metadata": {},
   "outputs": [
    {
     "name": "stdout",
     "output_type": "stream",
     "text": [
      "22.29523809523809\n"
     ]
    }
   ],
   "source": [
    "# Definimos una función llamada perm_fun y le pasamos como argumento x, nA, nB\n",
    "def perm_fun(x, nA, nB):\n",
    "    # Calculamos el tamaño total de la muestra, n, sumando los tamaños de las muestras de las páginas A y B\n",
    "    n = nA + nB\n",
    "    # Generamos un conjunto de índices aleatorios para la muestra de la página B\n",
    "    idx_B = set(random.sample(range(n), nB))\n",
    "    # Calculamos los índices correspondientes a la muestra de la página A\n",
    "    idx_A = set(range(n)) - idx_B\n",
    "    # Calculamos la diferencia entre las medias de la muestra de la página B y la muestra de la página A\n",
    "    return x.loc[list(idx_B)].mean() - x.loc[list(idx_A)].mean()\n",
    "\n",
    "# Calculamos el número de observaciones en la muestra de la página A\n",
    "nA = session_times[session_times.Page == \"Page A\"].shape[0]\n",
    "# Calculamos el número de observaciones en la muestra de la página B\n",
    "nB = session_times[session_times.Page == \"Page B\"].shape[0]\n",
    "# Llamamos a la función perm_fun con la variable de tiempo (Time), y los tamaños de las muestras nA y nB\n",
    "# como argumentos, e imprimimos el resultado\n",
    "print(perm_fun(session_times.Time, nA, nB))"
   ]
  },
  {
   "cell_type": "markdown",
   "id": "0832391a-8c4a-4201-a370-20aa19a3eca2",
   "metadata": {},
   "source": [
    "Esta función funciona tomando muestras (sin reemplazo) de nB índices y asignándolos al grupo B; los nA índices restantes se asignan al grupo A. La diferencia entre las dos medias se devuelve. Llamar a esta función 1,000 veces en R y especificar nA = 21 y nB = 15 lleva a una distribución de diferencias en los tiempos de sesión que se puede representar gráficamente como un histograma."
   ]
  },
  {
   "cell_type": "markdown",
   "id": "f9278f98-d5b6-487b-93e8-563be2e24c60",
   "metadata": {},
   "source": [
    "En Python, podemos crear un gráfico similar utilizando matplotlib:"
   ]
  },
  {
   "cell_type": "code",
   "execution_count": 21,
   "id": "4a9cb1d0-8fd8-433b-999c-458091198c3d",
   "metadata": {},
   "outputs": [
    {
     "data": {
      "image/png": "[encoded data removed]",
      "text/plain": [
       "<Figure size 500x500 with 1 Axes>"
      ]
     },
     "metadata": {},
     "output_type": "display_data"
    }
   ],
   "source": [
    "random.seed(1)  # Establece una semilla para generar números aleatorios,\n",
    "\n",
    "perm_diffs = [perm_fun(session_times.Time, nA, nB) for _ in range(1000)]  # Realiza 1000 permutaciones aleatorias \n",
    "# de las diferencias entre los tiempos de sesión entre dos grupos (nA y nB) y guarda los resultados en una lista \n",
    "# llamada perm_diffs.\n",
    "\n",
    "fig, ax = plt.subplots(figsize=(5, 5))  # Crea una nueva figura y un eje (subplot) en la que se representarán los datos\n",
    "\n",
    "ax.hist(perm_diffs, bins=11, rwidth=0.9)  # Crea un histograma de las diferencias de tiempo de sesión permutadas, \n",
    "# dividiendo los datos en 11 contenedores (bins) y usando un ancho relativo de 0.9.\n",
    "\n",
    "ax.axvline(x = mean_b - mean_a, color = \"black\", lw=2)  # Añade una línea vertical en el eje x en la posición \n",
    "# correspondiente a la diferencia entre las medias de los dos grupos observados, con un color negro y un ancho de línea de 2.\n",
    "\n",
    "ax.text(50, 190, \"Diferencia\\nobservada\", bbox={\"facecolor\":\"white\"})  # Añade un texto en la posición (50, 190) en el gráfico,\n",
    "# indicando la diferencia observada entre los grupos, con un cuadro de fondo blanco.\n",
    "\n",
    "ax.set_xlabel(\"Diferencias en tiempos de sesión (en segundos)\")  # Establece la etiqueta del eje x como \"Diferencias de tiempo\n",
    "# de sesión\n",
    "# (en segundos)\".\n",
    "\n",
    "ax.set_ylabel(\"Frecuencia\")  # Establece la etiqueta del eje y como \"Frecuencia\".\n",
    "\n",
    "plt.tight_layout()  # Ajusta automáticamente el diseño del gráfico para que los elementos no se superpongan.\n",
    "\n",
    "plt.show()  # Muestra el gráfico."
   ]
  },
  {
   "cell_type": "markdown",
   "id": "bf031f21-8be5-4c7e-98d0-1c11823474ac",
   "metadata": {},
   "source": [
    "El histograma, muestra que la diferencia media de las permutaciones aleatorias a menudo supera la diferencia observada en los tiempos de sesión (la línea vertical). Para nuestros resultados, esto ocurre en el 12.6% de los casos:"
   ]
  },
  {
   "cell_type": "code",
   "execution_count": 22,
   "id": "b3bc4038-481f-44de-9eb9-7b42bbfec3ce",
   "metadata": {},
   "outputs": [
    {
     "data": {
      "text/plain": [
       "0.121"
      ]
     },
     "execution_count": 22,
     "metadata": {},
     "output_type": "execute_result"
    }
   ],
   "source": [
    "# Calculamos la proporción de diferencias permutadas que son mayores que la diferencia observada ente las medias de dos grupos.\n",
    "np.mean(perm_diffs > mean_b - mean_a)"
   ]
  },
  {
   "cell_type": "markdown",
   "id": "04b7c8dd-2665-448e-9ead-22049f17af01",
   "metadata": {},
   "source": [
    "Dado que la simulación utiliza números aleatorios, el porcentaje variará. Por ejemplo, en la versión de Python, obtuvimos un 12.1%:"
   ]
  },
  {
   "cell_type": "code",
   "execution_count": 23,
   "id": "91cb0a97-e686-4818-acce-93f6de9b4fe8",
   "metadata": {},
   "outputs": [
    {
     "name": "stdout",
     "output_type": "stream",
     "text": [
      "0.121\n"
     ]
    }
   ],
   "source": [
    "perm_diffs = np.array(perm_diffs)\n",
    "print(np.mean(perm_diffs > mean_b - mean_a))"
   ]
  },
  {
   "cell_type": "markdown",
   "id": "886de25d-590d-48aa-b940-e467a1157682",
   "metadata": {},
   "source": [
    "Esto sugiere que la diferencia observada en el tiempo de sesión entre la página A y la página B está bien dentro del rango de variación aleatoria y, por lo tanto, no es estadísticamente significativa."
   ]
  },
  {
   "cell_type": "code",
   "execution_count": 24,
   "id": "b1ecdec2-120a-4130-83d8-cefb026c9004",
   "metadata": {},
   "outputs": [
    {
     "data": {
      "image/png": "[encoded data removed]",
      "text/plain": [
       "<Figure size 500x500 with 1 Axes>"
      ]
     },
     "metadata": {},
     "output_type": "display_data"
    }
   ],
   "source": [
    "random.seed(1)\n",
    "perm_diffs = [perm_fun(session_times.Time, nA, nB) for _ in range(1000)]\n",
    "\n",
    "fig, ax = plt.subplots(figsize=(5, 5))\n",
    "ax.hist(perm_diffs, bins=11, rwidth=0.9)\n",
    "ax.axvline(x = mean_b - mean_a, color = \"black\", lw=2)\n",
    "ax.text(50, 190, \"Observed\\ndifference\", bbox={\"facecolor\":\"white\"})\n",
    "ax.set_xlabel(\"Session time differences (in seconds)\")\n",
    "ax.set_ylabel(\"Frecuency\")\n",
    "\n",
    "plt.tight_layout()\n",
    "plt.show()"
   ]
  },
  {
   "cell_type": "markdown",
   "id": "9780eb29-ebb9-462c-a9ba-2ee7f2233d06",
   "metadata": {},
   "source": [
    "**Figura 3-4**. Distribución de frecuencia para las diferencias en el tiempo de sesión entre las páginas A y B; la línea vertical muestra la diferencia observada."
   ]
  },
  {
   "cell_type": "markdown",
   "id": "74987cff-8261-431c-86c2-ecb2937f2716",
   "metadata": {},
   "source": [
    "## **Pruebas de Permutación Exhaustivas y Bootstrap**\n",
    "\n",
    "Además del procedimiento de mezcla aleatoria mencionado anteriormente, también conocido como prueba de ***permutación aleatoria*** o ***prueba de aleatorización***, existen dos variantes de la prueba de permutación:\n",
    "\n",
    "- Una prueba de ***permutación exhaustiva***.\n",
    "- Una prueba de ***permutación bootstrap***.\n",
    "\n",
    "En una prueba de ***permutación exhaustiva***, en lugar de simplemente mezclar y dividir los datos al azar, calculamos todas las formas posibles en que podrían dividirse. Esto es práctico solo para tamaños de muestra relativamente pequeños. Con un gran número de mezclas repetidas, los resultados de la prueba de permutación aleatoria aproximan los de la prueba de permutación exhaustiva y se acercan a ellos en el límite. Las pruebas de permutación exhaustivas también se llaman a veces pruebas exactas debido a su propiedad estadística de garantizar que el modelo nulo no se pruebe como *significativo* más allá del nivel alfa de la prueba.\n",
    "\n",
    "En una prueba de ***permutación bootstrap***, las selecciones descritas en los pasos 2 y 3 de la prueba de permutación aleatoria se realizan con reemplazo en lugar de sin reemplazo. De esta manera, el procedimiento de remuestreo modela no solo el elemento aleatorio en la asignación del tratamiento al sujeto, sino también el elemento aleatorio en la selección de sujetos de una población. Ambos procedimientos se encuentran en estadísticas, y la distinción entre ellos es algo complicada y no tiene consecuencias importantes en la práctica de la ciencia de datos."
   ]
  },
  {
   "cell_type": "markdown",
   "id": "4bc80797-69f0-4f93-aab1-92946354ed09",
   "metadata": {},
   "source": [
    "Las pruebas de ***permutación exhaustivas*** y ***bootstrap*** son foRmas de evaluar si los resultados de un estudio son estadísticamente significativos.\n",
    "\n",
    "- **Permutación Exhaustiva**: Aquí, en lugar de simplemente mezclar y divir los datos al azar como en la permutación aleatoria, calculamos todas las formas posibles en que podrían dividirse los datos. Esto funciona bien para muestras pequeñas, pero se vuelve impráctico con muestras grandes. Sin embargo, es muy preciso y se llama a veces prueba exacta porque garantiza que el resultado no sea \"significativo\" solo por casualidad.\n",
    "  \n",
    "- **Permutación Bootstrap**: En esta prueba, las selecciones de datos se hacen con reemplazo en lugar de sin reemplazo. Esto significa que los datos se seleccionan al azar, pero permitiendo que un mismo datos sea seleccionado varias veces. Esto modela tanto la aleatoriedad en la asignación de tratamiento como la aleatoriedad en la selección de sujetos de una población. En la práctica, ambas pruebas son utilizadas en estadísticas, y aunque tienen diferencias técnicas, en la ciencia de datos su distinción no es tan crucial. "
   ]
  },
  {
   "cell_type": "markdown",
   "id": "742dab83-ef5a-4329-a987-b08ac98ac299",
   "metadata": {},
   "source": [
    "## **Pruebas de Permutación: La Esencia para la Ciencia de Datos**\n",
    "\n",
    "Las ***pruebas de permutación*** *<span style=\"color:skyblue\">son procedimientos heurísticos (resolución de problemas) útiles para explorar el papel de la variación aleatoria.</span>* Son relativamente fáciles de codificar, interpretar y explicar, y ofrecen un útil desvío alrededor del formalismo y la \"falsa determinación\" de las estadísticas basadas en fórmulas, donde la precisión de las \"respuestas\" basadas en fórmulas tiende a implicar una certeza no justificada. Una virtud del remuestreo, en contraste con los enfoques basados en fórmulas, es que se acerca mucho más a un enfoque único para la inferencia. Los datos pueden ser numéricos o binarios. Los tamaños de muestra pueden ser iguales o diferentes. No se necesitan supuestos sobre la distribución normal de los datos."
   ]
  },
  {
   "cell_type": "markdown",
   "id": "6c911907-8d21-4379-88c4-d5a82ff31936",
   "metadata": {},
   "source": [
    "### Ideas Clave\r\n",
    "- En una prueba de permutación, se combinan múltiples muestras y luego se barajan.\r\n",
    "- Los valores barajados se dividen luego en remuestras, y se calcula la estadística de interés.\r\n",
    "- Este proceso se repite, y la estadística remuestreada se tabula.\r\n",
    "- Comparar el valor observado de la estadística con la distribución remuestreada te permite juzgar si una diferencia observada entre muestras podría ocurrir por casualidad.\n",
    "\n"
   ]
  },
  {
   "cell_type": "markdown",
   "id": "e1b5ef71-f49c-494f-95d9-0a3dea94e412",
   "metadata": {},
   "source": [
    "### Lecturas Adicionales\n",
    "- *Randomization Tests, 4th ed.*, de Eugene Edgington y Patrick Onghena (Chapman & Hall/CRC Press, 2007) — pero no te sumerjas demasiado en el denso terreno del muestreo no aleatorio.\n",
    "- *Introductory Statistics and Analytics: A Resampling Perspective* de Peter Bruce (Wiley, 2014)."
   ]
  },
  {
   "cell_type": "markdown",
   "id": "e964125d-4100-4a10-8c4b-620d04fd3013",
   "metadata": {
    "jp-MarkdownHeadingCollapsed": true
   },
   "source": [
    "# **Significancia Estadística y Valor p**\n",
    "\n",
    "La ***significancia estadística*** *<span style=\"color:skyblue\">es la manera en que los estadísticos miden si un experimento (o incluso un estudio de datos existentes) produce un resultado más extremo de lo que podría ocurrir por pura casualidad.</span>* Si el resultado está más allá del ámbito de la variación al azar, se dice que es estadísticamente significativo."
   ]
  },
  {
   "cell_type": "markdown",
   "id": "52b9c146-42bc-46fb-87fd-9c1a005ab1e1",
   "metadata": {},
   "source": [
    "***Valor p (p-value):*** El *valor p* es una medida de la *probabilidad* de obtener un resultado al menos tan extremos como el observado en un estudio, suponiendo que la hipótesis nula es verdadera. Es una forma de cuantificar la evidencia en contra de la hipótesis nula. Un *valor p* pequeño sugiere que los resultados observados son poco probables bajo la hipótesis nula, lo que sugiere que hay evidencia significativa para rechazar la hipótesis nula.\n",
    "\n",
    "***Nivel de significancia $α$:*** El nivel de significancia, denotado comunmente con α, es el umbral predefinido que se utiliza para interpretar el *valor p* en una prueba de hipótesis. Es la probabilidad máxima que está dispuesto a aceptar de cometer un error de tipo I, es decir, de rechazar incorrectamente la hipótesis nula cuando es verdadera. El nivel de significancia generalmente se establece antes de realizar la prueba.  $α$ ---> 0.05 o $α$ ---> 0.01"
   ]
  },
  {
   "cell_type": "markdown",
   "id": "f558df34-5dbe-4528-b77c-3b28a87a5471",
   "metadata": {},
   "source": [
    "### Términos Clave para Significancia Estadística y Valor p\n",
    "\n",
    "**Valor p**\n",
    "- Dado un modelo de probabilidad que representa la hipótesis nula, el valor p es la probabilidad de obtener resultados tan inusuales o extremos como los resultados observados.\n",
    "\n",
    "**Alfa**\n",
    "- El umbral de probabilidad de \"inusualidad\" que los resultados al azar deben superar para que los resultados reales se consideren estadísticamente significativos.\n",
    "\n",
    "**Error Tipo 1**\n",
    "- Concluir erróneamente que un efecto es real (cuando es debido al azar).\n",
    "\n",
    "**Error Tipo 2**\n",
    "- Concluir erróneamente que un efecto es debido al azar (cuando es real)."
   ]
  },
  {
   "cell_type": "markdown",
   "id": "96e44f4b-4520-4d12-8c70-523d6850681d",
   "metadata": {},
   "source": [
    "**Tabla 3-2**. Tabla 2x2 para los resultados del experimento de comercio electrónico."
   ]
  },
  {
   "attachments": {
    "6c2e6c79-cdf0-4192-a318-43efb664b7dd.png": {
     "image/png": "[encoded data removed]"
    }
   },
   "cell_type": "markdown",
   "id": "5a9833ff-15c8-4f26-b658-a8eefc750eaa",
   "metadata": {},
   "source": [
    "![Captura de pantalla 2024-01-29 113936.png](attachment:6c2e6c79-cdf0-4192-a318-43efb664b7dd.png)"
   ]
  },
  {
   "cell_type": "markdown",
   "id": "f9cfd86c-9ab8-467f-ab67-e3e6983ac982",
   "metadata": {},
   "source": [
    "*Price A* convierte casi un 5% más que el *precio B* (0.8425% = 200/(23539+200)*100, frente a 0.8057% = 182/(22406+182)*100, una diferencia de 0.0368 puntos porcentuales), lo suficientemente significativo en un negocio de alto volumen. Aquí tenemos más de 45,000 puntos de datos, y es tentador considerarlo como \"big data\", no requiriendo pruebas de significancia estadística (necesarias principalmente para tener en cuenta la variabilidad de muestreo en muestras pequeñas). Sin embargo, las tasas de conversión son tan bajas (menos del 1%) que los valores significativos reales, las conversiones, son solo del orden de los cientos, y el tamaño de la muestra realmente se determina por estas conversiones. Podemos probar si la diferencia en las conversiones entre los precios A y B está dentro del rango de variación por azar, utilizando un procedimiento de remuestreo. Por variación por azar, nos referimos a la variación aleatoria producida por un modelo de probabilidad que incorpora la hipótesis nula de que no hay diferencia entre las tasas. El siguiente procedimiento de permutación pregunta: \"Si los dos precios comparten la misma tasa de conversión, ¿podría la variación por azar producir una diferencia tan grande como el 5%?\"\n",
    "1. Coloca tarjetas etiquetadas con 1 y 0 en una caja: esto representa la supuesta tasa de conversión compartida de 382 unos y 45,945 ceros = 0.008246 = 0.8246%.\n",
    "2. Baraja y saca una resample de tamaño 23,739 (mismo $n$ que el precio A), y registra cuántos 1s hay.\n",
    "3. Registra el número de 1s en los 22,588 restantes (mismo $n$ que el precio B).\n",
    "4. Registra la diferencia en la proporción de 1s.\n",
    "5. Repite los pasos 2-4.\n",
    "6. ¿Con qué frecuencia fue la diferencia >= 0.0368?"
   ]
  },
  {
   "cell_type": "markdown",
   "id": "5d14376f-7fc7-461b-970a-9686d764334a",
   "metadata": {},
   "source": [
    "Reutilizando la función perm_fun definida en \"Ejemplo: Atractivo de la Página Web\", creamos un histograma de las diferencias de tasas de conversión permutadas al azar:"
   ]
  },
  {
   "cell_type": "code",
   "execution_count": 25,
   "id": "547aeef6-37b2-4ee7-98ce-8c641068944e",
   "metadata": {},
   "outputs": [
    {
     "name": "stdout",
     "output_type": "stream",
     "text": [
      "Diferencia observada: 0.0368%\n"
     ]
    },
    {
     "data": {
      "image/png": "[encoded data removed]",
      "text/plain": [
       "<Figure size 500x500 with 1 Axes>"
      ]
     },
     "metadata": {},
     "output_type": "display_data"
    }
   ],
   "source": [
    "# Establece una semilla para generar números aleatorios\n",
    "random.seed(1) \n",
    "\n",
    "# Calculamos la diferencia porcentual observada entre dos tasas de conversión\n",
    "obs_pct_diff = 100 * (200 / 23739 - 182 / 22588) \n",
    "# Imprimimos las diferencias porcentuales con cuatro decimanles\n",
    "print(f\"Diferencia observada: {obs_pct_diff:.4f}%\") \n",
    "\n",
    "# Creamos una lista de conversiones inicializada con 45945 ceros y 382 unos\n",
    "conversion = [0] * 45945 \n",
    "conversion.extend([1] * 382)\n",
    "\n",
    "# Convierte las lista en un objeto pandas Series\n",
    "conversion = pd.Series(conversion)\n",
    "\n",
    "# Realiza 100 permutaciones aleatorias de las diferencias de tasa de cconversión\n",
    "perm_diffs = [100 * perm_fun(conversion, 23739, 22588)\n",
    "              for _ in range(1000)]\n",
    "\n",
    "# Crea una nueva figura y un eje (subplot) en la que se representarán los datos\n",
    "fig, ax = plt.subplots(figsize=(5, 5))\n",
    "\n",
    "# Crea una historgrama de las diferencias de tasa de conversión permutadas\n",
    "ax.hist(perm_diffs, bins=11, rwidth=0.9)\n",
    "# Añade una linea vertical en el eje x en la posición correspondiente\n",
    "ax.axvline(x=obs_pct_diff, color=\"black\", lw=2)\n",
    "# Añade un texto en la posición (0.06, 200) en el gráfico\n",
    "ax.text(0.06, 200, \"Diferencia\\nobservada\", bbox={\"facecolor\":\"white\"})\n",
    "# Establece la etiqueta del eje x como \"Tasa de conversión (porcentaje)\"\n",
    "ax.set_xlabel(\"Tasa de conversión (percepción)\")\n",
    "# Establece la etiqueta del eje y como \"Frecuencia\"\n",
    "ax.set_ylabel(\"Frecuencia\")\n",
    "\n",
    "# Ajusta automáticamente el diseño del gráfico para que los elementos no se superpongan.\n",
    "plt.tight_layout()\n",
    "# Muestra el gráfico\n",
    "plt.show()"
   ]
  },
  {
   "cell_type": "markdown",
   "id": "cce2d395-993d-4988-9e42-1a45df1d43dd",
   "metadata": {},
   "source": [
    "**Figura 3-5**. Distribución de frecuencia para la diferencia en tasas de conversión entre los precios A y B"
   ]
  },
  {
   "cell_type": "markdown",
   "id": "9f68bdad-8b34-497b-b95b-5722d6dc3558",
   "metadata": {},
   "source": [
    "Consulta el histograma de 1,000 resultados re-muestreados en la Figura 3-5: en este caso, la diferencia observada del 0.0368% está bien dentro del rango de variación por azar."
   ]
  },
  {
   "cell_type": "markdown",
   "id": "c18bd2aa-250a-4809-80bb-a0b5e9f3d12d",
   "metadata": {},
   "source": [
    "## **p-Value**\n",
    "\n",
    "Simplemente observar el gráfico no es una forma muy precisa de medir la ***significancia estadística***, por lo que es más interesante el ***valor p***. *Este es la frecuencia con la cual el modelo de probabilidad produce un resultado más extremo que el resultado observado*. Podemos estimar un valor p a partir de nuestro test de permutación al tomar la proporción de veces que el test de permutación produce una diferencia igual o mayor que la diferencia observada:"
   ]
  },
  {
   "cell_type": "code",
   "execution_count": 30,
   "id": "7822515d-5af4-4b47-8831-c86c2ae3b126",
   "metadata": {},
   "outputs": [
    {
     "name": "stdout",
     "output_type": "stream",
     "text": [
      "0.332\n"
     ]
    }
   ],
   "source": [
    "# Calculamos la proporción de diferencias permutadas que son mayores que la diferencia observada\n",
    "# 'perm_diffs' es una lista que contiene las diferencias permutadas entre los grupos\n",
    "# 'obs_pct_diff' es la diferencia observada entre las tasas de éxito porcentuales entre los grupos A y B\n",
    "# Para cada diferencia permutada en 'perm_diffs', comparamos si es mayor que la diferencia observada y obtenemos un arreglo \n",
    "# de booleanos\n",
    "# Usamos 'np.mean()' para calcular el promedio de los valores booleanos (True se interpreta como 1 y False como 0)\n",
    "# Esto nos da la proporción de diferencias permutadas que son mayores que la diferencia observada\n",
    "print(np.mean([diff > obs_pct_diff for diff in perm_diffs]))"
   ]
  },
  {
   "cell_type": "markdown",
   "id": "10c3a304-9b97-4b58-8ed1-aa81904f125a",
   "metadata": {},
   "source": [
    "Aquí, tanto R como Python utilizan el hecho de que `True` se interpreta como 1 y `False` como 0. El valor p es 0.332, lo que significa que esperaríamos obtener un resultado tan extremo, o más extremo, por pura casualidad más del 30% del tiempo. En este caso, no fue necesario utilizar un test de permutación para obtener un valor p. Dado que tenemos una distribución binomial, podemos aproximar el valor p. "
   ]
  },
  {
   "cell_type": "markdown",
   "id": "286056f9-9cd0-487b-9322-1083e8ff1c5a",
   "metadata": {},
   "source": [
    "El argumento x es el número de éxitos para cada grupo, y el argumento n es el número de ensayos. El método `scipy.stats.chi2_contingency` toma los valores como se muestra en la Tabla 3-2:"
   ]
  },
  {
   "cell_type": "code",
   "execution_count": 32,
   "id": "e996d498-b674-4432-b384-9f5d9bf3c0ff",
   "metadata": {},
   "outputs": [
    {
     "name": "stdout",
     "output_type": "stream",
     "text": [
      "Valor p para prueba unilateral: 0.3498\n"
     ]
    }
   ],
   "source": [
    "# Crea una matriz NumPy que representa los datos de supervivencia, donde la primera fila contiene el número de éxitos (200)\n",
    "# y fallos (23739 - 200) para el primer grupo, y la segunda fila contiene el número de éxitos (182) y fallos (22588 - 182)\n",
    "# para el segundo grupo.\n",
    "survivors = np.array([[200, 23739 - 200], [182, 22588 - 182]])\n",
    "\n",
    "# Realiza una prueba de chi-cuadrado de independencia de las variables en una tabla de contingencia y guarda el valor\n",
    "# de chi-cuadrado, el valor p, los grados de libertad y las frecuencias esperadas.\n",
    "chi2, p_value, df, _ = stats.chi2_contingency(survivors)\n",
    "\n",
    "# Imprime el valor p para una prueba unilatera, dividiendo el valor p original por 2 para considerar solo un lado\n",
    "# del intervalo.\n",
    "print(f\"Valor p para prueba unilateral: {p_value / 2:.4f}\")"
   ]
  },
  {
   "cell_type": "markdown",
   "id": "eba8e836-f0de-42ed-8753-85cfa421b1e7",
   "metadata": {},
   "source": [
    "La aproximación normal produce un valor p de 0.3498, que está cerca del valor p obtenido a partir de la prueba de permutación."
   ]
  },
  {
   "cell_type": "markdown",
   "id": "e77f8de3-8847-4146-92be-c280a6181f2c",
   "metadata": {},
   "source": [
    "## **Alfa**\n",
    "\n",
    "Los estadísticos desaprueban la práctica de dejar a discreción del investigador determinar si un resultado es \"demasiado inusual\" para ocurrir por casualidad. En cambio, se especifica de antemano un umbral, como *más extremo que el 5% de los resultados al azar (hipótesis nula)*; este umbral se conoce como ***alfa***. ***Los niveles de alfa típicos son del 5% y del 1%***. Cualquier nivel elegido es una decisión arbitraria, ya que no hay nada en el proceso que garantice decisiones correctas el $x%$ del tiempo. Esto se debe a que la pregunta de probabilidad que se responde no es *¿Cuál es la probabilidad de que esto haya ocurrido por casualidad?*, sino más bien *Dado un modelo de probabilidad, ¿cuál es la probabilidad de un resultado tan extremo?*. Luego deducimos hacia atrás sobre la idoneidad del modelo de probabilidad, pero ese juicio no lleva asociada una probabilidad. Este punto ha sido objeto de mucha confusión."
   ]
  },
  {
   "cell_type": "markdown",
   "id": "81556605-9c58-4aea-a1b4-c5ab54d7934c",
   "metadata": {},
   "source": [
    "## **Controversia sobre el valor p**\n",
    "\n",
    "En los últimos años, ha habido considerable controversia en torno al uso del *valor p*. Una revista de psicología ha llegado tan lejos como \"prohibir\" el uso de valores p en artículos presentados, argumentando que las decisiones de publicación basadas únicamente en el valor p estaban dando lugar a la publicación de investigaciones deficientes. Demasiados investigadores, con una comprensión tenue de lo que realmente significa un valor p, exploran los datos y entre las diferentes hipótesis posibles para probar, hasta que encuentran una combinación que produce un valor p significativo y, por lo tanto, un artículo adecuado para su publicación.\n",
    "\n",
    "El problema real radica en que las personas desean más significado del valor p del que realmente contiene. Esto es lo que nos gustaría que transmitiera el valor p:\n",
    "\n",
    "    La probabilidad de que el resultado se deba al azar.\n",
    "\n",
    "Esperamos un valor bajo para poder concluir que hemos demostrado algo. Así es como muchos editores de revistas interpretaban el valor p. Pero aquí está lo que realmente representa el valor p:\n",
    "\n",
    "    La probabilidad de que, dado un modelo de probabilidad, ocurran resultados tan extremos como los resultados observados.\n",
    "\n",
    "La diferencia es sutil pero real. Un valor p significativo no te lleva tan lejos en el camino hacia la \"prueba\" como parece prometer. La base lógica para la conclusión de \"estadísticamente significativo\" es algo más débil cuando se comprende el verdadero significado del valor p.\n",
    "\n",
    "En marzo de 2016, la Asociación Estadounidense de Estadística, después de mucha deliberación interna, reveló la magnitud del malentendido sobre los valores p cuando emitió una declaración de advertencia sobre su uso. La declaración de la ASA destacó seis principios para investigadores y editores de revistas:\n",
    "\n",
    "1. Los valores p pueden indicar cuán incompatibles son los datos con un modelo estadístico especificado.\n",
    "2. Los valores p no miden la probabilidad de que la hipótesis estudiada sea verdadera, ni la probabilidad de que los datos hayan sido producidos solo por azar.\n",
    "3. Las conclusiones científicas y las decisiones comerciales o de política no deben basarse únicamente en si un valor p supera un umbral específico.\n",
    "4. Una inferencia adecuada requiere una presentación completa y transparencia.\n",
    "5. Un valor p, o la significancia estadística, no mide el tamaño de un efecto o la importancia de un resultado.\n",
    "6. Por sí mismo, un valor p no proporciona una buena medida de la evidencia con respecto a un modelo o hipótesis."
   ]
  },
  {
   "cell_type": "markdown",
   "id": "02db250a-9afe-49bc-ba07-67a576ecd1c6",
   "metadata": {},
   "source": [
    "## **Significado práctico**\n",
    "\n",
    "Incluso si un resultado es estadísticamente significativo, eso no significa que tenga importancia práctica. Una pequeña diferencia que no tiene un significado práctico puede ser estadísticamente significativa si surge de muestras lo suficientemente grandes. Las muestras grandes garantizan que los efectos pequeños y no significativos puedan ser lo suficientemente grandes como para descartar el azar como explicación. Descartar el azar no convierte mágicamente en importante un resultado que, en su esencia, carece de importancia.\n",
    "\n",
    "- Cuando un resultado es estadísticamente significativo, significa que es poco probable que haya ocurrido por pura casualidad. Sin embargo, esta significancia estadística no garantiza que el resultado sea importante en la vida real. A veces, incluso pequeñas diferencias pueden ser estadísticamente significativas si se analizan conjuntos de datos lo suficientemente grandes.\n",
    "- Imagina que realizas un estudio sobre el efecto de una nuevo medicamento en al reducción de la persión arterial. Si encuentras que el medicamento reduce la presión arterial en promedio en solo 1 mmHg, y esta diferencia es estadísticamente significativa debido a un gran número de participaciones en el esutudio, es posible que esta reducción de 1 mmHg no tenga impacto significativo en la salud de las personas que toman el medicamento.\n",
    "- Solo porque un resultado sea estadísticamente significativo no significa necesariamente que sea importante en términos prácticos o clínicos. Siempre es importante considerar el tamaño del efecto y su relevancia en el contexto del problema que se está estudiando."
   ]
  },
  {
   "cell_type": "markdown",
   "id": "1ab96162-93a7-4841-9a65-d3e2a56d7a29",
   "metadata": {},
   "source": [
    "## **Errores Tipo 1 y Tipo 2**\n",
    "\n",
    "Al evaluar la significancia estadística, son posibles dos tipos de errores:\n",
    "\n",
    "- Un ***error Tipo 1***, en el cual concluyes erróneamente que un efecto es real, cuando en realidad es simplemente debido al azar.\n",
    "- Un ***error Tipo 2***, en el cual concluyes erróneamente que un efecto no es real (es decir, debido al azar), cuando en realidad lo es.\n",
    "\n",
    "En realidad, un ***error Tipo 2*** no es tanto un error como un juicio de que el tamaño de la muestra es demasiado pequeño para detectar el efecto. Cuando un ***valor p*** no alcanza la significancia estadística (por ejemplo, supera el 5%), lo que estamos diciendo realmente es *\"H0 ---> efecto no demostrado\"*. Podría ser que una muestra más grande daría como resultado un *valor p* más pequeño.\n",
    "\n",
    "La función básica de las pruebas de significancia (también llamadas pruebas de hipótesis) es proteger contra ser engañado por el azar; por lo tanto, suelen estar estructuradas para minimizar los errores Tipo 1."
   ]
  },
  {
   "cell_type": "markdown",
   "id": "a9574e94-f868-4580-a1ad-687d70f7e204",
   "metadata": {},
   "source": [
    "## **Ciencia de Datos y Valores p**\n",
    "\n",
    "El trabajo que realizan los *científicos de datos* generalmente no está destinado a ser publicado en revistas científicas, por lo que el debate sobre el valor de un *valor p* es algo académico. Para un científico de datos, un *valor p* es una métrica útil en situaciones en las que deseas saber si un resultado del modelo que parece interesante y útil se encuentra dentro del rango de variabilidad normal debido al azar. Como herramienta de decisión en un experimento, un *valor p* no debe considerarse como controlador, sino simplemente como otro punto de información que influye en una decisión. Por ejemplo, los *valores p* a veces se utilizan como insumos intermedios en algunos modelos estadísticos o de aprendizaje automático: una característica *feature* puede incluirse o excluirse de un modelo dependiendo de su *valor p*."
   ]
  },
  {
   "cell_type": "markdown",
   "id": "91bc0a4e-3b4c-4e99-9872-b50e7199ec7b",
   "metadata": {},
   "source": [
    "### Ideas Clave\n",
    "\n",
    "* Las ***pruebas de significancia*** se utilizan para determinar si un efecto observado se encuentra dentro del rango de variación al azar para un modelo de hipótesis nula.\n",
    "* El ***valor p*** es la probabilidad de que ocurran resultados tan extremos como los resultados observados, dado un modelo de hipótesis nula.\n",
    "* El ***valor alfa*** es el umbral de \"inusualidad\" en un modelo de hipótesis nula.\n",
    "* Las ***pruebas de significancia*** han sido mucho más relevantes para la presentación formal de investigaciones que para la ciencia de datos (aunque incluso para lo primero, su importancia ha disminuido recientemente)."
   ]
  },
  {
   "cell_type": "markdown",
   "id": "c1b50c92-1428-4b01-b3ee-18c4bc8d4015",
   "metadata": {},
   "source": [
    "### Lecturas Adicionales\n",
    "* Stephen Stigler, \"Fisher and the 5% Level,\" Chance 21, no. 4 (2008): 12. Este artículo es un breve comentario sobre el libro de Ronald Fisher de 1925, \"Statistical Methods for Research Workers\" (Oliver & Boyd), y sobre el énfasis de Fisher en el nivel del 5% de significancia.\n",
    "* Consulta también \"Pruebas de Hipótesis\" en la página 93 y las lecturas adicionales mencionadas allí."
   ]
  },
  {
   "cell_type": "markdown",
   "id": "0fe6bc22-c5af-4448-9d8c-7440caa3f3ce",
   "metadata": {},
   "source": [
    "----"
   ]
  },
  {
   "cell_type": "markdown",
   "id": "b21fba1a-488a-456d-9547-609db3001b22",
   "metadata": {
    "jp-MarkdownHeadingCollapsed": true
   },
   "source": [
    "# **Pruebas t**\n",
    "\n",
    "Existen numerosos tipos de pruebas de significancia, dependiendo de si los datos comprenden datos de recuento o datos medidos, cuántas muestras hay y qué se está midiendo. Una muy común es la ***prueba t***, llamada así por la distribución t de Student, desarrollada originalmente por W. S. Gosset *para aproximar la distribución de la media de una única muestra*."
   ]
  },
  {
   "cell_type": "markdown",
   "id": "2fc7132f-7cb5-4787-8c8c-07ac153038df",
   "metadata": {},
   "source": [
    "- La **prueba t**, tambén conocida como ***t-test***, *<span style=\"color:skyblue\">es una técnica estadística utilizada para determinar si hay una diferencia significativa entre las medias *\"promedio\"* de dos grupos.</span>* Es comúnmente utilizado cuando se quiere comparar dos grupos de datos numéricos para determinar si las diferencias observadas son estadísticamente significativas o si podrían haber ocurrido simplemente por azar."
   ]
  },
  {
   "cell_type": "markdown",
   "id": "74d07260-8de6-46cb-8945-10c2a06c7db2",
   "metadata": {},
   "source": [
    "### Existen dos tipos principales de prueba t\n",
    "\n",
    "1. **Prueba t de una muestra:** Se utiliza cuando se tiene una sola muestra o se quiere comparar la media de esa muestra con un valor conocido o esperado.\n",
    "2. **Prueba t de dos muestras:** Se utiliza cuando se tienen dos muestras independientes y se quieren comparar las medias de ambas muestras para deterinar si son estadísticamente diferentes entre sí.\n",
    "\n",
    "La ***prueba t*** asume que los datos están distribuidos normalmente y que las muestras son independientes. Además, la prueba t permite determinar si la diferencia entre las medias de los grupos es estadísticamente significativa mediante el cálculo de un ***valor t*** y su comparación con un valor crítico obtenido a partir de una ***tabla de distribución t de Student*** o mediante software estadístico."
   ]
  },
  {
   "cell_type": "markdown",
   "id": "6fedbf85-fe6a-479b-a9aa-1b4823e9d481",
   "metadata": {},
   "source": [
    "## Proceso general para realizar un prueba t\n",
    "\n",
    "1. Formulación de hipótesis nula $H_0$ y la hipótesis alternativa $H_1$.\n",
    "2. Seleccionar el nivel de significancia $\\alpha$, que es la probabilidad de cometer un error tipo I *\"rechazar incorrectamente la hipótesis nula cuando es verdadera\"*.\n",
    "3. Recolectar los datos y calcular las medias y las desviaciones estándar de las muestras.\n",
    "4. Calcular el *valor t* utilizando la fórmula adecuada según el tipo de *prueba t* (una muestra o dos muestras).\n",
    "5. Comparar el *valor t* calculado con el valor crítico de la distribución de Student para determinar si hay una diferencia significativa entre las medias de los grupos.\n",
    "6. Interpretar los resultados y tomar decisiones basadas en la evidencia estadística obtenida.\n",
    "\n",
    "La ***prueba t*** es una herramienta estadística fundamental para comparar las medias de dos grupos y determinar si las diferencias observadas son estadísticamente significativa."
   ]
  },
  {
   "cell_type": "markdown",
   "id": "bdefd7d9-cf11-49e6-a7d7-938d1b274a05",
   "metadata": {},
   "source": [
    "### Términos Clave para Pruebas t\n",
    "\n",
    "**Estadístico de prueba**\n",
    "- Una métrica para la diferencia o efecto de interés.\n",
    "\n",
    "**Estadístico t**\n",
    "- Una versión estandarizada de estadísticos de prueba comunes como las medias.\n",
    "\n",
    "**Distribución t**\n",
    "- Una distribución de referencia (en este caso, derivada de la hipótesis nula) a la cual se puede comparar el estadístico t observado."
   ]
  },
  {
   "cell_type": "markdown",
   "id": "4043ce63-7f89-4a13-b41c-199637ccf583",
   "metadata": {},
   "source": [
    "## Estadístico de Prueba\n",
    "\n",
    "El ***estadístico de prueba*** *<span style=\"color:skyblue\">es un valor calculado a partir de los datos de una muestra, utilizado para evaluar una hipótesis estadística</span>*. Resume la información de los datos y se compara con un valor crítico o se utiliza para calcular un valor p, lo que ayuda a determinar si hay evidencia suficiente para rechazar o no una hipótesis nula en favor de una hipótesis alternativa.\n",
    "\n",
    "En ciencia de datos, se utilizan una variedad de estadísticos de prueba dependiendo de la naturaleza de los datos y el problema específico que se esté abordando. Algunos de los estadísticos de prueba más comúnmente utilizados en ciencia de datos incluyen:\n",
    "\n",
    "1. **Prueba t:** La prueba t es ampliamente utilizada para comparar las medias de dos grupos. Puede ser una prueba t de una muestra, una prueba t de dos muestras independientes o una prueba t de dos muestras relacionadas (o pareadas). Es especialmente útil cuando se trabaja con muestras pequeñas y la distribución de las poblaciones subyacentes es normal o aproximadamente normal.\n",
    "\n",
    "2. **Análisis de varianza (ANOVA):** El ANOVA se utiliza para comparar las medias de tres o más grupos. Permite determinar si al menos uno de los grupos tiene una media diferente de los demás. Hay varias variantes de ANOVA, como ANOVA de un factor y ANOVA de dos factores, que se aplican dependiendo de la complejidad del diseño experimental.\n",
    "\n",
    "3. **Prueba chi-cuadrado:** La prueba chi-cuadrado se utiliza para evaluar la asociación entre dos variables categóricas. Puede utilizarse para probar si hay una relación significativa entre dos variables o para evaluar la bondad de ajuste de un modelo a los datos observados.\n",
    "\n",
    "4. **Prueba de correlación:** Las pruebas de correlación, como el coeficiente de correlación de Pearson o el coeficiente de correlación de Spearman, se utilizan para evaluar la fuerza y la dirección de la relación entre dos variables continuas. Estas pruebas son útiles para determinar si existe una relación lineal o monotónica entre las variables.\n",
    "\n",
    "5. **Prueba de regresión:** Las pruebas de regresión se utilizan para evaluar si existe una relación significativa entre una variable dependiente y una o más variables independientes. Se utilizan para determinar si el modelo de regresión ajustado es estadísticamente significativo y para identificar las variables predictoras que son significativas para predecir la variable dependiente."
   ]
  },
  {
   "cell_type": "markdown",
   "id": "0f2c0b47-39d4-42bb-848c-60fcb309a615",
   "metadata": {},
   "source": [
    "\n",
    "En una ***prueba t*** de dos muestras, el estadístico de prueba es el ***valor t***. *<span style=\"color:skyblue\">Este se calcula como la diferencia entre las medias de las muestras divididas por una medida de variabilidad dentro de las muestras.</span>* Luego, se compara este ***valor t*** con un valor crítico de la distribución t de Student para determinar si la diferencia entre las medias es estadísticamente significativa.\n",
    "\n",
    "### Ejemplo\n",
    "\n",
    "Supongamos que deseamos comparar las medias de dos grupos de estudiantes, \"Grupo A\" y \"Grupo B\", en un examen de matemáticas. Disponemos de los siguientes datos:\n",
    "- Grupo A: 10 estudiantes, con una media de 75 y una desviación estándar de 5.\n",
    "- Grupo B: 12 estudiantes, con una media de 80 y una desviación estándar de 6.\n",
    "\n",
    "Nuestro objetivo es probar si hay una diferencia significativa en el rendimiento entre los grupos.\n",
    "\n",
    "1. **Formulamos nuestras hipótesis:**\n",
    "   - Hipótesis nula $H_0$: No hay diferencia significativa entre las medias de los dos grupos $\\mu_A$ = $\\mu_B$.\n",
    "   - Hipótesis alternativa $H_1$: Hay una diferencia significativa entre las medias de los dos grupos $\\mu_A \\neq \\mu_B$.\n",
    "\n",
    "2. **Calculamos el estadístico de prueba:**\n",
    "   Utilizamos la fórmula del ***valor t*** para una prueba t de dos muestras:\n",
    "\n",
    "   $$t = \\frac{{\\text{{Diferencia entre las medias muestrales}}}}{{\\text{{Error estándar de la diferencia}}}}$$\n",
    "\n",
    "Donde:\n",
    "   - La diferencia entre las medias muestrales es $\\bar{X}_A$ - $\\bar{X}_B$, es decir, la diferencia entre la media de la muestra $A$ y la media de la muestra $B$.\n",
    "   - El error estándar de la diferencia se calcula como la raíz cuadrada de la suma de los errores estándar cuadrados de cada muestra ajustados por su tamaño muestral:\n",
    "\n",
    "   $$\\sqrt{\\frac{{s_A^2}}{{n_A}} + \\frac{{s_B^2}}{{n_B}}}$$\n",
    "\n",
    "   $\\bar{X}_A$ y $\\bar{X}_B$ son las medias de los grupos A y B respectivamente.\n",
    "   $s_A$ y $s_B$ son las desviaciones estándar de los grupos A y B respectivamente.\n",
    "   $n_A$ y $n_B$ son los tamaños de las muestras de los grupos A y B respectivamente.\n",
    "\n",
    "4. **Comparamos el valor t calculado con el valor crítico:**\n",
    "   Si el valor t calculado es mayor que el valor crítico, podemos rechazar la hipótesis nula y concluir que hay una diferencia significativa entre las medias de los dos grupos en cuanto al rendimiento en matemáticas."
   ]
  },
  {
   "cell_type": "markdown",
   "id": "34f3a41c-1221-4cc4-bf2a-63c9adb47f66",
   "metadata": {},
   "source": [
    "## Estadístico t\n",
    "\n",
    "El ***estadístico t*** es un valor calculado a partir de los datos de una muestra, utilizado en pruebas de hipótesis para determinar si hay una diferencia significativa entre las medias de dos grupos. Es especialmente útil cuando se trabaja con muestras pequeñas y la desviación estándar de la población es desconocida.\n",
    "\n",
    "La fórmula general para el estadístico t en una prueba t de dos muestras independientes es:\n",
    "\n",
    "$$t = \\frac{{\\bar{X}_1 - \\bar{X}_2}}{{\\sqrt{\\frac{{s_1^2}}{{n_1}} + \\frac{{s_2^2}}{{n_2}}}}}$$\n",
    "\n",
    "Donde:\n",
    "- $\\bar{X}_1$ y $\\bar{X}_2$ son las medias de las dos muestras.\n",
    "- $s_1$ y $s_2$ son las desviaciones estándar de las muestras.\n",
    "- $n_1$ y $n_2$ son los tamaños de las muestras.\n",
    "\n",
    "El estadístico t se calcula tomando la diferencia entre las medias de las muestras y dividiéndola por la raíz cuadrada del error estándar de esta diferencia. Esencialmente, mide cuántas veces es mayor la diferencia observada entre las medias que la variabilidad dentro de las muestras.\n",
    "\n",
    "Ahora, un ejemplo:\n",
    "\n",
    "Supongamos que queremos comparar las alturas promedio de dos grupos de personas: hombres y mujeres. Tomamos una muestra aleatoria de 30 hombres y una muestra aleatoria de 25 mujeres. Calculamos las medias y las desviaciones estándar de las alturas de ambos grupos:\n",
    "\n",
    "- Para hombres: $\\bar{X}_1$ = $175$ cm, $s_1$ = $7$ cm.\n",
    "- Para mujeres: $\\bar{X}_2$ = $163$ cm, $s_2$ = $6$ cm.\n",
    "\n",
    "Usando estos datos, calculamos el estadístico t:\n",
    "\n",
    "$$t = \\frac{{175 - 163}}{{\\sqrt{\\frac{{7^2}}{{30}} + \\frac{{6^2}}{{25}}}}}$$\n",
    "\n",
    "$$t = \\frac{{12}}{{\\sqrt{\\frac{{49}}{{30}} + \\frac{{36}}{{25}}}}}$$\n",
    "\n",
    "$$t \\approx \\frac{{12}}{{\\sqrt{1.633 + 1.44}}}$$\n",
    "\n",
    "$$t \\approx \\frac{{12}}{{\\sqrt{3.073}}}$$\n",
    "\n",
    "$$t \\approx \\frac{{12}}{{1.752}}$$\n",
    "\n",
    "$$t \\approx 6.84$$\n",
    "\n",
    "Ahora, comparamos este valor calculado de t con un valor crítico de la tabla de distribución t de Student para determinar si la diferencia en las alturas promedio entre hombres y mujeres es estadísticamente significativa. Si el valor calculado de t es mayor que el valor crítico para un nivel de significancia dado (por ejemplo, 0.05), entonces podemos concluir que hay una diferencia significativa entre las alturas promedio de hombres y mujeres."
   ]
  },
  {
   "cell_type": "markdown",
   "id": "34d13589-df39-4890-b427-633ed1646e2d",
   "metadata": {},
   "source": [
    "## Distribución t\n",
    "\n",
    "La ***distribución t***, también conocida como la *distribución t de Student*, es una distribución de probabilidad que surge en estadística cuando estamos trabajando con muestras pequeñas y la desviación estándar de la población es desconocida. Fue desarrollada por William Sealy Gosset, quien usó el seudónimo *\"Student\"* al publicar sus trabajos.\n",
    "\n",
    "La forma de la ***distribución t*** es similar a una distribución normal, pero tiene colas más amplias. La forma de las colas depende de los grados de libertad $df$. Cuantos menos grados de libertad tenga la distribución t, más anchas serán las colas en comparación con una distribución normal estándar.\n",
    "\n",
    "La distribución t se utiliza principalmente en pruebas de hipótesis y en intervalos de confianza cuando trabajamos con muestras pequeñas y la varianza de la población es desconocida. La prueba t es especialmente útil en situaciones en las que la desviación estándar de la población es desconocida y la muestra es pequeña (generalmente menos de 30 observaciones).\n",
    "\n",
    "Ahora, veamos un ejemplo de cómo se utiliza la distribución t:\n",
    "\n",
    "Supongamos que estamos interesados en determinar si hay una diferencia significativa en la altura promedio de una población con respecto a una altura de referencia (digamos, 170 cm). Tomamos una muestra aleatoria de 20 personas y medimos sus alturas. Luego, calculamos el promedio y la desviación estándar de esta muestra.\n",
    "\n",
    "Digamos que el promedio de altura en nuestra muestra resulta ser 168 cm y la desviación estándar es 4 cm.\n",
    "\n",
    "Queremos determinar si este promedio de altura es significativamente diferente de 170 cm.\n",
    "\n",
    "1. Formulamos nuestras hipótesis:\n",
    "   - Hipótesis nula $H_0$: La altura promedio de la población es igual a 170 cm $\\mu = 170$.\n",
    "   - Hipótesis alternativa $H_1$: La altura promedio de la población es diferente de 170 cm $\\mu \\neq 170$.\n",
    "\n",
    "2. Calculamos el estadístico t utilizando la fórmula:\n",
    "\n",
    "$$t = \\frac{{\\text{{Promedio muestral}} - \\text{{Altura de referencia}}}}{{\\text{{Error estándar}}}}$$\n",
    "\n",
    "$$t = \\frac{{168 - 170}}{{\\frac{{4}}{{\\sqrt{20}}}}}$$\n",
    "\n",
    "3. Determinamos los grados de libertad. En este caso, los grados de libertad son $n - 1 = 20 - 1 = 19$.\n",
    "\n",
    "4. Utilizamos una tabla de distribución t para encontrar el valor crítico de t correspondiente para un nivel de significancia dado (por ejemplo, 0.05) y 19 grados de libertad.\n",
    "\n",
    "5. Comparamos el valor calculado de t con el valor crítico. Si el valor calculado de t está fuera del rango determinado por el valor crítico, rechazamos la hipótesis nula y concluimos que hay una diferencia significativa en las alturas promedio en la población en comparación con la altura de referencia."
   ]
  },
  {
   "cell_type": "markdown",
   "id": "ce0ed3d7-0d9c-4ffb-a406-8e2718b5e02d",
   "metadata": {},
   "source": [
    "Todas las ***pruebas de significancia*** requieren que especifiques un ***estadístico de prueba*** para medir el efecto que te interesa y ayudarte a determinar si ese efecto observado se encuentra dentro del rango de variación normal debido al azar. En una prueba de remuestreo, la escala de los datos no importa. Creas la distribución de referencia (hipótesis nula) a partir de los propios datos y utilizas el estadístico de prueba tal como es.\n",
    "\n",
    "En la década de 1920 y 1930, cuando se desarrollaba la prueba estadística de hipótesis, no era factible reorganizar los datos al azar miles de veces para realizar una prueba de remuestreo. Los estadísticos encontraron que una buena aproximación a la distribución de permutación (reorganizada) era la prueba t, basada en la distribución t de Gosset. Se utiliza para la muy común comparación de dos muestras, como en un test A/B, en el cual los datos son numéricos. Pero para que la distribución t se pueda usar sin tener en cuenta la escala, se debe utilizar una forma estandarizada del estadístico de prueba.\n",
    "\n",
    "Un texto clásico de estadísticas mostraría en este punto varias fórmulas que incorporan la distribución de Gosset y demostrarían cómo estandarizar tus datos para compararlos con la distribución t estándar. Estas fórmulas no se muestran aquí porque todo el software estadístico, así como R y Python, incluyen comandos que incorporan la fórmula."
   ]
  },
  {
   "cell_type": "markdown",
   "id": "cf6b7399-9947-4f5c-99ad-b06cb7df9b1f",
   "metadata": {},
   "source": [
    "La función `scipy.stats.ttest_ind` se puede utilizar en Python:"
   ]
  },
  {
   "cell_type": "code",
   "execution_count": 27,
   "id": "847d1152-50e4-40c8-9b99-ee69d1328821",
   "metadata": {},
   "outputs": [
    {
     "name": "stdout",
     "output_type": "stream",
     "text": [
      "Valor p para prueba unilateral: 0.1408\n"
     ]
    }
   ],
   "source": [
    "# Realiza una prueba t de Student para muestras independientes, donde se comparan los tiempos entre la Pagina A y la pagina B\n",
    "res = stats.ttest_ind(session_times[session_times.Page == \"Page A\"].Time,\n",
    "                      session_times[session_times.Page == \"Page B\"].Time,\n",
    "                      equal_var=False)\n",
    "\n",
    "# Imprime el valor p para una prueba unilatera, dividiendo el valor p original por 2 para considerar solo un lado del intervalo\n",
    "# y formatea el resultado con 4 decimales.\n",
    "print(f\"Valor p para prueba unilateral: {res.pvalue / 2:.4f}\")"
   ]
  },
  {
   "cell_type": "code",
   "execution_count": 28,
   "id": "9f70be2c-f5f4-4894-890f-e7878dbd88b0",
   "metadata": {},
   "outputs": [
    {
     "name": "stdout",
     "output_type": "stream",
     "text": [
      "Valor p: 0.1408\n"
     ]
    }
   ],
   "source": [
    "tstat, pvalue, df = sm.stats.ttest_ind(\n",
    "    session_times[session_times.Page == \"Page A\"].Time,\n",
    "    session_times[session_times.Page == \"Page B\"].Time,\n",
    "    usevar =\"unequal\", alternative=\"smaller\")\n",
    "\n",
    "print(f\"Valor p: {pvalue:.4f}\")"
   ]
  },
  {
   "cell_type": "markdown",
   "id": "72db0e90-30af-4bc3-9f25-9ee3fb7f5d18",
   "metadata": {},
   "source": [
    "La ***hipótesis alternativa*** es que la media del tiempo de sesión para la página A es menor que la de la página B. El valor p de 0.1408 está bastante cerca de los valores p de la prueba de permutación, que son 0.121 y 0.126.\n",
    "\n",
    "En un modo de remuestreo, estructuramos la solución para reflejar los datos observados y la hipótesis a probar, sin preocuparnos si los datos son numéricos o binarios, si los tamaños de muestra están balanceados o no, las varianzas de la muestra, o una variedad de otros factores. En el mundo de las fórmulas, muchas variaciones se presentan, y pueden ser desconcertantes. Los estadísticos necesitan navegar por ese mundo y aprender su mapa, pero los científicos de datos no lo necesitan, ya que típicamente no se ocupan de los detalles de las pruebas de hipótesis y intervalos de confianza de la manera en que lo haría un investigador preparando un artículo para presentación."
   ]
  },
  {
   "cell_type": "markdown",
   "id": "0774899d-9f34-4e06-b145-34c103a5222f",
   "metadata": {},
   "source": [
    "### Ideas Clave\n",
    "* Antes de la llegada de las computadoras, las pruebas de remuestreo no eran prácticas, y los estadísticos utilizaban distribuciones de referencia estándar.\n",
    "* Un estadístico de prueba podía estandarizarse y compararse con la distribución de referencia.\n",
    "* Uno de esos estadísticos estandarizados ampliamente utilizados es el estadístico t."
   ]
  },
  {
   "cell_type": "markdown",
   "id": "a3fa3179-21ac-473c-8569-af1b3c4ec16c",
   "metadata": {},
   "source": [
    "### Lecturas Adicionales\n",
    "* Cualquier texto introductorio de estadísticas tendrá ilustraciones del estadístico t y sus usos; dos buenos ejemplos son *Statistics, 4th ed.* de David Freedman, Robert Pisani y Roger Purves (W. W. Norton, 2007), y *The Basic Practice of Statistics, 8th ed.* de David S. Moore, William I. Notz y Michael A. Fligner (W. H. Freeman, 2017).\n",
    "* Para un tratamiento simultáneo tanto de la prueba t como de los procedimientos de remuestreo, consulta *Introductory Statistics and Analytics: A Resampling Perspective* de Peter Bruce (Wiley, 2014) o *Statistics: Unlocking the Power of Data, 2nd ed.* de Robin Lock y otros cuatro miembros de la familia Lock (Wiley, 2016)."
   ]
  },
  {
   "cell_type": "markdown",
   "id": "c448da7e-00d6-4cb8-a506-3f0bf3dd9e42",
   "metadata": {
    "jp-MarkdownHeadingCollapsed": true
   },
   "source": [
    "# **Pruebas Múltiples**\n",
    "\n",
    "Como hemos mencionado anteriormente, hay un dicho en estadísticas: *Tortura los datos el tiempo suficiente, y confesarán*. Esto significa que si examinas los datos desde suficientes perspectivas y haces suficientes preguntas, casi invariablemente encontrarás un efecto estadísticamente significativo.\n",
    "\n",
    "Por ejemplo, si tienes 20 variables predictoras y una variable de resultado, todas generadas al azar, las probabilidades son bastante altas de que al menos una variable predictora resulte ser estadísticamente significativa (falsamente) si realizas una serie de 20 pruebas de significancia con un nivel alfa = 0.05. Como se discutió anteriormente, esto se llama un error Tipo 1. Puedes calcular esta probabilidad encontrando primero la probabilidad de que todas resulten correctamente no significativas a un nivel del 0.05. La probabilidad de que una resulte correctamente no significativa es 0.95, entonces la probabilidad de que las 20 resulten correctamente no significativas es 0.95 × 0.95 × 0.95..., o 0.9520 = 0.36. La probabilidad de que al menos una variable predictora resulte (falsamente) significativa es el lado opuesto de esta probabilidad, o 1 - (probabilidad de que todas sean no significativas) = 0.64. Esto se conoce como inflación alfa.\n",
    "\n",
    "Este problema está relacionado con el problema del sobreajuste en la minería de datos, o \"ajustar el modelo al ruido\". Cuantas más variables agregues o más modelos ejecutes, mayor será la probabilidad de que algo emerja como \"significativo\" simplemente por casualidad."
   ]
  },
  {
   "cell_type": "markdown",
   "id": "fd568f91-3b5c-4930-99b8-4e3ce3d69937",
   "metadata": {},
   "source": [
    "### Términos Clave para Pruebas Múltiples\n",
    "\n",
    "**Error Tipo 1**\n",
    "- Concluir erróneamente que un efecto es estadísticamente significativo.\n",
    "\n",
    "**Tasa de descubrimiento falso**\n",
    "- En múltiples pruebas, la tasa de cometer un Error Tipo 1.\n",
    "\n",
    "**Inflación alfa**\n",
    "- El fenómeno de pruebas múltiples, en el cual alfa, la probabilidad de cometer un Error Tipo 1, aumenta a medida que se realizan más pruebas.\n",
    "\n",
    "**Ajuste de valores p**\n",
    "- Contabilizar la realización de múltiples pruebas en los mismos datos.\n",
    "\n",
    "**Sobreajuste**\n",
    "- Ajustar el modelo al ruido."
   ]
  },
  {
   "cell_type": "markdown",
   "id": "259d1ed0-a0ec-4e18-9e47-536ed07384fd",
   "metadata": {},
   "source": [
    "En tareas de aprendizaje supervisado, un conjunto de retención donde se evalúan los modelos con datos que el modelo no ha visto antes mitiga este riesgo. En tareas de estadística y aprendizaje automático que no implican un conjunto de retención etiquetado, persiste el riesgo de llegar a conclusiones basadas en ruido estadístico.\r\n",
    "\r\n",
    "En estadísticas, existen algunos procedimientos destinados a abordar este problema en circunstancias muy específicas. Por ejemplo, si estás comparando resultados entre múltiples grupos de tratamiento, podrías hacer varias preguntas. Así, para los tratamientos A-C, podrías preguntar:\r\n",
    "- ¿Es A diferente de B?\r\n",
    "- ¿Es B diferente de C?\r\n",
    "- ¿Es A diferente de C?\r\n",
    "O, en un ensayo clínico, podrías querer examinar resultados de una terapia en múltiples etapas. En cada caso, estás haciendo múltiples preguntas, y con cada pregunta, estás aumentando la posibilidad de ser engañado por el azar. Los procedimientos de ajuste en estadísticas pueden compensar esto estableciendo el umbral para la significancia estadística de manera más estricta de lo que se establecería para una sola prueba de hipótesis. Estos procedimientos de ajuste generalmente implican \"dividir alfa\" según el número de pruebas. Esto resulta en un alfa más pequeño (es decir, un umbral más estricto para la significancia estadística) para cada prueba.\r\n",
    "\r\n",
    "Un procedimiento de este tipo, el ajuste de Bonferroni, simplemente divide alfa por el número de comparaciones. Otro, utilizado en la comparación de medias de grupos múltiples, es la \"diferencia significativa honesta de Tukey\" o HSD de Tukey. Esta prueba se aplica a la diferencia máxima entre las medias de los grupos, comparándola con un punto de referencia basado en la distribución t (equivalente aproximadamente a mezclar todos los valores juntos, repartir grupos remuestreados del mismo tamaño que los grupos originales y encontrar la diferencia máxima entre las medias de los grupos remuestreados).\r\n",
    "\r\n",
    "Sin embargo, el problema de las comparaciones múltiples va más allá de estos casos altamente estructurados y está relacionado con el fenómeno de \"exploración\" repetida de datos que da origen al dicho sobre torturar los datos. Dicho de otra manera, dada una cantidad suficientemente compleja de datos, si no has encontrado algo interesante, simplemente no has buscado lo suficiente. Ahora hay más datos disponibles que nunca, y el número de artículos publicados en revistas casi se duplicó entre 2002 y 2010. Esto da lugar a muchas oportunidades para encontrar algo interesante en los datos, incluidos problemas de multiplicidad como:\r\n",
    "- Verificación de múltiples diferencias pareadas entre grupos.\r\n",
    "- Examinar múltiples resultados de subgrupos (\"no encontramos un efecto de tratamiento significativo en general, pero encontramos un efecto para mujeres solteras menores de 30 años\").\r\n",
    "- Probar muchos modelos estadísticos.\r\n",
    "- Incluir muchas variables en los modelos.\r\n",
    "- Formular varias preguntas diferentes (es decir, diferentes resultados posibles)."
   ]
  },
  {
   "cell_type": "markdown",
   "id": "c49fc8a0-a19d-41d1-ba84-c154167f9047",
   "metadata": {},
   "source": [
    "**Nota:**\n",
    "\n",
    "    La regla de la multiplicación establece que la probabilidad de que n eventos independientes ocurran es el producto de las probabilidades individuales. Por ejemplo, si tanto tú como yo lanzamos una moneda una vez, la probabilidad de que tu moneda y mi moneda caigan ambas cara es 0.5 × 0.5 = 0.25."
   ]
  },
  {
   "cell_type": "markdown",
   "id": "8d63bfc2-c9d1-4495-aa39-3e952891984c",
   "metadata": {},
   "source": [
    "### **Tasa de Descubrimiento Falso**\n",
    "\n",
    "    El término \"tasa de descubrimiento falso\" se utilizó originalmente para describir la frecuencia con la cual un conjunto dado de pruebas de hipótesis identificaría falsamente un efecto significativo. Se volvió particularmente útil con la llegada de la investigación genómica, donde se podrían llevar a cabo masivamente pruebas estadísticas como parte de un proyecto de secuenciación genética. En estos casos, el término se aplica al protocolo de prueba, y un solo \"descubrimiento\" falso se refiere al resultado de una prueba de hipótesis (por ejemplo, entre dos muestras). Los investigadores intentaron establecer los parámetros del proceso de prueba para controlar la tasa de descubrimiento falso a un nivel especificado.\n",
    "    \n",
    "    El término también se ha utilizado en la clasificación en la minería de datos; es la tasa de clasificación incorrecta dentro de las predicciones de clase 1. O dicho de otra manera, es la probabilidad de que un \"descubrimiento\" (etiquetar un registro como \"1\") sea falso. En este caso, generalmente estamos tratando con la situación en la que hay muchos 0s y los 1s son interesantes pero raros."
   ]
  },
  {
   "cell_type": "markdown",
   "id": "23dc9a81-c6a1-49db-ba98-533452fc09e8",
   "metadata": {},
   "source": [
    "Por diversas razones, incluido especialmente el problema general de la \"multiplicidad\", más investigación no necesariamente significa mejor investigación. Por ejemplo, en 2011, la compañía farmacéutica Bayer descubrió que al intentar replicar 67 estudios científicos, solo pudo replicar completamente 14 de ellos. Casi dos tercios no pudieron replicarse en absoluto.\n",
    "\n",
    "En cualquier caso, los procedimientos de ajuste para pruebas estadísticas altamente definidas y estructuradas son demasiado específicos e inflexibles para ser de uso general para los científicos de datos. La conclusión para los científicos de datos sobre la multiplicidad es:\n",
    "- Para modelado predictivo, el riesgo de obtener un modelo ilusorio cuya eficacia aparente es en gran medida producto del azar se mitiga mediante la validación cruzada y el uso de un conjunto de retención.\n",
    "- Para otros procedimientos sin un conjunto de retención etiquetado para verificar el modelo, debes confiar en:\n",
    "- La conciencia de que cuanto más consultes y manipules los datos, mayor será el papel que pueda desempeñar el azar.\n",
    "- Heurísticas de remuestreo y simulación para proporcionar puntos de referencia de azar aleatorio con los cuales se pueden comparar los resultados observados."
   ]
  },
  {
   "cell_type": "markdown",
   "id": "2931aa0c-69e6-4f49-b9eb-14a327f459dd",
   "metadata": {},
   "source": [
    "### Ideas Clave\n",
    "* La multiplicidad en un estudio de investigación o proyecto de minería de datos (comparaciones múltiples, muchas variables, muchos modelos, etc.) aumenta el riesgo de concluir que algo es significativo simplemente por casualidad.\n",
    "* Para situaciones que involucran múltiples comparaciones estadísticas (es decir, múltiples pruebas de significancia), existen procedimientos de ajuste estadístico.\n",
    "* En una situación de minería de datos, el uso de un conjunto de retención con variables de resultado etiquetadas puede ayudar a evitar resultados engañosos."
   ]
  },
  {
   "cell_type": "markdown",
   "id": "0a698759-03df-4c85-9d28-c325c0e359b1",
   "metadata": {},
   "source": [
    "### Lecturas Adicionales\n",
    "* Para una breve exposición de un procedimiento (prueba de Dunnett) para ajustar por comparaciones múltiples, consulta el texto de estadísticas en línea de David Lane.\n",
    "* Megan Goldman ofrece un tratamiento ligeramente más extenso del procedimiento de ajuste de Bonferroni.\n",
    "* Para un tratamiento profundo de procedimientos estadísticos más flexibles para ajustar valores p, consulta \"Resampling-Based Multiple Testing\" de Peter Westfall y Stanley Young (Wiley, 1993).\n",
    "* Para una discusión sobre la partición de datos y el uso de conjuntos de retención en modelado predictivo, consulta el Capítulo 2 de \"Data Mining for Business Analytics\" de Galit Shmueli, Peter Bruce, Nitin Patel, Peter Gedeck, Inbal Yahav y Kenneth Lichtendahl (Wiley, 2007-2020, con ediciones para R, Python, Excel y JMP)."
   ]
  },
  {
   "cell_type": "markdown",
   "id": "30626b94-ecee-46a9-bc8c-729217c84a98",
   "metadata": {
    "jp-MarkdownHeadingCollapsed": true
   },
   "source": [
    "# **Grados de Libertad**\n",
    "\n",
    "En la documentación y configuraciones de muchas pruebas estadísticas y distribuciones de probabilidad, verás una referencia a \"grados de libertad\". El concepto se aplica a estadísticas calculadas a partir de datos de muestra y se refiere al número de valores libres para variar. Por ejemplo, si conoces la media de una muestra de 10 valores, hay 9 grados de libertad (una vez que conoces 9 de los valores de la muestra, el décimo se puede calcular y no es libre para variar). El parámetro de grados de libertad, aplicado a muchas distribuciones de probabilidad, afecta la forma de la distribución.\n",
    "\n",
    "El número de grados de libertad es un parámetro en muchas pruebas estadísticas. Por ejemplo, los grados de libertad es el nombre dado al denominador n - 1 que se ve en los cálculos de varianza y desviación estándar. ¿Por qué importa? Cuando usas una muestra para estimar la varianza de una población, obtendrás una estimación ligeramente sesgada hacia abajo si usas n en el denominador. Si usas $n - 1$ en el denominador, la estimación estará libre de ese sesgo."
   ]
  },
  {
   "cell_type": "markdown",
   "id": "d7151153-c4af-4cfd-af61-f219410ab3b9",
   "metadata": {},
   "source": [
    "Los grados de libertad (df por sus siglas en inglés) en estadística representan el número de valores independientes o elementos de datos que pueden variar en una estadística calculada. En otras palabras, los grados de libertad indican el número de valores que son libres de variar una vez que se han establecido ciertas restricciones o condiciones.\n",
    "\n",
    "En diferentes contextos estadísticos, los grados de libertad se calculan de manera diferente. Aquí hay algunas situaciones comunes y cómo se calculan los grados de libertad:\n",
    "\n",
    "1. **Prueba t de una muestra:** En una prueba t de una muestra, los grados de libertad se calculan como $n - 1$, donde $n$ es el tamaño de la muestra. Por ejemplo, si tenemos una muestra de tamaño 20, los grados de libertad serían $20 - 1 = 19$.\n",
    "\n",
    "2. **Prueba t de dos muestras independientes:** En una prueba t de dos muestras independientes, los grados de libertad se calculan de manera más compleja y dependen del tamaño de ambas muestras. La fórmula general es $df = n_1 + n_2 - 2$, donde $n_1$ y $n_2$ son los tamaños de las dos muestras. Por ejemplo, si tenemos dos muestras, una de tamaño 25 y otra de tamaño 30, los grados de libertad serían $25 + 30 - 2 = 53$.\n",
    "\n",
    "3. **Análisis de varianza (ANOVA):** En ANOVA, los grados de libertad se dividen en dos componentes: los grados de libertad entre los grupos y los grados de libertad dentro de los grupos. Los grados de libertad entre los grupos se calculan como $k - 1$, donde $k$ es el número de grupos. Los grados de libertad dentro de los grupos se calculan como $N - k$, donde $N$ es el número total de observaciones y $k$ es el número de grupos. Por ejemplo, si tenemos 4 grupos y 100 observaciones en total, los grados de libertad entre los grupos serían $4 - 1 = 3$ y los grados de libertad dentro de los grupos serían $100 - 4 = 96$."
   ]
  },
  {
   "cell_type": "markdown",
   "id": "6faf173e-b110-4a04-8036-e59b82da7862",
   "metadata": {},
   "source": [
    "### Términos Clave para Grados de Libertad\n",
    "\n",
    "$n$ o tamaño de la muestra\n",
    "- El número de observaciones (también llamadas filas o registros) en los datos.\n",
    "\n",
    "$d.f$.\n",
    "- Grados de libertad."
   ]
  },
  {
   "cell_type": "markdown",
   "id": "fcd37dc9-a405-41d1-9067-7d814232ed16",
   "metadata": {},
   "source": [
    "Una gran parte de un curso o texto de estadísticas tradicionales se dedica a varias pruebas estándar de hipótesis (prueba t, prueba F, etc.). Cuando las estadísticas de la muestra se estandarizan para su uso en fórmulas estadísticas tradicionales, los grados de libertad son parte del cálculo de estandarización para garantizar que tus datos estandarizados coincidan con la distribución de referencia adecuada (distribución t, distribución F, etc.).\n",
    "\n",
    "¿Es importante para la ciencia de datos? No realmente, al menos en el contexto de las pruebas de significancia. En primer lugar, las pruebas estadísticas formales se utilizan solo con moderación en la ciencia de datos. Además, el tamaño de los datos suele ser lo suficientemente grande como para que rara vez haga una diferencia real para un científico de datos si, por ejemplo, el denominador tiene $n$ o $n - 1$. (A medida que n crece, el sesgo que vendría de usar n en el denominador desaparece).\n",
    "\n",
    "Sin embargo, hay un contexto en el que es relevante: el uso de variables factorizadas en regresión (incluida la regresión logística). Algunos algoritmos de regresión tienen problemas si hay variables predictoras exactamente redundantes. Esto ocurre más comúnmente al factorizar variables categóricas en indicadores binarios (dummy). Considera la variable \"día de la semana\". Aunque hay siete días de la semana, solo hay seis grados de libertad al especificar el día de la semana. Por ejemplo, una vez que sabes que el día de la semana no es de lunes a sábado, sabes que debe ser domingo. La inclusión de los indicadores de lunes a sábado significa que también incluir domingo haría que la regresión fallara debido a un error de multicolinealidad."
   ]
  },
  {
   "cell_type": "markdown",
   "id": "eadfcf2d-5743-4911-8234-afb0de5834bc",
   "metadata": {},
   "source": [
    "### Ideas Clave\n",
    "* El número de grados de libertad (d.f) forma parte del cálculo para estandarizar las estadísticas de prueba, de modo que puedan compararse con distribuciones de referencia (distribución t, distribución F, etc.).\n",
    "* El concepto de grados de libertad está detrás del factorizado de variables categóricas en $n - 1$ indicadores o variables dummy al realizar una regresión (para evitar la multicolinealidad)."
   ]
  },
  {
   "cell_type": "markdown",
   "id": "4c291665-42b0-4296-9c51-37dcc52eceaa",
   "metadata": {},
   "source": [
    "### Lecturas Adicionales\r\n",
    "Existen varios tutoriales en línea sobre grados de libertad."
   ]
  },
  {
   "cell_type": "markdown",
   "id": "f48af1cc-e31b-4356-91d2-fab73682593a",
   "metadata": {
    "jp-MarkdownHeadingCollapsed": true
   },
   "source": [
    "# **ANOVA**\n",
    "\n",
    "Supongamos que, en lugar de una prueba A/B, tuviéramos una comparación de múltiples grupos, por ejemplo, A/B/C/D, cada uno con datos numéricos. El procedimiento estadístico que <span style=\"color:skyblue\">*prueba si hay una diferencia estadísticamente significativa entre los grupos*</span> se llama análisis de varianza, o ANOVA."
   ]
  },
  {
   "cell_type": "markdown",
   "id": "29d4ac47-f4ce-446c-aa59-ad3a9106e5c3",
   "metadata": {},
   "source": [
    "### Términos Clave para ANOVA\n",
    "\n",
    "**Comparación por pares**\n",
    "- Una prueba de hipótesis (por ejemplo, de medias) entre dos grupos dentro de múltiples grupos.\n",
    "\n",
    "**Prueba omnibus**\n",
    "- Una única prueba de hipótesis de la varianza general entre las medias de múltiples grupos.\n",
    "\n",
    "**Descomposición de la varianza**\n",
    "- Separación de componentes que contribuyen a un valor individual (por ejemplo, desde el promedio general, desde una media de tratamiento y desde un error residual).\n",
    "\n",
    "**Estadístico F**\n",
    "- Un estadístico estandarizado que mide hasta qué punto las diferencias entre las medias de los grupos superan lo que se podría esperar en un modelo aleatorio.\n",
    "\n",
    "**SS**\n",
    "- \"Suma de cuadrados\", haciendo referencia a desviaciones desde algún valor promedio."
   ]
  },
  {
   "cell_type": "markdown",
   "id": "4cbb8b74-1949-4844-afa4-0cb96f2cda77",
   "metadata": {},
   "source": [
    "La Tabla 3-3 muestra la retención (cantidad de tiempo que una visitante pasa en una página web específica) de cuatro páginas web, definida como la cantidad de segundos que un visitante pasa en la página. Las cuatro páginas se intercambian para que cada visitante reciba una al azar. Hay un total de cinco visitantes para cada página, cada columna es un conjunto independiente de datos. El primer espectador de la página 1 no tiene conexión con el primer espectador de la página 2. Ten en cuenta que en una prueba web como esta, no podemos implementar completamente el clásico diseño de muestreo aleatorio en el que cada visitante se selecciona al azar de una población enorme. Debemos tomar a los visitantes tal como vienen. Los visitantes pueden diferir sistemáticamente según la hora del día, el día de la semana, la temporada del año, las condiciones de su conexión a internet, el dispositivo que están utilizando, y así sucesivamente. Estos factores deben considerarse como posibles sesgos al revisar los resultados del experimento."
   ]
  },
  {
   "cell_type": "markdown",
   "id": "5ea20efe-e0fd-4986-80c6-3a794df1827b",
   "metadata": {},
   "source": [
    "**Tabla 3-3**. Retención (en segundos) de cuatro páginas web."
   ]
  },
  {
   "attachments": {
    "60f7ff0a-023f-4b08-8ff8-9ecb4bb23bbd.png": {
     "image/png": "[encoded data removed]"
    }
   },
   "cell_type": "markdown",
   "id": "aaca8ae3-7310-45e5-b5a1-aa4bcd71e4e7",
   "metadata": {},
   "source": [
    "![Captura de pantalla 2024-01-29 120535.png](attachment:60f7ff0a-023f-4b08-8ff8-9ecb4bb23bbd.png)"
   ]
  },
  {
   "cell_type": "markdown",
   "id": "474cb151-b886-4b13-b9de-102a4beac6c1",
   "metadata": {},
   "source": [
    "Ahora tenemos un dilema. Cuando estábamos comparando solo dos grupos, era un asunto simple; simplemente mirábamos la diferencia entre las medias de cada grupo. Con cuatro medias, hay seis comparaciones posibles entre grupos:\n",
    "* Página 1 comparada con la página 2\n",
    "* Página 1 comparada con la página 3\n",
    "* Página 1 comparada con la página 4\n",
    "* Página 2 comparada con la página 3\n",
    "* Página 2 comparada con la página 4\n",
    "* Página 3 comparada con la página 4\n",
    "\n",
    "- Cada una de estas comparaciones adicionales incrementa la probabilidad de comenter un error de tipo I, es decir, de concluir incorrectamente que hay una diferencia significativa cuando en realidad no la hay. Esto se debe a que, al realizar múltiples pruebas, aumenta la probabilidad de que se observe una resultado significativo simplemente por casualidad (error tipo I).\n",
    "- Para abordar este problema, se propone realizar una única prueba general, conocida como prueba ***omnibus***, que evalúe si todas las páginas web tienen la misma retención subyacente. Esta prueba busca determinar si las diferencias observadas entre los grupos podrían deberse simplemnte a la manera aleatoria en que se asignaron los tiempo de sesión entre las cuatro páginas.\n",
    "\n",
    "- Cuanto más hagamos este tipo de comparaciones entre pares, mayor será el potencial de ser engañados por la casualidad. En lugar de preocuparnos por todas las comparaciones diferentes entre páginas individuales que podríamos hacer, podemos realizar una única prueba general que aborde la pregunta: *¿Podrían todas las páginas tener la misma retención subyacente, y las diferencias entre ellas deberse a la manera aleatoria en que se asignaron un conjunto común de tiempos de sesión entre las cuatro páginas?\"*."
   ]
  },
  {
   "cell_type": "markdown",
   "id": "2c28895d-fa9d-4869-8e22-46cb08745da5",
   "metadata": {},
   "source": [
    "## Prueba Omnibus\n",
    "\n",
    "La ***prueba omnibus*** *es una técnica estadística utilizada para evaluar si existen diferencias significativas entre tres o más grupos en una variable dependiente*. En lugar de realizar múltiples pruebas de comparación entre pares de grupos, la prueba omnibus permite determinar si al menos un grupo es significativamente diferente de los demás.\n",
    "\n",
    "La prueba omnibus generalmente se implementa mediante análisis de varianza (ANOVA) o pruebas no paramétricas equivalentes, como la prueba de Kruskal-Wallis. Estas pruebas comparan las medias (o medianas en el caso de la prueba de Kruskal-Wallis) de los grupos y determinan si al menos un grupo es significativamente diferente de los demás.\n",
    "\n",
    "El objetivo de la prueba omnibus es proporcionar una visión general de si hay alguna diferencia global entre los grupos antes de realizar pruebas de comparación post hoc para identificar qué grupos difieren significativamente entre sí.\n",
    "\n",
    "Pasos para realizar una prueba omnibus mediante ANOVA:\n",
    "\n",
    "1. **Formulación de hipótesis:** Se plantea una hipótesis nula $H_0$ que establece que no hay diferencias significativas entre las medias de los grupos, y una hipótesis alternativa $H_1$ que indica que al menos un grupo es significativamente diferente de los demás.\n",
    "\n",
    "2. **Elección de la prueba:** Se selecciona el tipo de prueba omnibus adecuada para los datos en función de la distribución y naturaleza de la variable dependiente y la estructura de los grupos.\n",
    "\n",
    "3. **Cálculo de la estadística de prueba:** Se calcula la estadística de prueba correspondiente (por ejemplo, la estadística F en ANOVA) utilizando los datos observados.\n",
    "\n",
    "4. **Determinación del valor p:** Se determina el valor p asociado con la estadística de prueba calculada.\n",
    "\n",
    "5. **Interpretación de resultados:** Si el valor p es menor que un nivel de significancia predeterminado, se rechaza la hipótesis nula y se concluye que al menos un grupo es significativamente diferente de los demás. En caso contrario, no hay suficiente evidencia para rechazar la hipótesis nula.\n",
    "\n",
    "6. **Pruebas post hoc:** Si la prueba omnibus indica que hay diferencias significativas entre los grupos, se pueden realizar pruebas post hoc para identificar qué grupos difieren entre sí."
   ]
  },
  {
   "cell_type": "code",
   "execution_count": 33,
   "id": "010e7442-a617-4346-96d4-9bf9b13d94e9",
   "metadata": {},
   "outputs": [
    {
     "data": {
      "image/png": "[encoded data removed]",
      "text/plain": [
       "<Figure size 400x400 with 1 Axes>"
      ]
     },
     "metadata": {},
     "output_type": "display_data"
    }
   ],
   "source": [
    "# Importamos los datos de FOUR_SESSIONS_CSV y se lo asignamos a la variable four_sessions\n",
    "four_sessions = pd.read_csv(FOUR_SESSIONS_CSV)\n",
    "\n",
    "# Creamos un diagrama de caja pasandole las páginas y el tiempo\n",
    "ax = four_sessions.boxplot(by=\"Page\", column=\"Time\",\n",
    "                           figsize=(4,4))\n",
    "# Definimos la etiqueta del eje x como Page\n",
    "ax.set_xlabel(\"Page\")\n",
    "# Definimos la etiqueta del eje y como Time\n",
    "ax.set_ylabel(\"Time (in seconds)\")\n",
    "\n",
    "plt.suptitle('')\n",
    "plt.title('')\n",
    "\n",
    "plt.tight_layout()\n",
    "plt.show()"
   ]
  },
  {
   "cell_type": "markdown",
   "id": "42a8fe5d-8155-4d5d-985b-6837f3192ba3",
   "metadata": {},
   "source": [
    "**Figura 3-6**. Los diagramas de caja de los cuatro grupos muestran diferencias significativas entre ellos."
   ]
  },
  {
   "cell_type": "markdown",
   "id": "f26a1e51-25d9-49ea-a6b0-5ebbd772ac64",
   "metadata": {},
   "source": [
    "El procedimiento utilizado para probar esto es **ANOVA**. La base de esto se puede ver en el siguiente ***procedimiento de re-muestreo*** (especificado aquí para la prueba $A/B/C/D$ de la retención de las páginas web):\n",
    "1. Combinación de datos: Se combinan todos los datos de los cuatro grupos en una sola muestra.\n",
    "2. Barajado y extracción de remuestras: Se barajan los datos combinados y se extraen cuatro remuestras, cada una compuesta por cinco valores seleccionados al azar de la muestra combinada.\n",
    "3. Cálculo de la media de cada grupo: Se calcula la media de cada uno de los cuatro grupos formados por las remuestras.\n",
    "4. Cálcula de la varianza entre las medias de los grupos: Se calcula la varianza entre las medias de los cuatro grupos.\n",
    "5. Repeticiones del proceso: Se repiten los pasos 2-4 muchas veces(digamos, 1,000 veces).\n",
    "\n",
    "Luego, se plantea la pregunta ***¿Qué proporción de veces la varianza remuestrada superó la varianza observada?*** Esta proporción se utiliza para calculas el valor p de la prueba.\n",
    "\n",
    "- Este enfoque de prueba de permutación se utiliza para evaluar si hay diferencias significativas entre las medias de los grupos, al comparar la varianza entre las medias observadas con la varianza entre las medias remuestreadas. Si la varianza remuestrada supera frecuentemente la varianza observada, esto sugiere que las diferencias entre los grupos no son atribuibles al azar, lo que puede llevar a rechazar la hipótesis nula en favor de la hipótesis alternativa.\n",
    "\n",
    "Este tipo de prueba de permutación es un poco más complicado que el tipo utilizado en \"Prueba de Permutación\"."
   ]
  },
  {
   "cell_type": "markdown",
   "id": "c813217d-b136-4050-a224-0be393ee80ea",
   "metadata": {},
   "source": [
    "El valor p, dado por Pr(Prob), es 0.09278. En otras palabras, dada la misma retención subyacente, el 9.3% del tiempo la tasa de respuesta entre las cuatro páginas podría diferir tanto como se observó en realidad, simplemente por casualidad. Este grado de improbabilidad no alcanza el umbral estadístico tradicional del 5%, por lo que concluimos que la diferencia entre las cuatro páginas podría haber surgido por casualidad.\r\n",
    "La columna Iter lista el número de iteraciones realizadas en la prueba de permutación. Las otras columnas corresponden a una tabla ANOVA tradicional y se describen a continuación.\r\n",
    "En Python, podemos calcular la prueba de permutación utilizando el siguiente código:"
   ]
  },
  {
   "cell_type": "code",
   "execution_count": 34,
   "id": "ea12e6c2-62e8-477d-b752-498cf20dfc1c",
   "metadata": {},
   "outputs": [
    {
     "name": "stdout",
     "output_type": "stream",
     "text": [
      "Observed means: [172.8 182.6 175.6 164.6]\n",
      "Variance: 55.426666666666655\n",
      "54.94666666666683\n"
     ]
    },
    {
     "name": "stderr",
     "output_type": "stream",
     "text": [
      "C:\\Users\\HP\\AppData\\Local\\Temp\\ipykernel_33380\\2694393218.py:1: FutureWarning: Series.__getitem__ treating keys as positions is deprecated. In a future version, integer keys will always be treated as labels (consistent with DataFrame behavior). To access a value by position, use `ser.iloc[pos]`\n",
      "  observed_variance = four_sessions.groupby('Page').mean().var()[0]\n",
      "C:\\Users\\HP\\AppData\\Local\\Temp\\ipykernel_33380\\2694393218.py:8: FutureWarning: Series.__getitem__ treating keys as positions is deprecated. In a future version, integer keys will always be treated as labels (consistent with DataFrame behavior). To access a value by position, use `ser.iloc[pos]`\n",
      "  return df.groupby('Page').mean().var()[0]\n"
     ]
    }
   ],
   "source": [
    "observed_variance = four_sessions.groupby('Page').mean().var()[0]\n",
    "print('Observed means:', four_sessions.groupby('Page').mean().values.ravel())\n",
    "print('Variance:', observed_variance)\n",
    "# Permutation test example with stickiness\n",
    "def perm_test(df):\n",
    "    df = df.copy()\n",
    "    df['Time'] = np.random.permutation(df['Time'].values)\n",
    "    return df.groupby('Page').mean().var()[0]\n",
    "    \n",
    "print(perm_test(four_sessions))"
   ]
  },
  {
   "cell_type": "code",
   "execution_count": 44,
   "id": "cce3cb2d-7789-4c57-8f52-b1bd92963830",
   "metadata": {},
   "outputs": [],
   "source": [
    "# random.seed(1)\n",
    "# perm_variance = [perm_test(four_sessions) for _ in range(3000)]\n",
    "# print('Pr(Prob)', np.mean([var > observed_variance for var in perm_variance]))\n",
    "\n",
    "# fig, ax = plt.subplots(figsize=(5, 5))\n",
    "# ax.hist(perm_variance, bins=11, rwidth=0.9)\n",
    "# ax.axvline(x = observed_variance, color='black', lw=2)\n",
    "# ax.text(60, 200, 'Observed\\nvariance', bbox={'facecolor':'white'})\n",
    "# ax.set_xlabel('Variance')\n",
    "# ax.set_ylabel('Frequency')\n",
    "\n",
    "# plt.tight_layout()\n",
    "# plt.show()"
   ]
  },
  {
   "cell_type": "markdown",
   "id": "c7a5df0d-7bd4-4d14-a869-6179d89ad353",
   "metadata": {},
   "source": [
    "## **Estadístico F**\n",
    "\n",
    "Así como el t-test se puede utilizar en lugar de una prueba de permutación para comparar la media de dos grupos, existe una prueba estadística para ANOVA basada en el ***estadístico F***. El ***estadístico F*** <span style=\"color:skyblue\">*se basa en la relación entre la varianza (medida de dispersión que indica qué tan dispersos están los valores de un conjunto de datos alrededor de su media) entre las medias de los grupos* </span>(es decir, el efecto del tratamiento) y la varianza debido al error residual. *Cuanto mayor sea esta relación, más significativo será estadísticamente el resultado*. Si los datos siguen una distribución normal, entonces la teoría estadística dicta que el estadístico debería tener cierta distribución. Con base en esto, es posible calcular un valor p."
   ]
  },
  {
   "cell_type": "markdown",
   "id": "b9525118-8430-4e96-b0e7-8d2187213292",
   "metadata": {},
   "source": [
    "Determinar si existen diferencias significativas entre las medias de tres o más grupos. La ***prueba F*** compara la variabilidad entre los grupos con la variabilidad dentro de los grupos. Si la variabilidad entre los grupos es significativamente mayor que la variabilidad dentro de los grupos, se concluye que al menos uno de los grupos difiere de los demás en términos de la variable de interés.\n",
    "\n",
    "La fórmula general del estadístico F en el contexto de ANOVA es:\n",
    "\n",
    "$$F = \\frac{{\\text{Variabilidad entre los grupos}}}{{\\text{Variabilidad dentro de los grupos}}}$$\n",
    "\n",
    "La variabilidad entre los grupos se calcula como la suma de cuadrados entre los grupos $SSB$ dividida por sus grados de libertad $dfB$, y la variabilidad dentro de los grupos se calcula como la suma de cuadrados dentro de los grupos $SSW$ dividida por sus grados de libertad $dfW$.\n",
    "\n",
    "Para realizar una prueba de ANOVA y calcular el estadístico F, se siguen estos pasos:\n",
    "\n",
    "1. Formulación de hipótesis: Se plantea una hipótesis nula $H_0$ que afirma que no hay diferencias significativas entre las medias de los grupos, y una hipótesis alternativa $H_1$ que sugiere que al menos un grupo difiere de los demás.\n",
    "\n",
    "2. Cálculo de sumas de cuadrados: Se calculan las sumas de cuadrados entre los grupos $SSB$ y dentro de los grupos $SSW$ a partir de los datos observados.\n",
    "\n",
    "3. Cálculo de grados de libertad: Se determinan los grados de libertad correspondientes a $SSB$ $dfB$ y $SSW$ $dfW$.\n",
    "\n",
    "4. Cálculo del estadístico F: Se calcula el estadístico F dividiendo $SSB/dfB$ entre $SSW/dfW$.\n",
    "\n",
    "5. Determinación del valor p: Se determina el valor p asociado con el estadístico F calculado.\n",
    "\n",
    "6. Interpretación de resultados: Si el valor p es menor que un nivel de significancia predeterminado, se rechaza la hipótesis nula y se concluye que al menos un grupo difiere significativamente de los demás.\n",
    "\n",
    "Ejemplo de cómo se utiliza el estadístico F en un ANOVA:\n",
    "\n",
    "Supongamos que estamos estudiando el efecto de diferentes tratamientos en el crecimiento de plantas y tenemos tres grupos de plantas tratadas con diferentes fertilizantes. Queremos determinar si hay diferencias significativas en la altura promedio de las plantas entre los tres grupos. Realizamos un ANOVA y obtenemos el siguiente resultado:\n",
    "\n",
    "- Suma de cuadrados entre los grupos $SSB$: 400\n",
    "- Grados de libertad entre los grupos $dfB$: 2\n",
    "- Suma de cuadrados dentro de los grupos $SSW$: 300\n",
    "- Grados de libertad dentro de los grupos $dfW$: 27\n",
    "\n",
    "Calculamos el estadístico F:\n",
    "\n",
    "$$F = \\frac{{SSB/dfB}}{{SSW/dfW}} = \\frac{{400/2}}{{300/27}} \\approx \\frac{{200}}{{11.11}} \\approx 18$$\n",
    "\n",
    "Supongamos que el valor p asociado con este estadístico F es menor que 0.05. En este caso, rechazaríamos la hipótesis nula y concluiríamos que al menos un grupo difiere significativamente de los demás en términos de la altura promedio de las plantas."
   ]
  },
  {
   "cell_type": "markdown",
   "id": "5976ebc7-c21a-402f-b47b-3f79c8876029",
   "metadata": {},
   "source": [
    "El paquete `statsmodels` proporciona una implementación de `ANOVA` en Python:"
   ]
  },
  {
   "cell_type": "code",
   "execution_count": 35,
   "id": "4f2c1bb2-29bd-4faa-93ea-fa6ca064f5cc",
   "metadata": {},
   "outputs": [
    {
     "name": "stdout",
     "output_type": "stream",
     "text": [
      "            df  sum_sq     mean_sq         F    PR(>F)\n",
      "Page       3.0   831.4  277.133333  2.739825  0.077586\n",
      "Residual  16.0  1618.4  101.150000       NaN       NaN\n"
     ]
    }
   ],
   "source": [
    "# Ajusta un modelo de regresión lineal utilizando Ordinary Least Squares (OLS) para predecir la variable\n",
    "# \"Time\" en función de la variable \"Page\".\n",
    "# El modelo se ajusta utilizando los datos proporcionados en el DataFrame \"four_sessions\".\n",
    "model = smf.ols(\"Time ~ Page\", data=four_sessions).fit()\n",
    "\n",
    "# Calcula la tabla de análisis de varianza (ANOVA) para el modelo ajustado.\n",
    "aov_table = sm.stats.anova_lm(model)\n",
    "\n",
    "# Imprime la tabla de ANOVA.\n",
    "print(aov_table)"
   ]
  },
  {
   "cell_type": "code",
   "execution_count": 36,
   "id": "1029c306-2576-4929-a348-55a5c36753a6",
   "metadata": {},
   "outputs": [
    {
     "name": "stdout",
     "output_type": "stream",
     "text": [
      "F-Statistic: 1.3699\n",
      "p-value: 0.0388\n"
     ]
    }
   ],
   "source": [
    "res = stats.f_oneway(four_sessions[four_sessions.Page == 'Page 1'].Time, \n",
    "                     four_sessions[four_sessions.Page == 'Page 2'].Time,\n",
    "                     four_sessions[four_sessions.Page == 'Page 3'].Time,\n",
    "                     four_sessions[four_sessions.Page == 'Page 4'].Time)\n",
    "print(f'F-Statistic: {res.statistic / 2:.4f}')\n",
    "print(f'p-value: {res.pvalue / 2:.4f}')"
   ]
  },
  {
   "cell_type": "markdown",
   "id": "93f51fb9-10b9-4a1f-8b66-6b36ee9561da",
   "metadata": {},
   "source": [
    "***df*** es *grados de libertad*, ***sum_sq*** es *suma de cuadrados*, ***mean_sq*** es *cuadrados medios* (abreviatura d desviaciones cuadráticas medias), y ***F*** es el *estadístico F*. Para el promedio general, la suma de cuadrados es la diferencia entre el promedio general y 0, al cuadrado, multiplicada por 20 (el número de observaciones). Los grados de libertad para el promedio general son 1, por definición.\n",
    "Para las medias del tratamiento, los grados de libertad son 3 (una vez que se establecen tres valores y luego se establece el promedio general, la otra media del tratamiento no puede variar). La suma de cuadrados para las medias del tratamiento es la suma de las diferencias cuadráticas entre las medias del tratamiento y el promedio general.\n",
    "Para los residuos, los grados de libertad son 20 (todas las observaciones pueden variar) y ***SS*** es la suma de las diferencias cuadráticas entre las observaciones individuales y las medias del tratamiento. Los cuadrados medios ***MS*** son la suma de cuadrados dividida por los grados de libertad. El estadístico F es MS(tratamiento)/MS(error). El valor F depende solo de esta relación y se puede comparar con una distribución F estándar para determinar si las diferencias entre las medias del tratamiento son mayores de lo que se esperaría en la variación aleatoria por casualidad.\n",
    "\n",
    "- Grados de libertad (df): Representan la cantidad de valores que son libres de variar en un cálculo estadístico. En este contexto, los grados de libertad indican cántos valores tienen la libertad de cambiar sin efectar la validez de la estimación.\n",
    "- Suma de cuadrados (sum_sq): Es la suma de los cuadrados de las diferencias entre cada valor y un valor de referencia (como la media). Representan cuánto varían los valores del conjunto de datos.\n",
    "- Cuadrados medios (mean_q): También conocidos como cuadrados medios de las desviaciones cuadráticas, se calculan dividiendo la suma de cuadrados por los grados de libertad correspondientes. Proporcionan una medida de la variabilidad promedio en los datos.\n",
    "- Estadíctico F (F): Es una medida utilizada en el análisis de varianza (ANOVA) para comparar la variabilidad entre grupos con la variabilidad dentro de los grupos. Se calcula como la razón entre los cuadrados medios de los tratamiento y los cuadrados medios de los residuos."
   ]
  },
  {
   "cell_type": "markdown",
   "id": "3a7337ad-ca37-4292-bff0-09266a301b67",
   "metadata": {},
   "source": [
    "### Descomposición de la Varianza\n",
    "    Los valores observados en un conjunto de datos se pueden considerar como sumas de diferentes componentes. Para cualquier valor de datos observado dentro de un conjunto de datos, podemos descomponerlo en el promedio general, el efecto del tratamiento y el error residual. Llamamos a esto una \"descomposición de la varianza\":\n",
    "    \n",
    "    1. Comienza con el promedio general (173.75 para los datos de pegajosidad de la página web).\n",
    "    2. Agrega el efecto del tratamiento, que podría ser negativo (variable independiente = página web).\n",
    "    3. Agrega el error residual, que también podría ser negativo.\n",
    "    \n",
    "    Así, la descomposición de la varianza para el valor superior izquierdo en la tabla de prueba A/B/C/D es la siguiente:\n",
    "    \n",
    "    1. Comienza con el promedio general: 173.75.\n",
    "    2. Agrega el efecto del tratamiento (grupo): -1.75 (172 - 173.75).\n",
    "    3. Agrega el residual: -8 (164 - 172).\n",
    "    4. Resultado: 164.\n"
   ]
  },
  {
   "cell_type": "markdown",
   "id": "6dd38384-c3fb-46ec-be75-06887dc80483",
   "metadata": {},
   "source": [
    "## Error residual\n",
    "- Es también conocido como *error aleatorio* o *error no explicado*, <span style=\"color:skyblue\">*es la diferecia entre los valores observados y los valores predichos por un modelo estadístico*</span>. Representa la discrepancia entre los datos reales y las estimaciones proporcionadas por el modelo. Cuando se ajusta un modelo estadístico a un conjunto de datos, se intenta capturar la relación entre las variables independiente y la variable dependiente. Sin embargo, es improbable que el modelo captura completamente todas las influencias y variaciones en los datos. El **error residual** captura la parte de la variación en los datos que no es aplicada por el modelo.\n",
    "- En el contexto del análisis de varianza (ANOVA), el error residual <span style=\"color:skyblue\">*se refiere a la variación en los datos que no puede ser atribuida a las diferencias entre los grupos*</span>. Después de tener en cuenta la variabilidad entre los grupos (explicada por el efecto del tratamiento), el error residual representa la variación que aún permanece sin explicar.\n",
    "- El error residual es importante porque porporciona información sobre la precisión del modelo estadístico. Un error residual pequeño indica que el modelo se ajusta bien a los datos, mientras que un error residual grande sugiere que el modelo no captura completamente la estructura subyacente de los datos.\n",
    "\n",
    "- El error residual se calcula como la diferencia entre los valores observados y los valores predichos por el modelo para cada punto de datos en el conjunto de datos. Matemáticamente, el error residual para el i-ésimo punto de datos se denota como $e_i = y_i - \\hat{y}_i$, donde $y_i$ es el valor observado y $\\hat{y}_i$ es el valor predicho por el modelo."
   ]
  },
  {
   "cell_type": "markdown",
   "id": "f90fdf2a-944d-46ee-b6fa-51ec16540fb3",
   "metadata": {},
   "source": [
    "## ANOVA de Dos Factores\r\n",
    "La prueba A/B/C/D que se describió anteriormente es una ANOVA \"de un solo factor\", en la que tenemos un factor (grupo) que varía. Podríamos tener un segundo factor involucrado, por ejemplo, \"fin de semana versus día de semana\", con datos recopilados para cada combinación (grupo A fin de semana, grupo A día de semana, grupo B fin de semana, etc.). Esto sería una \"ANOVA de dos factores\", y lo manejaríamos de manera similar a la ANOVA de un solo factor identificando el \"efecto de interacción\". Después de identificar el efecto promedio general y el efecto del tratamiento, luego separamos las observaciones de fin de semana y día de semana para cada grupo y encontramos la diferencia entre los promedios para esos subconjuntos y el promedio del tratamiento.\r\n",
    "\r\n",
    "Puedes ver que la ANOVA y luego la ANOVA de dos factores son los primeros pasos en el camino hacia un modelo estadístico completo, como la regresión y la regresión logística, en el que se pueden modelar múltiples factores y sus efectos (ver Capítulo 4)."
   ]
  },
  {
   "cell_type": "markdown",
   "id": "1a64b068-13ec-4187-a8ad-f81573724d6d",
   "metadata": {},
   "source": [
    "### Ideas Clave\n",
    "\n",
    "- ***ANOVA*** *<span style=\"color:skyblue\">es un procedimiento estadístico para analizar los resultados de un experimento con múltiples grupos.</span>*\n",
    "- Es la extensión de procedimientos similares para la prueba A/B, utilizada para evaluar si la variación general entre los grupos está dentro del rango de variación al azar.\n",
    "- Un resultado útil de ANOVA es la identificación de componentes de variación asociados con tratamientos de grupo, efectos de interacción y errores."
   ]
  },
  {
   "cell_type": "markdown",
   "id": "baf5aa44-f26d-4d74-8bd7-41e8277011b6",
   "metadata": {},
   "source": [
    "### Lecturas Adicionales\r\n",
    "- *Introductory Statistics and Analytics: A Resampling Perspective* de Peter Bruce (Wiley, 2014) tiene un capítulo sobre ANOVA.\r\n",
    "- *Introduction to Design and Analysis of Experiments* de George Cobb (Wiley, 2008) es un tratamiento completo y fácil de leer de su tema."
   ]
  },
  {
   "cell_type": "markdown",
   "id": "03fb3a71-06ff-4b23-bc3e-92305e87dd1e",
   "metadata": {
    "jp-MarkdownHeadingCollapsed": true
   },
   "source": [
    "# **Prueba de Chi-Cuadrado**\n",
    "\n",
    "Las pruebas web a menudo van más allá de las pruebas A/B y prueban múltiples tratamientos a la vez. La prueba de chi-cuadrado se utiliza con datos de recuento para evaluar cuán bien se ajusta a alguna distribución esperada. El uso más común de la estadística chi-cuadrado en la práctica estadística es con tablas de contingencia r × c, para evaluar si la hipótesis nula de independencia entre variables es razonable.\n",
    "\n",
    "La prueba de chi-cuadrado fue desarrollada originalmente por Karl Pearson en 1900. El término \"chi\" proviene de la letra griega Χ utilizada por Pearson en el artículo.\n",
    "\n",
    "- <span style=\"color:skyblue\">Es una medida estadística que se utiliza para evaluar si existe una relación significativa entre dos variables categóricas en un conjunto de datos. Se utiliza principalmente en pruebas de independencia y en prueba de bondad de ajuste.</span>"
   ]
  },
  {
   "cell_type": "markdown",
   "id": "af3198c4-ea03-4d10-b1b4-675109a9fbc8",
   "metadata": {},
   "source": [
    "### Términos Clave para la Prueba de Chi-Cuadrado\n",
    "\n",
    "**Estadística de chi-cuadrado**\n",
    "- Una medida de la medida en que algunos datos observados se desvían de la expectativa.\n",
    "\n",
    "**Expectativa o esperado**\n",
    "- Cómo esperaríamos que los datos resultaran bajo alguna suposición, típicamente la hipótesis nula."
   ]
  },
  {
   "cell_type": "markdown",
   "id": "42a96416-cc73-4291-b1dc-1a8037c02d21",
   "metadata": {},
   "source": [
    "r × c significa \"filas por columnas\": una tabla de 2 × 3 tiene dos filas y tres columnas."
   ]
  },
  {
   "cell_type": "markdown",
   "id": "8d352ed6-519b-4020-80d7-16a71f8e0d05",
   "metadata": {},
   "source": [
    "## Prueba de Chi-Cuadrado: Un Enfoque de Remuestreo\r\n",
    "Supongamos que estás probando tres titulares diferentes: A, B y C, y los ejecutas en cada uno de los 1,000 visitantes, con los resultados mostrados en la Tabla 3-4."
   ]
  },
  {
   "cell_type": "markdown",
   "id": "373fe767-e942-4669-a50a-6d7bc31f3e7f",
   "metadata": {},
   "source": [
    "**Tabla 3-4**. Resultados de las pruebas web para tres titulares diferentes"
   ]
  },
  {
   "attachments": {
    "6abf730d-22b0-4628-a87c-11bf49ae22b6.png": {
     "image/png": "[encoded data removed]"
    }
   },
   "cell_type": "markdown",
   "id": "77902e20-70a2-4498-a508-303af1abf590",
   "metadata": {},
   "source": [
    "![Captura de pantalla 2024-01-29 121553.png](attachment:6abf730d-22b0-4628-a87c-11bf49ae22b6.png)"
   ]
  },
  {
   "cell_type": "code",
   "execution_count": 46,
   "id": "7004431a-17dd-4235-9f60-2aac25bb4e1d",
   "metadata": {},
   "outputs": [
    {
     "name": "stdout",
     "output_type": "stream",
     "text": [
      "Headline  Headline A  Headline B  Headline C\n",
      "Click                                       \n",
      "Click             14           8          12\n",
      "No-click         986         992         988\n"
     ]
    }
   ],
   "source": [
    "# Tabla 3-4\n",
    "click_rate = pd.read_csv(CLICK_RATE_CSV)\n",
    "clicks = click_rate.pivot(index=\"Click\", columns=\"Headline\", values=\"Rate\")\n",
    "print(clicks)"
   ]
  },
  {
   "cell_type": "markdown",
   "id": "90b52a21-23ac-4e83-a4a1-d99cd027bde0",
   "metadata": {},
   "source": [
    "Los titulares ciertamente parecen ser diferentes. El titular A tiene casi el doble de la tasa de clics que B. Sin embargo, los números reales son pequeños. Un procedimiento de remuestreo puede probar si las tasas de clic difieren en una medida mayor de lo que podría causar el azar. Para esta prueba, necesitamos tener la distribución \"esperada\" de clics, y en este caso, sería bajo la suposición de la hipótesis nula de que los tres titulares comparten la misma tasa de clics, con una tasa de clics general de 34/3,000. Bajo esta suposición, nuestra tabla de contingencia se vería como la Tabla 3-5."
   ]
  },
  {
   "cell_type": "markdown",
   "id": "21bc4776-4583-4666-a3ff-f2bbfe1d627b",
   "metadata": {},
   "source": [
    "**Tabla 3-5**. Esperado si los tres titulares tienen la misma tasa de clics (hipótesis nula)"
   ]
  },
  {
   "attachments": {
    "565d6aa3-5144-4957-aee8-d7e01f0931e0.png": {
     "image/png": "[encoded data removed]"
    }
   },
   "cell_type": "markdown",
   "id": "d667b5d3-f5b0-4679-bfd4-396cd3689845",
   "metadata": {},
   "source": [
    "![Captura de pantalla 2024-01-29 121658.png](attachment:565d6aa3-5144-4957-aee8-d7e01f0931e0.png)"
   ]
  },
  {
   "cell_type": "code",
   "execution_count": 47,
   "id": "4047aabd-17e4-4b3d-881f-1fcc898c43e3",
   "metadata": {},
   "outputs": [
    {
     "data": {
      "text/html": [
       "<div>\n",
       "<style scoped>\n",
       "    .dataframe tbody tr th:only-of-type {\n",
       "        vertical-align: middle;\n",
       "    }\n",
       "\n",
       "    .dataframe tbody tr th {\n",
       "        vertical-align: top;\n",
       "    }\n",
       "\n",
       "    .dataframe thead th {\n",
       "        text-align: right;\n",
       "    }\n",
       "</style>\n",
       "<table border=\"1\" class=\"dataframe\">\n",
       "  <thead>\n",
       "    <tr style=\"text-align: right;\">\n",
       "      <th></th>\n",
       "      <th>Headline A</th>\n",
       "      <th>Headline B</th>\n",
       "      <th>Headline X</th>\n",
       "    </tr>\n",
       "    <tr>\n",
       "      <th>Click</th>\n",
       "      <th></th>\n",
       "      <th></th>\n",
       "      <th></th>\n",
       "    </tr>\n",
       "  </thead>\n",
       "  <tbody>\n",
       "    <tr>\n",
       "      <th>Click</th>\n",
       "      <td>11.333333</td>\n",
       "      <td>11.333333</td>\n",
       "      <td>11.333333</td>\n",
       "    </tr>\n",
       "    <tr>\n",
       "      <th>No-click</th>\n",
       "      <td>988.666667</td>\n",
       "      <td>988.666667</td>\n",
       "      <td>988.666667</td>\n",
       "    </tr>\n",
       "  </tbody>\n",
       "</table>\n",
       "</div>"
      ],
      "text/plain": [
       "          Headline A  Headline B  Headline X\n",
       "Click                                       \n",
       "Click      11.333333   11.333333   11.333333\n",
       "No-click  988.666667  988.666667  988.666667"
      ]
     },
     "execution_count": 47,
     "metadata": {},
     "output_type": "execute_result"
    }
   ],
   "source": [
    "# Tabla 3-5\n",
    "row_average = clicks.mean(axis=1)\n",
    "pd.DataFrame({\n",
    "    \"Headline A\": row_average,\n",
    "    \"Headline B\": row_average,\n",
    "    \"Headline X\": row_average,\n",
    "})"
   ]
  },
  {
   "cell_type": "markdown",
   "id": "23d52b0a-d61c-4967-8184-905a766d1d5e",
   "metadata": {},
   "source": [
    "El ***residuo de Pearson*** se define como:\n",
    "\n",
    "$R = \\frac{{\\text{{Observed}} - \\text{{Expected}}}}{{\\sqrt{\\text{{Expected}}}}}$\n",
    "\n",
    " $R$ : Mide en qué medida las cuentas reales difieren de estas cuentas esperadas (ver Tabla 3-6)."
   ]
  },
  {
   "cell_type": "markdown",
   "id": "6094b76f-fe71-49d8-9db7-922d4afe37dd",
   "metadata": {},
   "source": [
    "**Tabla 3-6**. Residuos de Pearson"
   ]
  },
  {
   "attachments": {
    "b8cde221-dc92-4e47-8558-7549a3c65b49.png": {
     "image/png": "[encoded data removed]"
    }
   },
   "cell_type": "markdown",
   "id": "d27ef0a0-c725-4108-9505-3c413a6d3502",
   "metadata": {},
   "source": [
    "![Captura de pantalla 2024-01-29 122013.png](attachment:b8cde221-dc92-4e47-8558-7549a3c65b49.png)"
   ]
  },
  {
   "cell_type": "markdown",
   "id": "e5e7a060-15aa-4f96-b486-d6d25a83a955",
   "metadata": {},
   "source": [
    "El **estadístico chi-cuadrado** se define como la suma de los residuos de Pearson al cuadrado:\n",
    "\n",
    "$$x = \\sum_{i}^{r} \\sum_{j}^{c} R_{}^2$$\n",
    "\n",
    "donde r y c son el número de filas y columnas, respectivamente. El estadístico chi-cuadrado para este ejemplo es 1.666. ¿Es esto más de lo que podría ocurrir razonablemente en un modelo aleatorio?\n",
    "Podemos probar con este algoritmo de remuestreo:\n",
    "1. Constituir un conjunto con 34 unos (clics) y 2,966 ceros (sin clics).\n",
    "2. Mezclar, tomar tres muestras separadas de 1,000 y contar los clics en cada una.\n",
    "3. Encontrar las diferencias al cuadrado entre los recuentos mezclados y los recuentos esperados y sumarlos.\n",
    "4. Repetir los pasos 2 y 3, digamos, 1,000 veces.\n",
    "5. ¿Con qué frecuencia el sumatorio remuestreado de las desviaciones al cuadrado supera al observado? Ese es el valor p.\n",
    "\n"
   ]
  },
  {
   "cell_type": "markdown",
   "id": "ed877984-92b2-4e25-a631-06d00cfc2d3e",
   "metadata": {},
   "source": [
    "La prueba muestra que este resultado podría haberse obtenido fácilmente por azar. Para realizar una prueba de permutación en Python, utiliza la siguiente implementación:"
   ]
  },
  {
   "cell_type": "code",
   "execution_count": 48,
   "id": "a14882e0-7d2e-48c6-8c98-c6ecbaacd408",
   "metadata": {},
   "outputs": [
    {
     "name": "stdout",
     "output_type": "stream",
     "text": [
      "Observed chi2: 1.6659\n",
      "Resampled p-value: 0.4660\n"
     ]
    }
   ],
   "source": [
    "# Resampling approach\n",
    "box = [1] * 34\n",
    "box.extend([0] * 2966)\n",
    "random.shuffle(box)\n",
    "\n",
    "def chi2(observed, expected):\n",
    "    pearson_residuals = []\n",
    "    for row, expect in zip(observed, expected):\n",
    "        pearson_residuals.append([(observe - expect) ** 2 / expect\n",
    "                                  for observe in row])\n",
    "    # return sum of squares\n",
    "    return np.sum(pearson_residuals)\n",
    "\n",
    "expected_clicks = 34 / 3\n",
    "expected_noclicks = 1000 - expected_clicks\n",
    "expected = [expected_clicks, expected_noclicks]\n",
    "chi2observed = chi2(clicks.values, expected)\n",
    "\n",
    "def perm_fun(box):\n",
    "    random.shuffle(box)\n",
    "    sample_clicks = [sum(box[0:1000]),\n",
    "                     sum(box[1000:2000]),\n",
    "                     sum(box[2000:3000])]\n",
    "    sample_noclicks = [1000 - n for n in sample_clicks]\n",
    "    return chi2([sample_clicks, sample_noclicks], expected)\n",
    "\n",
    "perm_chi2 = [perm_fun(box) for _ in range(2000)]\n",
    "\n",
    "resampled_p_value = sum(perm_chi2 > chi2observed) / len(perm_chi2)\n",
    "print(f'Observed chi2: {chi2observed:.4f}')\n",
    "print(f'Resampled p-value: {resampled_p_value:.4f}')"
   ]
  },
  {
   "cell_type": "markdown",
   "id": "be182106-d79c-47d4-8e12-87755627af36",
   "metadata": {},
   "source": [
    "## Prueba de Chi-Cuadrado: Teoría Estadística\n",
    "\n",
    "La teoría estadística asintótica muestra que la distribución de la estadística chi-cuadrado se puede aproximar mediante una distribución chi-cuadrado. La distribución chi-cuadrado estándar adecuada está determinada por los grados de libertad. Para una tabla de contingencia, los grados de libertad están relacionados con el número de filas (r) y columnas (c) de la siguiente manera:\n",
    "\n",
    "grados de libertad = $(r - 1) × (c - 1)$\n",
    "\n",
    "La distribución chi-cuadrado suele tener asimetría, con una cola larga hacia la derecha; consulta la Figura 3-7 para la distribución con 1, 2, 5 y 20 grados de libertad. Cuanto más alejada esté la estadística observada en la distribución chi-cuadrado, menor será el valor p.\n"
   ]
  },
  {
   "cell_type": "markdown",
   "id": "34d07084-1c9c-4d9e-b1a0-02a0654f95f4",
   "metadata": {},
   "source": [
    "En Python, utiliza la función `scipy.stats.chi2_contingency`:"
   ]
  },
  {
   "cell_type": "code",
   "execution_count": 49,
   "id": "ffd8a78c-4381-40a3-8aad-8117ab2755da",
   "metadata": {},
   "outputs": [
    {
     "name": "stdout",
     "output_type": "stream",
     "text": [
      "Observed chi2: 1.6659\n",
      "p-value: 0.4348\n"
     ]
    }
   ],
   "source": [
    "chisq, pvalue, df, expected = stats.chi2_contingency(clicks)\n",
    "print(f\"Observed chi2: {chi2observed:.4f}\")\n",
    "print(f\"p-value: {pvalue:.4f}\")"
   ]
  },
  {
   "cell_type": "markdown",
   "id": "0cfb02ce-aa2f-4c0a-8d37-f69b4a2aa927",
   "metadata": {},
   "source": [
    "El valor p es un poco menor que el valor p del remuestreo; esto se debe a que la distribución chi-cuadrado es solo una aproximación de la distribución real de la estadística."
   ]
  },
  {
   "cell_type": "code",
   "execution_count": 50,
   "id": "6e1ebe78-640a-4ab9-be72-be92e37dd06d",
   "metadata": {},
   "outputs": [
    {
     "data": {
      "image/png": "[encoded data removed]",
      "text/plain": [
       "<Figure size 400x250 with 1 Axes>"
      ]
     },
     "metadata": {},
     "output_type": "display_data"
    }
   ],
   "source": [
    "x = [1 + i * (30 - 1) / 99 for i in range(100)]\n",
    "\n",
    "chi = pd.DataFrame({\n",
    "    'x': x,\n",
    "    'chi_1': stats.chi2.pdf(x, df=1),\n",
    "    'chi_2': stats.chi2.pdf(x, df=2),\n",
    "    'chi_5': stats.chi2.pdf(x, df=5),\n",
    "    'chi_10': stats.chi2.pdf(x, df=10),\n",
    "    'chi_20': stats.chi2.pdf(x, df=20),\n",
    "})\n",
    "fig, ax = plt.subplots(figsize=(4, 2.5))\n",
    "ax.plot(chi.x, chi.chi_1, color='black', linestyle='-', label='1')\n",
    "ax.plot(chi.x, chi.chi_2, color='black', linestyle=(0, (1, 1)), label='2')\n",
    "ax.plot(chi.x, chi.chi_5, color='black', linestyle=(0, (2, 1)), label='5')\n",
    "ax.plot(chi.x, chi.chi_10, color='black', linestyle=(0, (3, 1)), label='10')\n",
    "ax.plot(chi.x, chi.chi_20, color='black', linestyle=(0, (4, 1)), label='20')\n",
    "ax.legend(title='df')\n",
    "\n",
    "plt.tight_layout()\n",
    "plt.show()"
   ]
  },
  {
   "cell_type": "markdown",
   "id": "ed857ef8-c3c1-4158-91ec-ebf198442fb8",
   "metadata": {},
   "source": [
    "**Figura 3-7**. Distribución chi-cuadrado con diferentes grados de libertad."
   ]
  },
  {
   "cell_type": "markdown",
   "id": "05e8d1b8-2eb5-495d-8cb9-c619411e78e1",
   "metadata": {},
   "source": [
    "## Prueba exacta de Fisher\n",
    "La distribución chi-cuadrado es una buena aproximación de la prueba de reordenamiento aleatorio descrita anteriormente, excepto cuando las frecuencias son extremadamente bajas (en cifras simples, especialmente cinco o menos). En tales casos, el procedimiento de reordenamiento aleatorio proporcionará valores p más precisos. De hecho, la mayoría de los programas estadísticos tienen un procedimiento para enumerar realmente todas las posibles reorganizaciones (permutaciones) que pueden ocurrir, tabular sus frecuencias y determinar exactamente cuán extremo es el resultado observado. Esto se llama la prueba exacta de Fisher, en honor al gran estadístico R. A. Fisher. \n",
    "\n",
    "- La prueba de Fisher o prueba de la razón de verosimilitudes, es una prueba estadística utilizada para determinar si existe una asociación significativa entre dos variable categóricas en un conjunto de datos. Esta prueba se utiliza comúnmente en tablas de contigencia cuando el tamaño muestral es pequeño y las suposiciones requeridas para otras pruebas, como la prueba chi-cuadrado, no se cumplen."
   ]
  },
  {
   "cell_type": "code",
   "execution_count": 54,
   "id": "1ac6241c-a4eb-4fd2-b3a5-7b04192d02ed",
   "metadata": {},
   "outputs": [],
   "source": [
    "# stats.fisher_exact(clicks.values)"
   ]
  },
  {
   "cell_type": "markdown",
   "id": "f47101f9-5159-4b8e-b619-f0ae4a2ffd92",
   "metadata": {},
   "source": [
    "El valor p es muy cercano al valor p de 0.4853 obtenido utilizando el método de reordenamiento aleatorio.\r\n",
    "Cuando algunas frecuencias son muy bajas pero otras son bastante altas (por ejemplo, el denominador en una tasa de conversión), puede ser necesario realizar una prueba de permutación aleatoria en lugar de una prueba exacta completa, debido a la dificultad de calcular todas las posibles permutaciones. La función R anterior tiene varios argumentos que controlan si se debe utilizar esta aproximación (simulate.p.value=TRUE o FALSE), cuántas iteraciones se deben utilizar (B=...) y una restricción computacional (workspace=...) que limita hasta dónde deben llegar los cálculos para el resultado exacto.\r\n",
    "No hay una implementación fácilmente disponible de la prueba exacta de Fisher en Python."
   ]
  },
  {
   "cell_type": "markdown",
   "id": "adc386b3-de6c-4444-8075-f1d24d38e3c4",
   "metadata": {},
   "source": [
    "## Detectar Fraude Científico\r\n",
    "Un ejemplo interesante se proporciona con el caso de la investigadora de la Universidad de Tufts, Thereza Imanishi-Kari, quien fue acusada en 1991 de fabricar datos en su investigación. El congresista John Dingell se involucró y el caso eventualmente llevó a la renuncia de su colega, David Baltimore, de la presidencia de la Universidad Rockefeller.\r\n",
    "\r\n",
    "Uno de los elementos clave en el caso se basó en evidencia estadística relacionada con la distribución esperada de dígitos en los datos de su laboratorio, donde cada observación tenía muchos dígitos. Los investigadores se centraron en los dígitos interiores (ignorando el primer y último dígito de un número), los cuales se esperaría que siguieran una distribución aleatoria uniforme. Es decir, deberían ocurrir de manera aleatoria, con cada dígito teniendo igual probabilidad de aparecer (el primer dígito podría ser predominantemente un valor y los últimos dígitos podrían estar afectados por el redondeo). La Tabla 3-7 enumera las frecuencias de los dígitos interiores de los datos reales en el caso."
   ]
  },
  {
   "cell_type": "markdown",
   "id": "12364646-904d-4921-bab6-e16149f26224",
   "metadata": {},
   "source": [
    "**Tabla 3-7**. Frecuencia de dígitos interiores en datos de laboratorio."
   ]
  },
  {
   "attachments": {
    "27fd4329-b9a2-4c9a-9098-da75659f8e73.png": {
     "image/png": "[encoded data removed]"
    }
   },
   "cell_type": "markdown",
   "id": "e46ea2ec-a7d2-4958-8982-e19cbafe9475",
   "metadata": {},
   "source": [
    "![Captura de pantalla 2024-01-29 123853.png](attachment:27fd4329-b9a2-4c9a-9098-da75659f8e73.png)"
   ]
  },
  {
   "cell_type": "markdown",
   "id": "0375eeaa-168c-47ed-80de-12fe81f132e3",
   "metadata": {},
   "source": [
    "La distribución de los 315 dígitos, mostrada en la Figura 3-8, ciertamente parece no ser aleatoria. Los investigadores calcularon la desviación de la expectativa (31.5, que es cuántas veces cada dígito ocurriría en una distribución estrictamente uniforme) y utilizaron una prueba chi-cuadrado (también se podría haber utilizado un procedimiento de reordenamiento) para demostrar que la distribución real estaba muy fuera del rango de la variación normal por casualidad, indicando que los datos podrían haber sido fabricados. (Nota: Imanishi-Kari fue finalmente exonerada después de un proceso prolongado)."
   ]
  },
  {
   "cell_type": "code",
   "execution_count": 59,
   "id": "d5a8deb9-ba9d-4da3-a0ac-c92fba2fbe92",
   "metadata": {},
   "outputs": [
    {
     "data": {
      "image/png": "[encoded data removed]",
      "text/plain": [
       "<Figure size 400x400 with 1 Axes>"
      ]
     },
     "metadata": {},
     "output_type": "display_data"
    }
   ],
   "source": [
    "imanishi = pd.read_csv(IMANISHI_CSV)\n",
    "imanishi.columns = [c.strip() for c in imanishi.columns]\n",
    "ax = imanishi.plot.bar(x='Digit', y=['Frequency'], legend=False,\n",
    "                      figsize=(4, 4))\n",
    "ax.set_xlabel('Digit')\n",
    "ax.set_ylabel('Frequency')\n",
    "\n",
    "plt.tight_layout()\n",
    "plt.show()"
   ]
  },
  {
   "cell_type": "markdown",
   "id": "641334b4-36b9-429c-9540-ace146417faf",
   "metadata": {},
   "source": [
    "**Figura 3-8**. Histograma de frecuencia para los datos de laboratorio de Imanishi-Kari."
   ]
  },
  {
   "cell_type": "markdown",
   "id": "13d10cc9-b234-48de-9fda-07dd83fbc6a4",
   "metadata": {},
   "source": [
    "## Relevancia para la Ciencia de Datos\n",
    "\n",
    "La prueba chi-cuadrado, o la prueba exacta de Fisher, se utiliza cuando se desea saber si un efecto es real o podría ser producto del azar. En la mayoría de las aplicaciones estadísticas clásicas de la prueba chi-cuadrado, su papel es establecer la significación estadística, que generalmente se necesita antes de que un estudio o un experimento pueda ser publicado. Esto no es tan importante para los científicos de datos. En la mayoría de los experimentos de ciencia de datos, ya sea A/B o A/B/C..., el objetivo no es simplemente establecer la significación estadística, sino llegar al mejor tratamiento. Para este propósito, los bandidos de múltiples brazos \"Algoritmo de Bandido de Múltiples Brazos\" ofrecen una solución más completa.\n",
    "\n",
    "Una aplicación de la prueba chi-cuadrado en ciencia de datos, especialmente la versión exacta de Fisher, es determinar tamaños de muestra apropiados para experimentos web. Estos experimentos a menudo tienen tasas de clic muy bajas, y a pesar de miles de exposiciones, las tasas de conteo podrían ser demasiado pequeñas para llegar a conclusiones definitivas en un experimento. En tales casos, la prueba exacta de Fisher, la prueba chi-cuadrado y otras pruebas pueden ser útiles como parte de cálculos de potencia y tamaño de muestra \"Potencia y Tamaño de Muestra\".\n",
    "\n",
    "Las pruebas chi-cuadrado se utilizan ampliamente en la investigación por investigadores en busca del esquivo valor p estadísticamente significativo que permitirá la publicación. Las pruebas chi-cuadrado, o simulaciones de reordenamiento similares, se utilizan en aplicaciones de ciencia de datos más como un filtro para determinar si un efecto o una característica merece una consideración adicional que como una prueba formal de significancia. Por ejemplo, se utilizan en estadísticas espaciales y cartografía para determinar si los datos espaciales se ajustan a una distribución nula especificada (por ejemplo, ¿los delitos están concentrados en una cierta área en mayor medida de lo que permitiría el azar?). También se pueden utilizar en la selección automática de características en el aprendizaje automático, para evaluar la prevalencia de clases en características e identificar características donde la prevalencia de una cierta clase es inusualmente alta o baja, de una manera que no es compatible con la variación aleatoria."
   ]
  },
  {
   "cell_type": "markdown",
   "id": "c0740a73-4986-4c0f-b48b-d27c165b0c37",
   "metadata": {},
   "source": [
    "### Ideas Clave\n",
    "* Un procedimiento común en estadísticas es probar si las cuentas de datos observadas son coherentes con una suposición de independencia (por ejemplo, si la propensión a comprar un artículo en particular es independiente del género).\n",
    "* La distribución chi-cuadrado es la distribución de referencia (que incorpora la suposición de independencia) con la cual se debe comparar la estadística chi-cuadrado calculada a partir de los datos observados."
   ]
  },
  {
   "cell_type": "markdown",
   "id": "fccea2d0-5491-441c-b00d-850066959f21",
   "metadata": {},
   "source": [
    "### Lecturas Adicionales\n",
    "* El famoso ejemplo de \"Lady Tasting Tea\" de R. A. Fisher desde principios del siglo XX sigue siendo una ilustración simple y efectiva de su prueba exacta. Busca \"Lady Tasting Tea\" en Google y encontrarás varios artículos informativos.\n",
    "* Stat Trek ofrece un buen tutorial sobre la prueba chi-cuadrado."
   ]
  },
  {
   "cell_type": "markdown",
   "id": "b1a939e9-707c-4795-b718-8a005f4c1ca0",
   "metadata": {
    "jp-MarkdownHeadingCollapsed": true
   },
   "source": [
    "# Algoritmo de Bandido de Múltiples Brazos\r\n",
    "Los bandidos de múltiples brazos ofrecen un enfoque para realizar pruebas, especialmente pruebas web, que permite la optimización explícita y una toma de decisiones más rápida que el enfoque estadístico tradicional para diseñar experimentos."
   ]
  },
  {
   "cell_type": "markdown",
   "id": "84ca4300-9d44-442a-bd14-178084bf6226",
   "metadata": {},
   "source": [
    "### Términos Clave para Bandidos de Múltiples Brazos\n",
    "\n",
    "**Bandido de Múltiples Brazos**\n",
    "- Una máquina tragamonedas imaginaria con múltiples brazos para que el cliente elija, cada uno con diferentes pagos, aquí tomada como una analogía para un experimento de múltiples tratamientos.\n",
    "\n",
    "**Brazo**\n",
    "- Un tratamiento en un experimento (por ejemplo, \"titular A en una prueba web\").\n",
    "\n",
    "**Ganancia**\n",
    "- La analogía experimental de una victoria en la máquina tragamonedas (por ejemplo, \"cliente hace clic en el enlace\")."
   ]
  },
  {
   "cell_type": "markdown",
   "id": "3bd34c9f-a23e-4c14-899b-dc4f531c09ff",
   "metadata": {},
   "source": [
    "Una prueba A/B tradicional implica la recopilación de datos en un experimento, de acuerdo con un diseño específico, para responder a una pregunta específica como \"¿Cuál es mejor, el tratamiento A o el tratamiento B?\" La presunción es que una vez que obtenemos una respuesta a esa pregunta, el experimento ha terminado y procedemos a actuar según los resultados.\n",
    "\n",
    "Probablemente puedas percibir varias dificultades con ese enfoque. En primer lugar, nuestra respuesta puede ser inconclusa: \"efecto no comprobado\". En otras palabras, los resultados del experimento pueden sugerir un efecto, pero si hay un efecto, no tenemos una muestra lo suficientemente grande como para demostrarlo (según los estándares estadísticos tradicionales). ¿Qué decisión tomamos? En segundo lugar, podríamos querer comenzar a aprovechar los resultados que llegan antes de la conclusión del experimento. En tercer lugar, podríamos querer tener el derecho de cambiar de opinión o probar algo diferente basado en datos adicionales que llegan después de que el experimento haya terminado. El enfoque tradicional para experimentos y pruebas de hipótesis data de la década de 1920 y es bastante inflexible. El advenimiento de la potencia informática y el software ha permitido enfoques más poderosos y flexibles. Además, la ciencia de datos (y los negocios en general) no se preocupa tanto por la significancia estadística, sino que se preocupa más por optimizar el esfuerzo y los resultados en general.\n",
    "\n",
    "Los algoritmos de bandit, muy populares en las pruebas web, te permiten probar múltiples tratamientos a la vez y llegar a conclusiones más rápido que los diseños estadísticos tradicionales. Toman su nombre de las máquinas tragamonedas utilizadas en el juego, también llamadas bandidos de un solo brazo (ya que están configuradas de tal manera que extraen dinero del jugador de manera constante). Si imaginas una máquina tragamonedas con más de un brazo, cada brazo pagando a una tasa diferente, tendrías un bandido de múltiples brazos, que es el nombre completo de este algoritmo.\n",
    "\n",
    "Tu objetivo es ganar la mayor cantidad de dinero posible y, más específicamente, identificar y decidir sobre el brazo ganador lo antes posible. El desafío es que no sabes a qué tasa general pagan los brazos, solo conoces los resultados de las extracciones individuales de los brazos. Supongamos que cada \"ganancia\" es por la misma cantidad, sin importar qué brazo. Lo que difiere es la probabilidad de una ganancia. Supongamos además que inicialmente pruebas cada brazo 50 veces y obtienes los siguientes resultados:\n",
    "- Brazo A: 10 éxitos de 50\n",
    "- Brazo B: 2 éxitos de 50\n",
    "- Brazo C: 4 éxitos de 50\n",
    "\n",
    "Un enfoque extremo sería decir: \"Parece que el brazo A es el ganador, dejemos de probar los otros brazos y quedémonos con A\". Esto aprovecha al máximo la información de la prueba inicial. Si A es verdaderamente superior, obtenemos el beneficio de eso desde el principio. Por otro lado, si B o C son realmente mejores, perdemos la oportunidad de descubrirlo. Otro enfoque extremo sería decir: \"Todo esto parece estar dentro del ámbito del azar, sigamos extrayéndolos a todos por igual\". Esto da la máxima oportunidad para que las alternativas a A se muestren. Sin embargo, en el proceso, estamos implementando lo que parecen ser tratamientos inferiores. ¿Cuánto tiempo permitimos eso? Los algoritmos de bandit adoptan un enfoque híbrido: comenzamos a extraer A con más frecuencia, para aprovechar su aparente superioridad, pero no abandonamos B y C. Simplemente los extraemos menos frecuentemente. Si A continúa superando, continuamos desplazando recursos (extracciones) de B y C y extraemos A más frecuentemente. Si, por otro lado, C comienza a funcionar mejor y A comienza a funcionar peor, podemos cambiar las extracciones de A a C. Si resulta que uno de ellos es superior a A y esto estaba oculto en la prueba inicial debido al azar, ahora tiene la oportunidad de emerger con pruebas adicionales.\n",
    "\n",
    "Ahora, piensa en aplicar esto a las pruebas web. En lugar de múltiples brazos de máquinas tragamonedas, podrías tener múltiples ofertas, titulares, colores, etc., probándose en un sitio web. Los clientes hacen clic (una \"ganancia\" para el comerciante) o no hacen clic. Inicialmente, las ofertas se muestran de manera aleatoria y equitativa. Sin embargo, si una oferta comienza a superar a las demás, se puede mostrar (\"extraer\") con más frecuencia. Pero, ¿cuáles deberían ser los parámetros del algoritmo que modifica las tasas de extracción? ¿Qué \"tasas de extracción\" deberíamos cambiar y cuándo deberíamos cambiarlas?\n",
    "\n",
    "Aquí tienes un algoritmo simple, el algoritmo epsilon-greedy para una prueba A/B:\n",
    "1. Genera un número aleatorio uniformemente distribuido entre 0 y 1.\n",
    "2. Si el número está entre 0 y epsilon (donde epsilon es un número entre 0 y 1, típicamente bastante pequeño), lanza una moneda justa (probabilidad 50/50) y:\n",
    "   a. Si la moneda está cara, muestra la oferta A.\n",
    "   b. Si la moneda está cruz, muestra la oferta B.\n",
    "3. Si el número es ≥ epsilon, muestra la oferta que ha tenido la tasa de respuesta más alta hasta la fecha.\n",
    "\n",
    "Epsilon es el único parámetro que gobierna este algoritmo. Si epsilon es 1, terminamos con una prueba A/B simple estándar (asignación aleatoria entre A y B para cada sujeto). Si epsilon es 0, terminamos con un algoritmo puramente codicioso, uno que elige la mejor opción inmediata disponible (un óptimo local). No busca más experimentación, simplemente asigna sujetos (visitantes web) al tratamiento de mejor rendimiento.\n",
    "\n",
    "Un algoritmo más sofisticado utiliza el \"muestreo de Thompson\". Este procedimiento \"muestrea\" (extrae un brazo de bandido) en cada etapa para maximizar la probabilidad de elegir el mejor brazo. Por supuesto, no sabes cuál es el mejor brazo, ¡ese es todo el problema! Pero a medida que observas el rendimiento con cada extracción sucesiva, obtienes más información. El muestreo de Thompson utiliza un enfoque bayesiano: se asume inicialmente alguna distribución previa de recompensas, utilizando lo que se llama una distribución beta (este es un mecanismo común para especificar información previa en un problema bayesiano). A medida que la información se acumula con cada extracción, esta información se puede actualizar, lo que permite que la selección de la próxima extracción esté mejor optimizada en cuanto a elegir el brazo correcto.\n",
    "\n",
    "Los algoritmos de bandit pueden manejar eficientemente 3 o más tratamientos y avanzar hacia la selección óptima del \"mejor\". Para los procedimientos tradicionales de pruebas estadísticas, la complejidad de la toma de decisiones para 3 o más tratamientos supera con creces a la de la prueba A/B tradicional, y la ventaja de los algoritmos de bandit es mucho mayor."
   ]
  },
  {
   "cell_type": "markdown",
   "id": "4a7eed35-f845-4a44-b896-9fb97ff6f871",
   "metadata": {},
   "source": [
    "### Ideas Clave\n",
    "\n",
    "* Las pruebas A/B tradicionales contemplan un proceso de muestreo aleatorio, lo que puede llevar a una exposición excesiva al tratamiento inferior.\n",
    "\n",
    "* Los bandits de múltiples brazos, en contraste, modifican el proceso de muestreo para incorporar la información aprendida durante el experimento y reducir la frecuencia del tratamiento inferior.\n",
    "\n",
    "* También facilitan el tratamiento eficiente de más de dos tratamientos.\n",
    "\n",
    "* Hay diferentes algoritmos para cambiar la probabilidad de muestreo lejos del tratamiento inferior (o tratamientos) y hacia el (presunto) superior."
   ]
  },
  {
   "cell_type": "markdown",
   "id": "e8f5ca24-9cce-4a23-9897-ffa6cf34ceab",
   "metadata": {},
   "source": [
    "### Lecturas Adicionales\n",
    "\n",
    "* Un excelente tratamiento breve de los algoritmos de bandit de varios brazos se encuentra en \"Bandit Algorithms for Website Optimization\" de John Myles White (O'Reilly, 2012). White incluye código en Python, así como los resultados de simulaciones para evaluar el rendimiento de los bandits.\n",
    "\n",
    "* Para obtener más información (algo técnica) sobre el muestreo de Thompson, consulta \"Analysis of Thompson Sampling for the Multi-armed Bandit Problem\" de Shipra Agrawal y Navin Goyal."
   ]
  },
  {
   "cell_type": "markdown",
   "id": "72c23a32-75c5-43b2-b27c-95e9fd69e936",
   "metadata": {},
   "source": [
    "## Power y Tamaño de Muestra\n",
    "\n",
    "Si llevas a cabo una prueba web, ¿cómo decides cuánto tiempo debería durar (es decir, cuántas impresiones por tratamiento son necesarias)? A pesar de lo que puedas leer en muchas guías de pruebas web, no hay una orientación general sólida, depende principalmente de la frecuencia con la que se logre el objetivo deseado.\n",
    "\n",
    "- **El poder estadístico**: De un experimento *<span style=\"color:skyblue\">es la probabilidad de que el experimento detecte un efecto verdadero si existe</span>*. En otras palabras, *es la capacidad del experimento para detectar diferencias o efectos significativos cuando realmente están presentes en la población*. Un experimento con alto poder estadístico tiene una alta probabilidad de rechazar la hipótesis nula cuando la hipótesis alterantiva es verdadera.\n",
    "- El **poder estadistico** depende de varios factores, incluyendo el tamaño del efecto, el tamaño de muestra, el nivel de significancia $\\alpha$ y la variabilidad de los datos. A medida que el tamaño del efecto aumenta, el tamaño de muestra aumenta o el nivel de significancia disminuye, el poder estadístico tiende a aumentar.\n",
    "  \n",
    "- **Tamaño de muestra**: El tamaño de muestra *<span style=\"color:skyblue\">se refiere al número de unidades experimentales (por ejemplo, individuos, sujetos, observaciones) incluidas en un estudio o experimento</span>*. Es un aspecto fundamental del diseño del estudio y afecta la precisión y la capacidad del estudio para detectar efectos o diferencias significativas.\n",
    "- Un **tamaño de muestra** adecuado es importante para garantizar que el estudio tenga suficiente poder estadístico para detectar efectos importantes para proporcionar resultados confiables y generalizables. Un tamaño de muestra demasiado pequeño puede resultar en un poder estadístico insuficiente, lo que significa que el estudio puede no ser capaz de detectar efectos importantes incluso si existen en la población. Por otro lado, un tamaño de muestra excesivamente grande puede resultar en un uso ineficiente de recursos y tiempo.\n",
    "- El tamaño de muestra adecuado depende de varios factores, incluyendo el tamaño del efecto esperado, el nivel de significancia deseado, el poder estadístico deseado y la variabilidad de los datos. En general, un tamaño de muestra más grande aumenta la precisión y la confiabilidad de los resultados del estudios, pero también puede aumentar los costos y la complejidad del estudio. Por otro lado, es importante encontrar un equilibrio entre la precisión deseada y los recursos disponibles."
   ]
  },
  {
   "cell_type": "markdown",
   "id": "7c995ad8-0e61-422b-ad09-b8b50c53e98d",
   "metadata": {},
   "source": [
    "### Términos Clave para Potencia y Tamaño de Muestra\n",
    "\n",
    "**Tamaño del efecto**\n",
    "- El tamaño mínimo del efecto que esperas poder detectar en una prueba estadística, como \"una mejora del 20% en las tasas de clics\".\n",
    "\n",
    "**Potencia**\n",
    "- La probabilidad de detectar un tamaño de efecto dado con un tamaño de muestra dado.\n",
    "\n",
    "**Nivel de significancia**\n",
    "- El nivel de significancia estadística en el cual se llevará a cabo la prueba."
   ]
  },
  {
   "cell_type": "markdown",
   "id": "5a70d523-0856-448b-8c81-810f73fb80fe",
   "metadata": {},
   "source": [
    "Un paso en los cálculos estadísticos para el tamaño de la muestra es preguntar: *\"¿Realmente revelará una prueba de hipótesis una diferencia entre los tratamientos A y B?\"* El valor p, resultado de una prueba de hipótesis, depende de cuál es la diferencia real entre el tratamiento A y el tratamiento B, así como de la suerte en la selección de los grupos para el experimento. Tiene sentido que cuanto mayor sea la diferencia real entre los tratamientos A y B, mayor será la probabilidad de que nuestro experimento la revele. Por otro lado, una diferencia más pequeña requiere más datos para detectarla.\n",
    "\n",
    "La **potencia** *<span style=\"color:skyblue\">es la probabilidad de detectar un tamaño de efecto específico con características de muestra especificadas (tamaño y variabilidad)<span>*. Por ejemplo, de manera hipotética, podríamos decir que la probabilidad de distinguir entre un bateador con promedio de .330 y uno con promedio de .200 en 25 turnos al bate es 0.75. El tamaño del efecto aquí es una diferencia de .130. \"Detectar\" significa que una prueba de hipótesis rechazará la hipótesis nula de \"ninguna diferencia\" y concluirá que hay un efecto real.\n",
    "\n",
    "Puedes ver que hay varios elementos en movimiento aquí, y es fácil enredarse en las numerosas suposiciones y fórmulas estadísticas que se necesitarán (para especificar la variabilidad de la muestra, el tamaño del efecto, el tamaño de la muestra, el nivel alfa para la prueba de hipótesis, etc., y para calcular la potencia). De hecho, existen programas estadísticos especializados para calcular la potencia. La mayoría de los científicos de datos no necesitarán seguir todos los pasos formales necesarios para informar sobre la potencia, por ejemplo, en un artículo publicado. Sin embargo, pueden enfrentarse a situaciones en las que deseen recopilar algunos datos para una prueba A/B, y recopilar o procesar los datos implica algún costo. En ese caso, saber aproximadamente cuántos datos recopilar puede ayudar a evitar la situación en la que se recopilan datos con esfuerzo y el resultado resulta inconcluso. Aquí hay un enfoque alternativo bastante intuitivo:\n",
    "\n",
    "1. Comienza con algunos datos hipotéticos que representen tu mejor estimación sobre los datos que se obtendrán (quizás basados en datos anteriores), por ejemplo, una caja con 20 unos y 80 ceros para representar a un bateador con promedio de .200, o una caja con algunas observaciones de \"tiempo pasado en el sitio web\".\n",
    "2. Crea una segunda muestra simplemente agregando el tamaño del efecto deseado a la primera muestra, por ejemplo, una segunda caja con 33 unos y 67 ceros, o una segunda caja con 25 segundos agregados a cada \"tiempo pasado en el sitio web\" inicial.\n",
    "3. Extrae una muestra bootstrap de tamaño n de cada caja.\n",
    "4. Realiza una prueba de hipótesis de permutación (o basada en fórmulas) en las dos muestras bootstrap y registra si la diferencia entre ellas es estadísticamente significativa.\n",
    "5. Repite los dos pasos anteriores muchas veces y determina con qué frecuencia la diferencia fue significativa; eso es la potencia estimada."
   ]
  },
  {
   "cell_type": "markdown",
   "id": "e431cf96-fcd8-45f6-87b6-7d0a6bbb1e03",
   "metadata": {},
   "source": [
    "## Muestra\n",
    "\n",
    "El uso más común de los cálculos de potencia es estimar qué tan grande debe ser una muestra.\n",
    "\n",
    "Por ejemplo, supongamos que estás observando tasas de clics (clics como un porcentaje de exposiciones) y estás probando un anuncio nuevo contra un anuncio existente. *¿Cuántos clics necesitas acumular en el estudio?* Si solo te interesan resultados que muestren una gran diferencia (digamos, una diferencia del 50%), una muestra relativamente pequeña podría funcionar. Si, por otro lado, incluso una diferencia menor sería de interés, entonces se necesita una muestra mucho más grande. Un enfoque estándar es establecer una política de que un nuevo anuncio debe superar a un anuncio existente en algún porcentaje, por ejemplo, 10%; de lo contrario, el anuncio existente permanecerá en su lugar. Este objetivo, llamado \"tamaño del efecto\", luego determina el tamaño de la muestra.\n",
    "\n",
    "Por ejemplo, supongamos que las tasas actuales de clics son aproximadamente del 1.1%, y estás buscando un aumento del 10% al 1.21%. Entonces tenemos dos conjuntos: el conjunto A con un 1.1% de unos (digamos, 110 unos y 9,890 ceros), y el conjunto B con un 1.21% de unos (digamos, 121 unos y 9,879 ceros). Para empezar, intentemos con 300 extracciones de cada conjunto (esto sería como 300 \"impresiones\" para cada anuncio). Supongamos que nuestra primera extracción produce lo siguiente:\n",
    "\n",
    "Conjunto A: 3 unos\n",
    "Conjunto B: 5 unos\n",
    "\n",
    "De inmediato, podemos ver que cualquier prueba de hipótesis revelaría que esta diferencia (5 versus 3) está muy dentro del rango de variación al azar. Esta combinación de tamaño de muestra (n = 300 en cada grupo) y tamaño del efecto (diferencia del 10%) es demasiado pequeña para que cualquier prueba de hipótesis muestre de manera confiable una diferencia.\n",
    "\n",
    "Así que podríamos intentar aumentar el tamaño de la muestra (intentemos con 2,000 impresiones) y requerir una mejora mayor (50% en lugar de 10%).\n",
    "\n",
    "Por ejemplo, supongamos que las tasas actuales de clics siguen siendo del 1.1%, pero ahora buscamos un aumento del 50% al 1.65%. Entonces tenemos dos conjuntos: el conjunto A todavía con un 1.1% de unos (digamos, 110 unos y 9,890 ceros), y el conjunto B con un 1.65% de unos (digamos, 165 unos y 9,868 ceros). Ahora intentaremos con 2,000 extracciones de cada conjunto. Supongamos que nuestra primera extracción produce lo siguiente:\n",
    "\n",
    "Conjunto A: 19 unos\n",
    "Conjunto B: 34 unos\n",
    "\n",
    "Una prueba de significancia en esta diferencia (34-19) muestra que aún se registra como \"no significativa\" (aunque mucho más cercana a la significancia que la diferencia anterior de 5-3). Para calcular la potencia, necesitaríamos repetir el procedimiento anterior muchas veces, o utilizar software estadístico que pueda calcular la potencia, pero nuestra extracción inicial sugiere que incluso detectar una mejora del 50% requerirá varios miles de impresiones de anuncios.\n",
    "\n",
    "En resumen, para calcular la potencia o el tamaño de muestra requerido, hay cuatro elementos variables:\n",
    "- Tamaño de muestra.\n",
    "- Tamaño del efecto que deseas detectar.\n",
    "- Nivel de significancia (alfa) en el que se realizará la prueba.\n",
    "- Potencia.\n",
    "\n",
    "Especifica tres de ellos, y el cuarto se puede calcular. Comúnmente, querrías calcular el tamaño de la muestra, por lo que debes especificar los otros tres. Con Python, también debes especificar la hipótesis alternativa como \"mayor\" o \"mayor\" para obtener una prueba unilateral. "
   ]
  },
  {
   "cell_type": "code",
   "execution_count": 61,
   "id": "2d0ac5f3-db71-429b-87f8-fdaeddfd4d82",
   "metadata": {},
   "outputs": [
    {
     "name": "stdout",
     "output_type": "stream",
     "text": [
      "Sample Size: 116602.393\n"
     ]
    }
   ],
   "source": [
    "effect_size = sm.stats.proportion_effectsize(0.0121, 0.011)\n",
    "analysis = sm.stats.TTestIndPower()\n",
    "result = analysis.solve_power(effect_size=effect_size, \n",
    "                              alpha=0.05, power=0.8, alternative='larger')\n",
    "print('Sample Size: %.3f' % result)"
   ]
  },
  {
   "cell_type": "markdown",
   "id": "69d70eac-8180-4d34-92e4-01a8ec5504a2",
   "metadata": {},
   "source": [
    "Observamos que si queremos un poder del 80%, necesitamos un tamaño de muestra de casi 120,000 impresiones. Si buscamos un aumento del 50% (p1=0.0165), el tamaño de muestra se reduce a 5,500 impresiones.\n",
    "\n",
    "El paquete `statsmodels` contiene varios métodos para el cálculo de la potencia. Aquí, utilizamos `proportion_effectsize` para calcular el tamaño del efecto y `TTestIndPower` para determinar el tamaño de la muestra:"
   ]
  },
  {
   "cell_type": "code",
   "execution_count": 62,
   "id": "333b46b1-de48-497e-9ab1-e5cb947c9799",
   "metadata": {},
   "outputs": [
    {
     "name": "stdout",
     "output_type": "stream",
     "text": [
      "Sample Size: 5488.408\n"
     ]
    }
   ],
   "source": [
    "effect_size = sm.stats.proportion_effectsize(0.0165, 0.011)\n",
    "analysis = sm.stats.TTestIndPower()\n",
    "result = analysis.solve_power(effect_size=effect_size, \n",
    "                              alpha=0.05, power=0.8, alternative='larger')\n",
    "print('Sample Size: %.3f' % result)"
   ]
  },
  {
   "cell_type": "markdown",
   "id": "9df0073b-caf6-4464-b601-6cd7c9886a8c",
   "metadata": {},
   "source": [
    "### Ideas Clave\n",
    "* Determinar qué tan grande debe ser el tamaño de la muestra requiere anticipar la prueba estadística que planeas llevar a cabo.\n",
    "* Debes especificar el tamaño mínimo del efecto que deseas detectar.\n",
    "* También debes especificar la probabilidad requerida para detectar ese tamaño de efecto (potencia).\n",
    "* Finalmente, debes especificar el nivel de significancia (alfa) con el que se realizará la prueba."
   ]
  },
  {
   "cell_type": "markdown",
   "id": "29e89851-8335-4b41-9893-0db745129e66",
   "metadata": {},
   "source": [
    "### Lecturas Adicionales\n",
    "* \"Sample Size Determination and Power\" de Thomas Ryan (Wiley, 2013) es una revisión completa y fácil de entender sobre este tema.\n",
    "* Steve Simon, un consultor estadístico, ha escrito un artículo muy atractivo en formato narrativo sobre el tema."
   ]
  },
  {
   "cell_type": "markdown",
   "id": "565edfc3-25c8-402d-8718-4fcc60b224da",
   "metadata": {},
   "source": [
    "# Resumen\n",
    "\n",
    "- Los principios del diseño experimental, como la aleatorización de sujetos en dos o más grupos que reciben diferentes tratamientos, nos permiten llegar a conclusiones válidas sobre la eficacia de los tratamientos. Es recomendable incluir un tratamiento de control de \"no hacer ningún cambio\". El tema de la inferencia estadística formal, que incluye pruebas de hipótesis, valores p, pruebas t y mucho más en este sentido, ocupa mucho tiempo y espacio en un curso o texto de estadísticas tradicionales, y la formalidad es en su mayoría innecesaria desde la perspectiva de la ciencia de datos. Sin embargo, sigue siendo importante reconocer el papel que la variación aleatoria puede desempeñar para confundir el cerebro humano. Los procedimientos de remuestreo intuitivos (permutación y bootstrap) permiten a los científicos de datos evaluar en qué medida la variación aleatoria puede influir en su análisis de datos."
   ]
  }
 ],
 "metadata": {
  "kernelspec": {
   "display_name": "Python 3 (ipykernel)",
   "language": "python",
   "name": "python3"
  },
  "language_info": {
   "codemirror_mode": {
    "name": "ipython",
    "version": 3
   },
   "file_extension": ".py",
   "mimetype": "text/x-python",
   "name": "python",
   "nbconvert_exporter": "python",
   "pygments_lexer": "ipython3",
   "version": "3.11.5"
  }
 },
 "nbformat": 4,
 "nbformat_minor": 5
}
