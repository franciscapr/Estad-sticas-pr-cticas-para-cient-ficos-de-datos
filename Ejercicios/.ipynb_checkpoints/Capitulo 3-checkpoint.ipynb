{
 "cells": [
  {
   "cell_type": "markdown",
   "id": "221c1353-812a-4605-88a0-5ee2c16f7328",
   "metadata": {},
   "source": [
    "# Prueba A/B"
   ]
  },
  {
   "cell_type": "markdown",
   "id": "3012b752-f5aa-4ad2-b4b1-270d25775bf2",
   "metadata": {},
   "source": [
    "- Aprende a diseñar pruebas A/B.\r\n",
    "- Realiza análisis de potencia.\r\n",
    "- Calcula tamaños de muestra manualmente.\r\n",
    "- Interpreta los resultados de pruebas A/B\r\n",
    "    - Incluyendo valores p.\r\n",
    "    - Error estándar del tamaño de muestra.\r\n",
    "    - Intervalos de confianza.\r\n",
    "- Comprende la generalizabilidad y reproducibilidad de tus resultados de pruebas A/B."
   ]
  },
  {
   "cell_type": "markdown",
   "id": "3d5ce8a6-be81-47ab-9848-35ece50293ed",
   "metadata": {},
   "source": [
    "\n",
    "### Definición\n",
    "\n",
    "Las pruebas A/B o pruebas divididas, originadas a partir de ensayos estadísticos controlados aleatorizados, son una de las formas más populares para que las empresas prueben:\n",
    "- Nuevas características de UX (experiencia de usuario).\n",
    "- Nuevas versiones de productos.\n",
    "- Nuevas versiones de un algoritmo."
   ]
  },
  {
   "cell_type": "markdown",
   "id": "f16b9d63-2b85-49df-a711-2dd3a9129e13",
   "metadata": {},
   "source": [
    "### Pasos\r\n",
    "\r\n",
    "1. Establecer la hipótesis de la prueba A/B.\r\n",
    "2. Diseño del A/B test | Análisis de potencia.\r\n",
    "3. Ejecutar la prueba A/B.\r\n",
    "4. Análisis de resultados | Significancia estadística.\r\n",
    "5. Análisis de resultados | Significancia práctica."
   ]
  },
  {
   "cell_type": "markdown",
   "id": "c6eddece-87b2-44bc-aabb-1af4b2c426da",
   "metadata": {},
   "source": [
    "# Ejecutar la prueba A/B\n",
    "\n",
    "- Una vez que se ha diseñado el experimento, se ejecuta realizando la asignación aleatoria de los participantes o muestras a los grupos de control y de tratamiento. Es fundamental garantizar que el experimento se ejecute correctamente según el diseño establecido y que se minimicen posibles sesgos."
   ]
  },
  {
   "cell_type": "markdown",
   "id": "11a86d73-bfe4-4580-a2bf-9d400b1d2ce8",
   "metadata": {},
   "source": [
    "# Análisis de resultados | Significancia estadística\n",
    "\n",
    "- Después de completar el experimento, se analizan los resultados para determinar si existe una diferenica significativa entre las dos variantes. Esto se hace típicamente utilizando pruebas esta´disticas como la prueba t Student o la prueba de chi-cuadrado para comparar las métricas de interés entre los grupos de control y de tratamiento. Si el valor p obtenido es menor que un umbral predeterminado (generalmente 0.05), se rechaza la hipótesis nula y se concluye que hay una diferencia significativa."
   ]
  },
  {
   "cell_type": "markdown",
   "id": "7234c90c-0d0c-4647-9cf7-452a4454585a",
   "metadata": {},
   "source": [
    "# Análisis de resultados | Significancia práctica\n",
    "\n",
    "- Además de evaluar la significancia estadística, es importante considerar la relevancia práctica de las diferencias observadas. Esto implica examinar el tamaño del efecto y su impacto en los objetivos comerciales. Incluso si una diferencia es estadísticamente significativa, puede ser insignificante desde un punto de vista práctico. Por lo tanto, este paso ayuda a determinar si las diferencias observadas son lo suficientemente grandes como para justificar la implementación de cambios basados en los resultados del experimento."
   ]
  },
  {
   "cell_type": "markdown",
   "id": "1c130561-0ef1-4d38-bbcf-d195e6d1a5bf",
   "metadata": {},
   "source": [
    "# 1. Establecer la hipótesis de prueba A/B\n",
    "\n",
    "- Antes de realizar una prueba A/B, es crucial definir claramente la hipótesis que se va a probar. Esto incluye la hipótesis nula (H0), que establece que no hya diferencia entre las dos versiones que se están probando, y la hipótesis alternativa (H1), que establece que ahy un diferencia significativa entre las versiones. Por ejemplo, si estás probando dos versiones de un sitio web, la H0 podría ser que ambas versiones tienen el mismo impacto en las conversiones, mientrs que la H1 sería que una versión es superior a la otra en términos de conversiones."
   ]
  },
  {
   "cell_type": "markdown",
   "id": "272e066c-782e-45e3-ac3f-15b2b7d4569a",
   "metadata": {},
   "source": [
    "# 1.1 Hipótesis de negocio\r\n",
    "\r\n",
    "La hipótesis de negocio describe qué dos productos están siendo comparados y cuál es el impacto o diferencia deseada para el negocio.\r\n",
    "\r\n",
    "- Cómo \"solucionar\" un problema potencial en el producto.\r\n",
    "- La solución influirá en los indicadores clave de rendimiento (KPIs)."
   ]
  },
  {
   "cell_type": "markdown",
   "id": "207b304a-3ac7-4b66-bb96-164b125bac8c",
   "metadata": {},
   "source": [
    "# 1.2 Métrica Principal\r\n",
    "\r\n",
    "Es una forma de medir el rendimiento del producto que está siendo probado en la prueba A/B, tanto para los grupos experimental como de control. Se utilizará para identificar si hay una diferencia estadísticamente significativa entre estos dos grupos.\r\n",
    "- Una única métrica princip\n",
    "- Respondiendo a la pregunta sobre la validez de la métrica.al."
   ]
  },
  {
   "cell_type": "markdown",
   "id": "0d972473-888d-4204-9d22-3af17eb9335b",
   "metadata": {},
   "source": [
    "# 1.3 Eligiendo la Métrica Principal\r\n",
    "\r\n",
    "Pregunta de Validez de la Métrica: Si esta métrica elegida aumentara significativamente mientras todo lo demás se mantiene constante, ¿lograríamos nuestro objetivo y resolveríamos el problema?\r\n",
    "\r\n",
    "- ¿Ingresos más altos?\r\n",
    "- ¿Participación más alta?\r\n",
    "- ¿Más vistas?"
   ]
  },
  {
   "cell_type": "markdown",
   "id": "20c89069-bc58-434a-bff6-2fbee868fe64",
   "metadata": {},
   "source": [
    "# 1.4 Métrica Principal: Ingresos\r\n",
    "\r\n",
    "Tasa de Conversión = (Número de conversiones / Número total de visitantes) * 10\n",
    "\n",
    "- Ejemplo: Un sitio web tiene miles de visitantes y 50 de ellos realizan una compra, la tasa de conversión sería igual a 50.\n",
    "- (50 / 1000) * 100% = 5%\n",
    "- La tasa de conversión es del 5%.\n",
    "- La tasa de conversión es importante porque nos permite medir la efectividad de un sitio web, un producto o una campaña de marketing. 0%"
   ]
  },
  {
   "cell_type": "markdown",
   "id": "086e4924-f024-4eb7-91e0-ec610ecdfbca",
   "metadata": {},
   "source": [
    "# 1.5 Métrica Principal: Compromiso\r\n",
    "\r\n",
    "CTR = (Número de clics / Número de impresiones) * 10\n",
    "\n",
    "- Ejemplo: Un anuncio en línea recibe miles de impresiones, lo que significa que se lo estamos mostrando a los clientes durente un tiempo y hubo 25 clics, lo que significa que 25 de todas estas impresiones resultaron en clics. Esto significa que la tasa de clics para este ejemplo específico sería igual a 25 dividido en 1000 multiplicado 100%, lo que nos da un 2,5%, esto significa que tenemos una tasa de clics del 2,5%.\n",
    "- (25/1000) * 100% = 2,5%0%"
   ]
  },
  {
   "cell_type": "markdown",
   "id": "e3ce50d3-0da0-414b-905c-af7957ab76ed",
   "metadata": {},
   "source": [
    "# 1.6 Hipótesis Estadística\r\n",
    "\r\n",
    "La Prueba de Hipótesis o Hipótesis Estadística es un procedimiento estadístico que se utiliza para determinar si existe una diferencia significativa entre los datos observados y los datos esperados.\r\n",
    "\r\n",
    "- Para probar los resultados de un experimento.\r\n",
    "- Establecer significancia estadística."
   ]
  },
  {
   "cell_type": "markdown",
   "id": "6963d7ad-532a-4736-93c8-aee8585b8fa3",
   "metadata": {},
   "source": [
    "- Ejemplo:\r\n",
    "  - Hipótesis Nula (H0): La tasa de clics (CTR) del botón \"Aprender Más\" de color azul es igual a la CTR del botón verde.\r\n",
    "  - Hipótesis Alternativa (H1): La CTR del botón \"Aprender Más\" de color verde es mayor que la CTR del botón azul."
   ]
  },
  {
   "cell_type": "markdown",
   "id": "dbb5154f-5d94-4966-bfda-63cd1c4d47bd",
   "metadata": {},
   "source": [
    "# 2. Diseño del A/B test | Análisis de potencia\n",
    "\n",
    "- En esta etapa, se diseña la estructura del experimento A/B, incluyendo la determinación de los grupos de control y de tratamineto, la duración del experimento y la métrica de evaluación. El análisis de potencia es importante para determinar el tamaño de muestra necesario para detectar una diferencia significativa entre las dos variantes, evitando así errores tipo II (false no detección de una diferencia real).\n",
    "  \n",
    "- Análisis de Potencia ---> Tamaño Mínimo de Muestra ---> Duración de la Prueba"
   ]
  },
  {
   "cell_type": "markdown",
   "id": "2abbdf80-0218-4623-b1be-57c4d2bd927a",
   "metadata": {},
   "source": [
    "- `Análisis de potencia`: Incluye hacer suposiciones sobre los parámetros del modelo, incluida la potencia del la prueba, el nivel de significancia, etc.\n",
    "- `Tamaño minimo de la muestra`: Se calcula el tamaño minimo de muestra para los grupos de control y experimental.\n",
    "- `Duración del la prueba`: Este paso depende de varios factores."
   ]
  },
  {
   "cell_type": "markdown",
   "id": "1e64a318-9789-4c12-a6e6-1edb1977463a",
   "metadata": {},
   "source": [
    "## 2.1 Análisis de potencia\n",
    "\n",
    "1. En este paso, se realizan suposiciones sobre los parámetros del modelo estadístico que se utilizará para analizar los datos obtenidos en el experimento. Estas suposiciones incluyen la `potencia de la prueba`, *que es la probabilidad de que el estudio detecte un efecto real si existe*, y el `nivel de significancia`, *que es la probabilidad de cometer un error de tipo I al rechazar incorrectamente la hipótesis nula*. Se determina la potencia deseada y el nivel de significancia adecuado para el estudio en cuestión.\n",
    "\n",
    "    - Probabilidad de rechazar correctamente la hipótesis nula.\n",
    "    - Probabilidad de no cometer un error de tipo II (1-$B$).\n",
    "    - $B$: Error de Tipo II.\n",
    "    - Es común elegir el 80% como la potencia del test $A/B$. Se permite el 20% de tipo error.\n",
    "\n",
    "2. Determinar el nivel de significancia de la prueba.\r\n",
    "   - Probabilidad de rechazar la hipótesis nula mientras ésta es verdadera.\r\n",
    "   - Detectar significancia estadística cuando no lo es.\r\n",
    "   - Probabilidad de cometer un error de tipo I ($\\alpha$).\r\n",
    "   - Es común elegir el 5% como nivel de significancia de la pru\n",
    "\n",
    "3. Dtermine Minimum Detectable effect of the testeba."
   ]
  },
  {
   "cell_type": "markdown",
   "id": "336e078b-2e53-449e-8886-e39d86a0e7ed",
   "metadata": {},
   "source": [
    "## 2.2 Tamaño Mínimo de la Muestra\n",
    "\n",
    "- Una vez que se han establecidos las suposiciones en el análisis de potencia, se calcula el tamaño mínimo de muestra necesario para el experimento. Esto implica determinar ciántas observaciones o participantes se necesitan en cada grupo experimental y de control para que el estudio tenga la potencia deseada y sea capaz de detectar el efecto esperado. El tamaño mínimos de muestra se calcula utilizando método estadísticos que tienen en cuenta la variabilidad de los datos y la magnitud del efecro que se espera detectar."
   ]
  },
  {
   "cell_type": "markdown",
   "id": "48a3ccef-1c77-4f66-9202-44fcfef5daf7",
   "metadata": {},
   "source": [
    "## 2.3 Duración de la Prueba\n",
    "\n",
    "- La duración de la prueba depende de varios factores, como el tiempo necesario para reclutar participantes, implementar el tratamiento o intervención, recopilar datos y realizar análisis estadísticso. Además, la duración de la prueba también puede verse afectada por consideraciones prácticas, como restricciones presupuestarias o logísticas. Es importante planificar adecuadamente la duración de la prueba para grantizar que se obtengan datos suficientes para realizar una análisis significatibo y que se cumplan los objetivos del estudio dentro de un marco de tiempo razonable."
   ]
  },
  {
   "cell_type": "markdown",
   "id": "fd6bf43f-9d9e-4065-aaa9-44417c2fc4c1",
   "metadata": {},
   "source": [
    "-----"
   ]
  },
  {
   "cell_type": "markdown",
   "id": "9fb76906-6e3d-4179-916d-02dd3aed68bc",
   "metadata": {},
   "source": [
    "1. ¿Que es una test de hipótesis?\n",
    "\n",
    "- Es una herramienta estadístico que nos sirve para aceptar o rechazar con confianza estadística una hipótesis en base a los datos que hemos obtenido en una muestra.\n",
    "\n",
    "- Es decir necesitamos tres cosas:\n",
    "    - Necesitamos plantear una hipótesis sobre el objetivo de negocio que queremos testar.\n",
    "    - Necesitamos una muestra de datos que sea representativa de la población a estudiar y suficientemente grande.\n",
    "    - Necesitamos un procedimiento estadístico que nos permita concluir con garantías si esa hipótesis puede ser cietta o false según los datos.\n",
    " \n",
    "2. Pasos para hacer un test de hipótesis\n",
    "     - Paso 1: Plantear las hipótesis H0 y H1.\n",
    "     - Paso 2: Elegir un nivel de confianza y por tanto el alpha $\\hat{alpha}$.\n",
    "     - Paso 3: Elegir el estadi´sitico de contraste adecuado a la prueba y calcular el p-valor.\n",
    "     - Paso 4 : Comparar el p-valor con el $\\hat{alpha}$ y concluir si aceptamos o rechazamos la H0.\n",
    "\n",
    "3. Pongamos el ejemplo de una de las aplicaciones más usadas en data science: el test A/B.\n",
    "     - Ponemos ambas a prueba en el site hasta que alcancen las 1000 visitas, vamor asignando los visitantes de forma aleatoria, y medimos cuantas ventas genera cada una de ellas.\n",
    "     - Page A: 38 ventas.\n",
    "     - Page B: 60 ventas."
   ]
  },
  {
   "cell_type": "markdown",
   "id": "5aabf5d7-2806-4819-812e-a7fddaa4c248",
   "metadata": {},
   "source": [
    "## Paso 1: Plantear las hipótesis H0 y H1.\n",
    "\n",
    "Hipótesis nula: Las ventas en ambas páginas son estadísticamente iguales\n",
    "\n",
    "      Tasa de conversión página A = Tasa de conversión página B.\n",
    "\n",
    "\n",
    "Hipótesis laternativa: Las ventas en ambas páginas son significativamente diferentes\n",
    "\n",
    "      Tasa de conversión de página A != Tasa de conversión de página B."
   ]
  },
  {
   "cell_type": "markdown",
   "id": "59ceebfa-ce4a-4344-aa8d-1045b8c59896",
   "metadata": {},
   "source": [
    "## Paso 2: Elegir un nivel de confianza y por lo tanto el Alpha\n",
    "\n",
    "¿La conclusión es 100% segura?\n",
    "\n",
    "- No. El test de hipótesis es una herramienta probabilística, que se basa en la probabilidad de la distribución normal.\n",
    "- Eso significa que siempre hay una probabilidad de que nos equivoquemos en la conclusión final.\n",
    "- Por ello es necesario controlar ese riesgo, y se hace mediante el nivel de confianza.\n",
    "- Podríamos definirlo como: de cada 100 veces que repetiéramos este experimento, ¿en cuantas de ellas la conclusión no sería la misma que estamos aceptando?.\n",
    "- Con ese dato, que fijamos nosotros obtenemos un parámetro que necesitaremos, y que se llama Alpha y es 1-NC."
   ]
  },
  {
   "cell_type": "markdown",
   "id": "51b125be-7c2f-4828-9ac7-508efb486128",
   "metadata": {},
   "source": [
    "## Paso 3 y 4: Elegir el estadístico de contraste adecuado a la prueba, calcular el p-valor y contrastarlo con alpha\n",
    "\n",
    "- En nuestro caso estamos haciendo un contraste de proporciones.\n",
    "- Además lo estasmo haciendo sobre dos muestras distintas.\n",
    "- Por eso el test que tenemos que usar es la prueba z.\n",
    "- Aplicando ese prueba el siftware nos devolverá un dato que se llama p-valor.\n",
    "- Si el p-valor es menor que Alpha entonces podemos rechazar H0.\n",
    "- Si el p-valor es mayor o igual a Alpha entonces no podemos rechazar H0."
   ]
  },
  {
   "cell_type": "code",
   "execution_count": 1,
   "id": "92fdcc64-771b-4f89-979e-bc0a9327f8dd",
   "metadata": {},
   "outputs": [],
   "source": [
    "# Carga de paquetes y datos\n",
    "import pandas as pd\n",
    "import numpy as np\n",
    "from statsmodels.stats.proportion import proportions_ztest"
   ]
  },
  {
   "cell_type": "code",
   "execution_count": 2,
   "id": "2afdb35e-470a-49e8-87b1-8090d9c70d59",
   "metadata": {},
   "outputs": [],
   "source": [
    "# Paso 1: Definimos las hipótesis.\n",
    "# H0: Las ventas en ambas páginas son estadísticamente iguales.\n",
    "# H1: Las ventas en ambas páginas son significativamente diferentes."
   ]
  },
  {
   "cell_type": "code",
   "execution_count": 3,
   "id": "29b5ab42-58ff-487e-82ce-d249b08b6fe8",
   "metadata": {},
   "outputs": [],
   "source": [
    "# Paso 2: Elegimos un nivel de confianza que nos da un alpha.\n",
    "# Elegimos NC = 95%\n",
    "alpha = 0.05"
   ]
  },
  {
   "cell_type": "code",
   "execution_count": 4,
   "id": "2395bd3c-3f28-4a67-9fb2-13dccfeed9fe",
   "metadata": {},
   "outputs": [
    {
     "name": "stdout",
     "output_type": "stream",
     "text": [
      "0.023\n"
     ]
    }
   ],
   "source": [
    "# Paso 3: Calculamos el p-valor según el estadístico de contraste elegido (z sobre dos muestras)\n",
    "ventas_a = 38\n",
    "ventas_b = 60\n",
    "muestra_a = 1000\n",
    "muestra_b = 1000\n",
    "\n",
    "# Los pasamos a array porque así lo piede la función\n",
    "array_ventas = np.array([ventas_a, ventas_b])\n",
    "array_muestras = np.array([muestra_a, muestra_b])\n",
    "\n",
    "p_valor = proportions_ztest(count = array_ventas, nobs = array_muestras)[1]\n",
    "print(f\"{p_valor:.3f}\")"
   ]
  },
  {
   "cell_type": "markdown",
   "id": "40e9fb5f-7774-4852-ba65-9b245e084a26",
   "metadata": {},
   "source": [
    "## Paso 4: Conclusión\n",
    "\n",
    "- Como el valor de p es menor que alpha podemos rechazar la hipótesis nula.\n",
    "- Y por tanto concluímos que la página B convierte mejor que la página A con una diferencia estadística significativa bajo un nivel de confianza del 95%."
   ]
  },
  {
   "cell_type": "code",
   "execution_count": null,
   "id": "32d4e984-f3ce-4850-acea-91a3e0a7ac9b",
   "metadata": {},
   "outputs": [],
   "source": []
  },
  {
   "cell_type": "code",
   "execution_count": null,
   "id": "5555581e-180e-4c37-9c8a-35e9e48e031d",
   "metadata": {},
   "outputs": [],
   "source": []
  },
  {
   "cell_type": "code",
   "execution_count": null,
   "id": "7979800e-b325-4d9e-b3ea-d0eb13eb6b2f",
   "metadata": {},
   "outputs": [],
   "source": []
  },
  {
   "cell_type": "code",
   "execution_count": null,
   "id": "ee475192-3490-4f26-93ea-ad701c6c632c",
   "metadata": {},
   "outputs": [],
   "source": []
  },
  {
   "cell_type": "code",
   "execution_count": null,
   "id": "11a5402e-5788-4c6e-88ef-8748ee9ecf5f",
   "metadata": {},
   "outputs": [],
   "source": []
  },
  {
   "cell_type": "code",
   "execution_count": null,
   "id": "3e1804fc-89db-4785-bfa7-f9355487fc19",
   "metadata": {},
   "outputs": [],
   "source": []
  },
  {
   "cell_type": "code",
   "execution_count": null,
   "id": "5a4e6287-9733-4364-9b5a-9e91276797dd",
   "metadata": {},
   "outputs": [],
   "source": []
  },
  {
   "cell_type": "code",
   "execution_count": null,
   "id": "abb2d5b1-af3f-4717-a105-e1db2364b532",
   "metadata": {},
   "outputs": [],
   "source": []
  },
  {
   "cell_type": "code",
   "execution_count": null,
   "id": "ad63f5ac-81b3-4061-8e20-f36e9dd0dfba",
   "metadata": {},
   "outputs": [],
   "source": []
  },
  {
   "cell_type": "code",
   "execution_count": null,
   "id": "b26d8edd-d674-494b-83b4-35a9dccb36d0",
   "metadata": {},
   "outputs": [],
   "source": []
  },
  {
   "cell_type": "code",
   "execution_count": null,
   "id": "99498b34-930c-4c09-9b60-46b700c94c4c",
   "metadata": {},
   "outputs": [],
   "source": []
  }
 ],
 "metadata": {
  "kernelspec": {
   "display_name": "Python 3 (ipykernel)",
   "language": "python",
   "name": "python3"
  },
  "language_info": {
   "codemirror_mode": {
    "name": "ipython",
    "version": 3
   },
   "file_extension": ".py",
   "mimetype": "text/x-python",
   "name": "python",
   "nbconvert_exporter": "python",
   "pygments_lexer": "ipython3",
   "version": "3.11.5"
  }
 },
 "nbformat": 4,
 "nbformat_minor": 5
}
